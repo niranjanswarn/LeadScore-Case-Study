{
 "cells": [
  {
   "cell_type": "markdown",
   "metadata": {},
   "source": [
    "## Lead Score Case Study\n",
    "\n",
    "An education company named X Education sells online courses to industry professionals. On any given day, many professionals who are interested in the courses land on their website and browse for courses. "
   ]
  },
  {
   "cell_type": "markdown",
   "metadata": {},
   "source": [
    "### Step 1: Importing and Merging Data"
   ]
  },
  {
   "cell_type": "code",
   "execution_count": 1,
   "metadata": {},
   "outputs": [],
   "source": [
    "# Importing Pandas and NumPy\n",
    "import pandas as pd\n",
    "import numpy as np\n",
    "import matplotlib.pyplot as plt\n",
    "import seaborn as sns\n",
    "import warnings\n",
    "%matplotlib inline\n",
    "warnings.filterwarnings(\"ignore\")\n",
    "pd.options.display.max_rows = 999\n",
    "from sklearn.linear_model import LinearRegression"
   ]
  },
  {
   "cell_type": "code",
   "execution_count": 2,
   "metadata": {},
   "outputs": [
    {
     "data": {
      "text/html": [
       "<div>\n",
       "<style scoped>\n",
       "    .dataframe tbody tr th:only-of-type {\n",
       "        vertical-align: middle;\n",
       "    }\n",
       "\n",
       "    .dataframe tbody tr th {\n",
       "        vertical-align: top;\n",
       "    }\n",
       "\n",
       "    .dataframe thead th {\n",
       "        text-align: right;\n",
       "    }\n",
       "</style>\n",
       "<table border=\"1\" class=\"dataframe\">\n",
       "  <thead>\n",
       "    <tr style=\"text-align: right;\">\n",
       "      <th></th>\n",
       "      <th>Prospect ID</th>\n",
       "      <th>Lead Number</th>\n",
       "      <th>Lead Origin</th>\n",
       "      <th>Lead Source</th>\n",
       "      <th>Do Not Email</th>\n",
       "      <th>Do Not Call</th>\n",
       "      <th>Converted</th>\n",
       "      <th>TotalVisits</th>\n",
       "      <th>Total Time Spent on Website</th>\n",
       "      <th>Page Views Per Visit</th>\n",
       "      <th>...</th>\n",
       "      <th>Get updates on DM Content</th>\n",
       "      <th>Lead Profile</th>\n",
       "      <th>City</th>\n",
       "      <th>Asymmetrique Activity Index</th>\n",
       "      <th>Asymmetrique Profile Index</th>\n",
       "      <th>Asymmetrique Activity Score</th>\n",
       "      <th>Asymmetrique Profile Score</th>\n",
       "      <th>I agree to pay the amount through cheque</th>\n",
       "      <th>A free copy of Mastering The Interview</th>\n",
       "      <th>Last Notable Activity</th>\n",
       "    </tr>\n",
       "  </thead>\n",
       "  <tbody>\n",
       "    <tr>\n",
       "      <th>0</th>\n",
       "      <td>7927b2df-8bba-4d29-b9a2-b6e0beafe620</td>\n",
       "      <td>660737</td>\n",
       "      <td>API</td>\n",
       "      <td>Olark Chat</td>\n",
       "      <td>No</td>\n",
       "      <td>No</td>\n",
       "      <td>0</td>\n",
       "      <td>0.0</td>\n",
       "      <td>0</td>\n",
       "      <td>0.0</td>\n",
       "      <td>...</td>\n",
       "      <td>No</td>\n",
       "      <td>Select</td>\n",
       "      <td>Select</td>\n",
       "      <td>02.Medium</td>\n",
       "      <td>02.Medium</td>\n",
       "      <td>15.0</td>\n",
       "      <td>15.0</td>\n",
       "      <td>No</td>\n",
       "      <td>No</td>\n",
       "      <td>Modified</td>\n",
       "    </tr>\n",
       "    <tr>\n",
       "      <th>1</th>\n",
       "      <td>2a272436-5132-4136-86fa-dcc88c88f482</td>\n",
       "      <td>660728</td>\n",
       "      <td>API</td>\n",
       "      <td>Organic Search</td>\n",
       "      <td>No</td>\n",
       "      <td>No</td>\n",
       "      <td>0</td>\n",
       "      <td>5.0</td>\n",
       "      <td>674</td>\n",
       "      <td>2.5</td>\n",
       "      <td>...</td>\n",
       "      <td>No</td>\n",
       "      <td>Select</td>\n",
       "      <td>Select</td>\n",
       "      <td>02.Medium</td>\n",
       "      <td>02.Medium</td>\n",
       "      <td>15.0</td>\n",
       "      <td>15.0</td>\n",
       "      <td>No</td>\n",
       "      <td>No</td>\n",
       "      <td>Email Opened</td>\n",
       "    </tr>\n",
       "    <tr>\n",
       "      <th>2</th>\n",
       "      <td>8cc8c611-a219-4f35-ad23-fdfd2656bd8a</td>\n",
       "      <td>660727</td>\n",
       "      <td>Landing Page Submission</td>\n",
       "      <td>Direct Traffic</td>\n",
       "      <td>No</td>\n",
       "      <td>No</td>\n",
       "      <td>1</td>\n",
       "      <td>2.0</td>\n",
       "      <td>1532</td>\n",
       "      <td>2.0</td>\n",
       "      <td>...</td>\n",
       "      <td>No</td>\n",
       "      <td>Potential Lead</td>\n",
       "      <td>Mumbai</td>\n",
       "      <td>02.Medium</td>\n",
       "      <td>01.High</td>\n",
       "      <td>14.0</td>\n",
       "      <td>20.0</td>\n",
       "      <td>No</td>\n",
       "      <td>Yes</td>\n",
       "      <td>Email Opened</td>\n",
       "    </tr>\n",
       "    <tr>\n",
       "      <th>3</th>\n",
       "      <td>0cc2df48-7cf4-4e39-9de9-19797f9b38cc</td>\n",
       "      <td>660719</td>\n",
       "      <td>Landing Page Submission</td>\n",
       "      <td>Direct Traffic</td>\n",
       "      <td>No</td>\n",
       "      <td>No</td>\n",
       "      <td>0</td>\n",
       "      <td>1.0</td>\n",
       "      <td>305</td>\n",
       "      <td>1.0</td>\n",
       "      <td>...</td>\n",
       "      <td>No</td>\n",
       "      <td>Select</td>\n",
       "      <td>Mumbai</td>\n",
       "      <td>02.Medium</td>\n",
       "      <td>01.High</td>\n",
       "      <td>13.0</td>\n",
       "      <td>17.0</td>\n",
       "      <td>No</td>\n",
       "      <td>No</td>\n",
       "      <td>Modified</td>\n",
       "    </tr>\n",
       "    <tr>\n",
       "      <th>4</th>\n",
       "      <td>3256f628-e534-4826-9d63-4a8b88782852</td>\n",
       "      <td>660681</td>\n",
       "      <td>Landing Page Submission</td>\n",
       "      <td>Google</td>\n",
       "      <td>No</td>\n",
       "      <td>No</td>\n",
       "      <td>1</td>\n",
       "      <td>2.0</td>\n",
       "      <td>1428</td>\n",
       "      <td>1.0</td>\n",
       "      <td>...</td>\n",
       "      <td>No</td>\n",
       "      <td>Select</td>\n",
       "      <td>Mumbai</td>\n",
       "      <td>02.Medium</td>\n",
       "      <td>01.High</td>\n",
       "      <td>15.0</td>\n",
       "      <td>18.0</td>\n",
       "      <td>No</td>\n",
       "      <td>No</td>\n",
       "      <td>Modified</td>\n",
       "    </tr>\n",
       "  </tbody>\n",
       "</table>\n",
       "<p>5 rows × 37 columns</p>\n",
       "</div>"
      ],
      "text/plain": [
       "                            Prospect ID  Lead Number              Lead Origin  \\\n",
       "0  7927b2df-8bba-4d29-b9a2-b6e0beafe620       660737                      API   \n",
       "1  2a272436-5132-4136-86fa-dcc88c88f482       660728                      API   \n",
       "2  8cc8c611-a219-4f35-ad23-fdfd2656bd8a       660727  Landing Page Submission   \n",
       "3  0cc2df48-7cf4-4e39-9de9-19797f9b38cc       660719  Landing Page Submission   \n",
       "4  3256f628-e534-4826-9d63-4a8b88782852       660681  Landing Page Submission   \n",
       "\n",
       "      Lead Source Do Not Email Do Not Call  Converted  TotalVisits  \\\n",
       "0      Olark Chat           No          No          0          0.0   \n",
       "1  Organic Search           No          No          0          5.0   \n",
       "2  Direct Traffic           No          No          1          2.0   \n",
       "3  Direct Traffic           No          No          0          1.0   \n",
       "4          Google           No          No          1          2.0   \n",
       "\n",
       "   Total Time Spent on Website  Page Views Per Visit  ...  \\\n",
       "0                            0                   0.0  ...   \n",
       "1                          674                   2.5  ...   \n",
       "2                         1532                   2.0  ...   \n",
       "3                          305                   1.0  ...   \n",
       "4                         1428                   1.0  ...   \n",
       "\n",
       "  Get updates on DM Content    Lead Profile    City  \\\n",
       "0                        No          Select  Select   \n",
       "1                        No          Select  Select   \n",
       "2                        No  Potential Lead  Mumbai   \n",
       "3                        No          Select  Mumbai   \n",
       "4                        No          Select  Mumbai   \n",
       "\n",
       "  Asymmetrique Activity Index Asymmetrique Profile Index  \\\n",
       "0                   02.Medium                  02.Medium   \n",
       "1                   02.Medium                  02.Medium   \n",
       "2                   02.Medium                    01.High   \n",
       "3                   02.Medium                    01.High   \n",
       "4                   02.Medium                    01.High   \n",
       "\n",
       "  Asymmetrique Activity Score Asymmetrique Profile Score  \\\n",
       "0                        15.0                       15.0   \n",
       "1                        15.0                       15.0   \n",
       "2                        14.0                       20.0   \n",
       "3                        13.0                       17.0   \n",
       "4                        15.0                       18.0   \n",
       "\n",
       "  I agree to pay the amount through cheque  \\\n",
       "0                                       No   \n",
       "1                                       No   \n",
       "2                                       No   \n",
       "3                                       No   \n",
       "4                                       No   \n",
       "\n",
       "  A free copy of Mastering The Interview Last Notable Activity  \n",
       "0                                     No              Modified  \n",
       "1                                     No          Email Opened  \n",
       "2                                    Yes          Email Opened  \n",
       "3                                     No              Modified  \n",
       "4                                     No              Modified  \n",
       "\n",
       "[5 rows x 37 columns]"
      ]
     },
     "execution_count": 2,
     "metadata": {},
     "output_type": "execute_result"
    }
   ],
   "source": [
    "# Importing Leads datasets\n",
    "Leads_data = pd.read_csv(\"Leads.csv\")\n",
    "Leads_data.head()"
   ]
  },
  {
   "cell_type": "code",
   "execution_count": 3,
   "metadata": {},
   "outputs": [
    {
     "data": {
      "text/plain": [
       "(9240, 37)"
      ]
     },
     "execution_count": 3,
     "metadata": {},
     "output_type": "execute_result"
    }
   ],
   "source": [
    "#Total observation of Leads file\n",
    "Leads_data.shape"
   ]
  },
  {
   "cell_type": "code",
   "execution_count": 4,
   "metadata": {},
   "outputs": [
    {
     "name": "stdout",
     "output_type": "stream",
     "text": [
      "<class 'pandas.core.frame.DataFrame'>\n",
      "RangeIndex: 9240 entries, 0 to 9239\n",
      "Data columns (total 37 columns):\n",
      " #   Column                                         Non-Null Count  Dtype  \n",
      "---  ------                                         --------------  -----  \n",
      " 0   Prospect ID                                    9240 non-null   object \n",
      " 1   Lead Number                                    9240 non-null   int64  \n",
      " 2   Lead Origin                                    9240 non-null   object \n",
      " 3   Lead Source                                    9204 non-null   object \n",
      " 4   Do Not Email                                   9240 non-null   object \n",
      " 5   Do Not Call                                    9240 non-null   object \n",
      " 6   Converted                                      9240 non-null   int64  \n",
      " 7   TotalVisits                                    9103 non-null   float64\n",
      " 8   Total Time Spent on Website                    9240 non-null   int64  \n",
      " 9   Page Views Per Visit                           9103 non-null   float64\n",
      " 10  Last Activity                                  9137 non-null   object \n",
      " 11  Country                                        6779 non-null   object \n",
      " 12  Specialization                                 7802 non-null   object \n",
      " 13  How did you hear about X Education             7033 non-null   object \n",
      " 14  What is your current occupation                6550 non-null   object \n",
      " 15  What matters most to you in choosing a course  6531 non-null   object \n",
      " 16  Search                                         9240 non-null   object \n",
      " 17  Magazine                                       9240 non-null   object \n",
      " 18  Newspaper Article                              9240 non-null   object \n",
      " 19  X Education Forums                             9240 non-null   object \n",
      " 20  Newspaper                                      9240 non-null   object \n",
      " 21  Digital Advertisement                          9240 non-null   object \n",
      " 22  Through Recommendations                        9240 non-null   object \n",
      " 23  Receive More Updates About Our Courses         9240 non-null   object \n",
      " 24  Tags                                           5887 non-null   object \n",
      " 25  Lead Quality                                   4473 non-null   object \n",
      " 26  Update me on Supply Chain Content              9240 non-null   object \n",
      " 27  Get updates on DM Content                      9240 non-null   object \n",
      " 28  Lead Profile                                   6531 non-null   object \n",
      " 29  City                                           7820 non-null   object \n",
      " 30  Asymmetrique Activity Index                    5022 non-null   object \n",
      " 31  Asymmetrique Profile Index                     5022 non-null   object \n",
      " 32  Asymmetrique Activity Score                    5022 non-null   float64\n",
      " 33  Asymmetrique Profile Score                     5022 non-null   float64\n",
      " 34  I agree to pay the amount through cheque       9240 non-null   object \n",
      " 35  A free copy of Mastering The Interview         9240 non-null   object \n",
      " 36  Last Notable Activity                          9240 non-null   object \n",
      "dtypes: float64(4), int64(3), object(30)\n",
      "memory usage: 2.6+ MB\n"
     ]
    }
   ],
   "source": [
    "# Checking all information about columns\n",
    "Leads_data.info()"
   ]
  },
  {
   "cell_type": "code",
   "execution_count": 5,
   "metadata": {},
   "outputs": [
    {
     "data": {
      "text/html": [
       "<div>\n",
       "<style scoped>\n",
       "    .dataframe tbody tr th:only-of-type {\n",
       "        vertical-align: middle;\n",
       "    }\n",
       "\n",
       "    .dataframe tbody tr th {\n",
       "        vertical-align: top;\n",
       "    }\n",
       "\n",
       "    .dataframe thead th {\n",
       "        text-align: right;\n",
       "    }\n",
       "</style>\n",
       "<table border=\"1\" class=\"dataframe\">\n",
       "  <thead>\n",
       "    <tr style=\"text-align: right;\">\n",
       "      <th></th>\n",
       "      <th>Lead Number</th>\n",
       "      <th>Converted</th>\n",
       "      <th>TotalVisits</th>\n",
       "      <th>Total Time Spent on Website</th>\n",
       "      <th>Page Views Per Visit</th>\n",
       "      <th>Asymmetrique Activity Score</th>\n",
       "      <th>Asymmetrique Profile Score</th>\n",
       "    </tr>\n",
       "  </thead>\n",
       "  <tbody>\n",
       "    <tr>\n",
       "      <th>count</th>\n",
       "      <td>9240.000000</td>\n",
       "      <td>9240.000000</td>\n",
       "      <td>9103.000000</td>\n",
       "      <td>9240.000000</td>\n",
       "      <td>9103.000000</td>\n",
       "      <td>5022.000000</td>\n",
       "      <td>5022.000000</td>\n",
       "    </tr>\n",
       "    <tr>\n",
       "      <th>mean</th>\n",
       "      <td>617188.435606</td>\n",
       "      <td>0.385390</td>\n",
       "      <td>3.445238</td>\n",
       "      <td>487.698268</td>\n",
       "      <td>2.362820</td>\n",
       "      <td>14.306252</td>\n",
       "      <td>16.344883</td>\n",
       "    </tr>\n",
       "    <tr>\n",
       "      <th>std</th>\n",
       "      <td>23405.995698</td>\n",
       "      <td>0.486714</td>\n",
       "      <td>4.854853</td>\n",
       "      <td>548.021466</td>\n",
       "      <td>2.161418</td>\n",
       "      <td>1.386694</td>\n",
       "      <td>1.811395</td>\n",
       "    </tr>\n",
       "    <tr>\n",
       "      <th>min</th>\n",
       "      <td>579533.000000</td>\n",
       "      <td>0.000000</td>\n",
       "      <td>0.000000</td>\n",
       "      <td>0.000000</td>\n",
       "      <td>0.000000</td>\n",
       "      <td>7.000000</td>\n",
       "      <td>11.000000</td>\n",
       "    </tr>\n",
       "    <tr>\n",
       "      <th>25%</th>\n",
       "      <td>596484.500000</td>\n",
       "      <td>0.000000</td>\n",
       "      <td>1.000000</td>\n",
       "      <td>12.000000</td>\n",
       "      <td>1.000000</td>\n",
       "      <td>14.000000</td>\n",
       "      <td>15.000000</td>\n",
       "    </tr>\n",
       "    <tr>\n",
       "      <th>50%</th>\n",
       "      <td>615479.000000</td>\n",
       "      <td>0.000000</td>\n",
       "      <td>3.000000</td>\n",
       "      <td>248.000000</td>\n",
       "      <td>2.000000</td>\n",
       "      <td>14.000000</td>\n",
       "      <td>16.000000</td>\n",
       "    </tr>\n",
       "    <tr>\n",
       "      <th>75%</th>\n",
       "      <td>637387.250000</td>\n",
       "      <td>1.000000</td>\n",
       "      <td>5.000000</td>\n",
       "      <td>936.000000</td>\n",
       "      <td>3.000000</td>\n",
       "      <td>15.000000</td>\n",
       "      <td>18.000000</td>\n",
       "    </tr>\n",
       "    <tr>\n",
       "      <th>max</th>\n",
       "      <td>660737.000000</td>\n",
       "      <td>1.000000</td>\n",
       "      <td>251.000000</td>\n",
       "      <td>2272.000000</td>\n",
       "      <td>55.000000</td>\n",
       "      <td>18.000000</td>\n",
       "      <td>20.000000</td>\n",
       "    </tr>\n",
       "  </tbody>\n",
       "</table>\n",
       "</div>"
      ],
      "text/plain": [
       "         Lead Number    Converted  TotalVisits  Total Time Spent on Website  \\\n",
       "count    9240.000000  9240.000000  9103.000000                  9240.000000   \n",
       "mean   617188.435606     0.385390     3.445238                   487.698268   \n",
       "std     23405.995698     0.486714     4.854853                   548.021466   \n",
       "min    579533.000000     0.000000     0.000000                     0.000000   \n",
       "25%    596484.500000     0.000000     1.000000                    12.000000   \n",
       "50%    615479.000000     0.000000     3.000000                   248.000000   \n",
       "75%    637387.250000     1.000000     5.000000                   936.000000   \n",
       "max    660737.000000     1.000000   251.000000                  2272.000000   \n",
       "\n",
       "       Page Views Per Visit  Asymmetrique Activity Score  \\\n",
       "count           9103.000000                  5022.000000   \n",
       "mean               2.362820                    14.306252   \n",
       "std                2.161418                     1.386694   \n",
       "min                0.000000                     7.000000   \n",
       "25%                1.000000                    14.000000   \n",
       "50%                2.000000                    14.000000   \n",
       "75%                3.000000                    15.000000   \n",
       "max               55.000000                    18.000000   \n",
       "\n",
       "       Asymmetrique Profile Score  \n",
       "count                 5022.000000  \n",
       "mean                    16.344883  \n",
       "std                      1.811395  \n",
       "min                     11.000000  \n",
       "25%                     15.000000  \n",
       "50%                     16.000000  \n",
       "75%                     18.000000  \n",
       "max                     20.000000  "
      ]
     },
     "execution_count": 5,
     "metadata": {},
     "output_type": "execute_result"
    }
   ],
   "source": [
    "#Checking the statistical data \n",
    "Leads_data.describe()"
   ]
  },
  {
   "cell_type": "code",
   "execution_count": 6,
   "metadata": {},
   "outputs": [
    {
     "data": {
      "text/plain": [
       "Prospect ID                                         0\n",
       "Lead Number                                         0\n",
       "Lead Origin                                         0\n",
       "Lead Source                                        36\n",
       "Do Not Email                                        0\n",
       "Do Not Call                                         0\n",
       "Converted                                           0\n",
       "TotalVisits                                       137\n",
       "Total Time Spent on Website                         0\n",
       "Page Views Per Visit                              137\n",
       "Last Activity                                     103\n",
       "Country                                          2461\n",
       "Specialization                                   1438\n",
       "How did you hear about X Education               2207\n",
       "What is your current occupation                  2690\n",
       "What matters most to you in choosing a course    2709\n",
       "Search                                              0\n",
       "Magazine                                            0\n",
       "Newspaper Article                                   0\n",
       "X Education Forums                                  0\n",
       "Newspaper                                           0\n",
       "Digital Advertisement                               0\n",
       "Through Recommendations                             0\n",
       "Receive More Updates About Our Courses              0\n",
       "Tags                                             3353\n",
       "Lead Quality                                     4767\n",
       "Update me on Supply Chain Content                   0\n",
       "Get updates on DM Content                           0\n",
       "Lead Profile                                     2709\n",
       "City                                             1420\n",
       "Asymmetrique Activity Index                      4218\n",
       "Asymmetrique Profile Index                       4218\n",
       "Asymmetrique Activity Score                      4218\n",
       "Asymmetrique Profile Score                       4218\n",
       "I agree to pay the amount through cheque            0\n",
       "A free copy of Mastering The Interview              0\n",
       "Last Notable Activity                               0\n",
       "dtype: int64"
      ]
     },
     "execution_count": 6,
     "metadata": {},
     "output_type": "execute_result"
    }
   ],
   "source": [
    "#Checking the NAN count in all columns\n",
    "Leads_data.isnull().sum()"
   ]
  },
  {
   "cell_type": "code",
   "execution_count": 7,
   "metadata": {},
   "outputs": [
    {
     "data": {
      "text/plain": [
       "Prospect ID                                       0.00\n",
       "Lead Number                                       0.00\n",
       "Lead Origin                                       0.00\n",
       "Lead Source                                       0.39\n",
       "Do Not Email                                      0.00\n",
       "Do Not Call                                       0.00\n",
       "Converted                                         0.00\n",
       "TotalVisits                                       1.48\n",
       "Total Time Spent on Website                       0.00\n",
       "Page Views Per Visit                              1.48\n",
       "Last Activity                                     1.11\n",
       "Country                                          26.63\n",
       "Specialization                                   15.56\n",
       "How did you hear about X Education               23.89\n",
       "What is your current occupation                  29.11\n",
       "What matters most to you in choosing a course    29.32\n",
       "Search                                            0.00\n",
       "Magazine                                          0.00\n",
       "Newspaper Article                                 0.00\n",
       "X Education Forums                                0.00\n",
       "Newspaper                                         0.00\n",
       "Digital Advertisement                             0.00\n",
       "Through Recommendations                           0.00\n",
       "Receive More Updates About Our Courses            0.00\n",
       "Tags                                             36.29\n",
       "Lead Quality                                     51.59\n",
       "Update me on Supply Chain Content                 0.00\n",
       "Get updates on DM Content                         0.00\n",
       "Lead Profile                                     29.32\n",
       "City                                             15.37\n",
       "Asymmetrique Activity Index                      45.65\n",
       "Asymmetrique Profile Index                       45.65\n",
       "Asymmetrique Activity Score                      45.65\n",
       "Asymmetrique Profile Score                       45.65\n",
       "I agree to pay the amount through cheque          0.00\n",
       "A free copy of Mastering The Interview            0.00\n",
       "Last Notable Activity                             0.00\n",
       "dtype: float64"
      ]
     },
     "execution_count": 7,
     "metadata": {},
     "output_type": "execute_result"
    }
   ],
   "source": [
    "# Checking the percentage of missing values\n",
    "round(100*(Leads_data.isnull().sum()/len(Leads_data.index)), 2)"
   ]
  },
  {
   "cell_type": "code",
   "execution_count": 8,
   "metadata": {},
   "outputs": [],
   "source": [
    "# Converting all the values to lower case\n",
    "Leads_data = Leads_data.applymap(lambda s:s.lower() if type(s) == str else s)"
   ]
  },
  {
   "cell_type": "code",
   "execution_count": 9,
   "metadata": {},
   "outputs": [],
   "source": [
    "# Replace \"select\" with \"NAN\"\n",
    "Leads_data = Leads_data.replace('select',np.nan)"
   ]
  },
  {
   "cell_type": "code",
   "execution_count": 10,
   "metadata": {},
   "outputs": [
    {
     "data": {
      "text/plain": [
       "Prospect ID                                       0.00\n",
       "Lead Number                                       0.00\n",
       "Lead Origin                                       0.00\n",
       "Lead Source                                       0.39\n",
       "Do Not Email                                      0.00\n",
       "Do Not Call                                       0.00\n",
       "Converted                                         0.00\n",
       "TotalVisits                                       1.48\n",
       "Total Time Spent on Website                       0.00\n",
       "Page Views Per Visit                              1.48\n",
       "Last Activity                                     1.11\n",
       "Country                                          26.63\n",
       "Specialization                                   36.58\n",
       "How did you hear about X Education               78.46\n",
       "What is your current occupation                  29.11\n",
       "What matters most to you in choosing a course    29.32\n",
       "Search                                            0.00\n",
       "Magazine                                          0.00\n",
       "Newspaper Article                                 0.00\n",
       "X Education Forums                                0.00\n",
       "Newspaper                                         0.00\n",
       "Digital Advertisement                             0.00\n",
       "Through Recommendations                           0.00\n",
       "Receive More Updates About Our Courses            0.00\n",
       "Tags                                             36.29\n",
       "Lead Quality                                     51.59\n",
       "Update me on Supply Chain Content                 0.00\n",
       "Get updates on DM Content                         0.00\n",
       "Lead Profile                                     74.19\n",
       "City                                             39.71\n",
       "Asymmetrique Activity Index                      45.65\n",
       "Asymmetrique Profile Index                       45.65\n",
       "Asymmetrique Activity Score                      45.65\n",
       "Asymmetrique Profile Score                       45.65\n",
       "I agree to pay the amount through cheque          0.00\n",
       "A free copy of Mastering The Interview            0.00\n",
       "Last Notable Activity                             0.00\n",
       "dtype: float64"
      ]
     },
     "execution_count": 10,
     "metadata": {},
     "output_type": "execute_result"
    }
   ],
   "source": [
    "# Checking the percentage of missing values\n",
    "round(100*(Leads_data.isnull().sum()/len(Leads_data.index)), 2)"
   ]
  },
  {
   "cell_type": "markdown",
   "metadata": {},
   "source": [
    "#### Drop the columns which are having high percentage of missing value and ID's columns"
   ]
  },
  {
   "cell_type": "code",
   "execution_count": 11,
   "metadata": {},
   "outputs": [],
   "source": [
    "Leads_data.drop([\"Asymmetrique Activity Index\",\"Asymmetrique Profile Index\",\n",
    "                 \"Asymmetrique Activity Score\",\"Asymmetrique Profile Score\", \"Lead Quality\", \n",
    "                 \"Tags\", \"How did you hear about X Education\",\n",
    "                \"What matters most to you in choosing a course\",\"Lead Profile\",\n",
    "                 \"Receive More Updates About Our Courses\",\"Update me on Supply Chain Content\",\n",
    "                \"Get updates on DM Content\",\"I agree to pay the amount through cheque\",\"Prospect ID\",\"City\",\n",
    "                 \"Magazine\",\"Lead Number\"],axis=1, inplace=True)"
   ]
  },
  {
   "cell_type": "code",
   "execution_count": 12,
   "metadata": {},
   "outputs": [
    {
     "data": {
      "text/plain": [
       "(9240, 20)"
      ]
     },
     "execution_count": 12,
     "metadata": {},
     "output_type": "execute_result"
    }
   ],
   "source": [
    "# Checking the total row and columns after droping the columns\n",
    "Leads_data.shape"
   ]
  },
  {
   "cell_type": "code",
   "execution_count": 13,
   "metadata": {},
   "outputs": [
    {
     "name": "stdout",
     "output_type": "stream",
     "text": [
      "<class 'pandas.core.frame.DataFrame'>\n",
      "RangeIndex: 9240 entries, 0 to 9239\n",
      "Data columns (total 20 columns):\n",
      " #   Column                                  Non-Null Count  Dtype  \n",
      "---  ------                                  --------------  -----  \n",
      " 0   Lead Origin                             9240 non-null   object \n",
      " 1   Lead Source                             9204 non-null   object \n",
      " 2   Do Not Email                            9240 non-null   object \n",
      " 3   Do Not Call                             9240 non-null   object \n",
      " 4   Converted                               9240 non-null   int64  \n",
      " 5   TotalVisits                             9103 non-null   float64\n",
      " 6   Total Time Spent on Website             9240 non-null   int64  \n",
      " 7   Page Views Per Visit                    9103 non-null   float64\n",
      " 8   Last Activity                           9137 non-null   object \n",
      " 9   Country                                 9240 non-null   object \n",
      " 10  Specialization                          9240 non-null   object \n",
      " 11  What is your current occupation         9240 non-null   object \n",
      " 12  Search                                  9240 non-null   object \n",
      " 13  Newspaper Article                       9240 non-null   object \n",
      " 14  X Education Forums                      9240 non-null   object \n",
      " 15  Newspaper                               9240 non-null   object \n",
      " 16  Digital Advertisement                   9240 non-null   object \n",
      " 17  Through Recommendations                 9240 non-null   object \n",
      " 18  A free copy of Mastering The Interview  9240 non-null   object \n",
      " 19  Last Notable Activity                   9240 non-null   object \n",
      "dtypes: float64(2), int64(2), object(16)\n",
      "memory usage: 1.4+ MB\n"
     ]
    }
   ],
   "source": [
    "# filled \"NAN\" with \"not provided\" value because categories was not selected by customers\n",
    "Leads_data['Specialization'] = Leads_data['Specialization'].fillna('not provided') \n",
    "Leads_data['Country'] = Leads_data['Country'].fillna('not provided')\n",
    "Leads_data['What is your current occupation'] = Leads_data['What is your current occupation'].fillna('not provided')\n",
    "Leads_data.info()"
   ]
  },
  {
   "cell_type": "code",
   "execution_count": 14,
   "metadata": {},
   "outputs": [
    {
     "data": {
      "text/plain": [
       "Lead Origin                               0.00\n",
       "Lead Source                               0.39\n",
       "Do Not Email                              0.00\n",
       "Do Not Call                               0.00\n",
       "Converted                                 0.00\n",
       "TotalVisits                               1.48\n",
       "Total Time Spent on Website               0.00\n",
       "Page Views Per Visit                      1.48\n",
       "Last Activity                             1.11\n",
       "Country                                   0.00\n",
       "Specialization                            0.00\n",
       "What is your current occupation           0.00\n",
       "Search                                    0.00\n",
       "Newspaper Article                         0.00\n",
       "X Education Forums                        0.00\n",
       "Newspaper                                 0.00\n",
       "Digital Advertisement                     0.00\n",
       "Through Recommendations                   0.00\n",
       "A free copy of Mastering The Interview    0.00\n",
       "Last Notable Activity                     0.00\n",
       "dtype: float64"
      ]
     },
     "execution_count": 14,
     "metadata": {},
     "output_type": "execute_result"
    }
   ],
   "source": [
    "# Checking the percentage of missing values\n",
    "round(100*(Leads_data.isnull().sum()/len(Leads_data.index)), 2)"
   ]
  },
  {
   "cell_type": "code",
   "execution_count": 15,
   "metadata": {},
   "outputs": [
    {
     "name": "stdout",
     "output_type": "stream",
     "text": [
      "<class 'pandas.core.frame.DataFrame'>\n",
      "RangeIndex: 9240 entries, 0 to 9239\n",
      "Data columns (total 20 columns):\n",
      " #   Column                                  Non-Null Count  Dtype  \n",
      "---  ------                                  --------------  -----  \n",
      " 0   Lead Origin                             9240 non-null   object \n",
      " 1   Lead Source                             9204 non-null   object \n",
      " 2   Do Not Email                            9240 non-null   object \n",
      " 3   Do Not Call                             9240 non-null   object \n",
      " 4   Converted                               9240 non-null   int64  \n",
      " 5   TotalVisits                             9103 non-null   float64\n",
      " 6   Total Time Spent on Website             9240 non-null   int64  \n",
      " 7   Page Views Per Visit                    9103 non-null   float64\n",
      " 8   Last Activity                           9137 non-null   object \n",
      " 9   Country                                 9240 non-null   object \n",
      " 10  Specialization                          9240 non-null   object \n",
      " 11  What is your current occupation         9240 non-null   object \n",
      " 12  Search                                  9240 non-null   object \n",
      " 13  Newspaper Article                       9240 non-null   object \n",
      " 14  X Education Forums                      9240 non-null   object \n",
      " 15  Newspaper                               9240 non-null   object \n",
      " 16  Digital Advertisement                   9240 non-null   object \n",
      " 17  Through Recommendations                 9240 non-null   object \n",
      " 18  A free copy of Mastering The Interview  9240 non-null   object \n",
      " 19  Last Notable Activity                   9240 non-null   object \n",
      "dtypes: float64(2), int64(2), object(16)\n",
      "memory usage: 1.4+ MB\n"
     ]
    }
   ],
   "source": [
    "Leads_data.info()"
   ]
  },
  {
   "cell_type": "code",
   "execution_count": 16,
   "metadata": {},
   "outputs": [
    {
     "data": {
      "text/plain": [
       "Lead Origin                                 0\n",
       "Lead Source                                36\n",
       "Do Not Email                                0\n",
       "Do Not Call                                 0\n",
       "Converted                                   0\n",
       "TotalVisits                               137\n",
       "Total Time Spent on Website                 0\n",
       "Page Views Per Visit                      137\n",
       "Last Activity                             103\n",
       "Country                                     0\n",
       "Specialization                              0\n",
       "What is your current occupation             0\n",
       "Search                                      0\n",
       "Newspaper Article                           0\n",
       "X Education Forums                          0\n",
       "Newspaper                                   0\n",
       "Digital Advertisement                       0\n",
       "Through Recommendations                     0\n",
       "A free copy of Mastering The Interview      0\n",
       "Last Notable Activity                       0\n",
       "dtype: int64"
      ]
     },
     "execution_count": 16,
     "metadata": {},
     "output_type": "execute_result"
    }
   ],
   "source": [
    "#Checking the NAN count\n",
    "Leads_data.isnull().sum()"
   ]
  },
  {
   "cell_type": "markdown",
   "metadata": {},
   "source": [
    "#### Checking the missing valuse and manipulate them"
   ]
  },
  {
   "cell_type": "code",
   "execution_count": 17,
   "metadata": {},
   "outputs": [
    {
     "data": {
      "text/plain": [
       "google               2873\n",
       "direct traffic       2543\n",
       "olark chat           1755\n",
       "organic search       1154\n",
       "reference             534\n",
       "welingak website      142\n",
       "referral sites        125\n",
       "facebook               55\n",
       "bing                    6\n",
       "click2call              4\n",
       "social media            2\n",
       "live chat               2\n",
       "press_release           2\n",
       "pay per click ads       1\n",
       "blog                    1\n",
       "welearn                 1\n",
       "welearnblog_home        1\n",
       "youtubechannel          1\n",
       "testone                 1\n",
       "nc_edm                  1\n",
       "Name: Lead Source, dtype: int64"
      ]
     },
     "execution_count": 17,
     "metadata": {},
     "output_type": "execute_result"
    }
   ],
   "source": [
    "Leads_data[\"Lead Source\"].value_counts()"
   ]
  },
  {
   "cell_type": "code",
   "execution_count": 18,
   "metadata": {},
   "outputs": [],
   "source": [
    "# replace \"NAN\" with most used source\n",
    "Leads_data[\"Lead Source\"].fillna(Leads_data[\"Lead Source\"].mode()[0],inplace=True)"
   ]
  },
  {
   "cell_type": "code",
   "execution_count": 19,
   "metadata": {},
   "outputs": [
    {
     "data": {
      "text/plain": [
       "google               2909\n",
       "direct traffic       2543\n",
       "olark chat           1755\n",
       "organic search       1154\n",
       "reference             534\n",
       "welingak website      142\n",
       "referral sites        125\n",
       "facebook               55\n",
       "bing                    6\n",
       "click2call              4\n",
       "social media            2\n",
       "live chat               2\n",
       "press_release           2\n",
       "pay per click ads       1\n",
       "blog                    1\n",
       "welearn                 1\n",
       "welearnblog_home        1\n",
       "youtubechannel          1\n",
       "testone                 1\n",
       "nc_edm                  1\n",
       "Name: Lead Source, dtype: int64"
      ]
     },
     "execution_count": 19,
     "metadata": {},
     "output_type": "execute_result"
    }
   ],
   "source": [
    "# Check the counts\n",
    "Leads_data[\"Lead Source\"].value_counts()"
   ]
  },
  {
   "cell_type": "code",
   "execution_count": 20,
   "metadata": {},
   "outputs": [],
   "source": [
    "# Replacing the \"NAN\" with 0 or most used category\n",
    "Leads_data[\"TotalVisits\"].fillna(0,inplace=True)\n",
    "Leads_data[\"Page Views Per Visit\"].fillna(0,inplace=True)\n",
    "Leads_data[\"Last Activity\"].fillna(Leads_data[\"Last Activity\"].mode()[0],inplace=True)"
   ]
  },
  {
   "cell_type": "code",
   "execution_count": 21,
   "metadata": {},
   "outputs": [
    {
     "data": {
      "text/plain": [
       "Lead Origin                               0\n",
       "Lead Source                               0\n",
       "Do Not Email                              0\n",
       "Do Not Call                               0\n",
       "Converted                                 0\n",
       "TotalVisits                               0\n",
       "Total Time Spent on Website               0\n",
       "Page Views Per Visit                      0\n",
       "Last Activity                             0\n",
       "Country                                   0\n",
       "Specialization                            0\n",
       "What is your current occupation           0\n",
       "Search                                    0\n",
       "Newspaper Article                         0\n",
       "X Education Forums                        0\n",
       "Newspaper                                 0\n",
       "Digital Advertisement                     0\n",
       "Through Recommendations                   0\n",
       "A free copy of Mastering The Interview    0\n",
       "Last Notable Activity                     0\n",
       "dtype: int64"
      ]
     },
     "execution_count": 21,
     "metadata": {},
     "output_type": "execute_result"
    }
   ],
   "source": [
    "# Cheking the missing value after manipulated the missing data \n",
    "Leads_data.isnull().sum()"
   ]
  },
  {
   "cell_type": "code",
   "execution_count": 22,
   "metadata": {},
   "outputs": [
    {
     "name": "stdout",
     "output_type": "stream",
     "text": [
      "<class 'pandas.core.frame.DataFrame'>\n",
      "RangeIndex: 9240 entries, 0 to 9239\n",
      "Data columns (total 20 columns):\n",
      " #   Column                                  Non-Null Count  Dtype  \n",
      "---  ------                                  --------------  -----  \n",
      " 0   Lead Origin                             9240 non-null   object \n",
      " 1   Lead Source                             9240 non-null   object \n",
      " 2   Do Not Email                            9240 non-null   object \n",
      " 3   Do Not Call                             9240 non-null   object \n",
      " 4   Converted                               9240 non-null   int64  \n",
      " 5   TotalVisits                             9240 non-null   float64\n",
      " 6   Total Time Spent on Website             9240 non-null   int64  \n",
      " 7   Page Views Per Visit                    9240 non-null   float64\n",
      " 8   Last Activity                           9240 non-null   object \n",
      " 9   Country                                 9240 non-null   object \n",
      " 10  Specialization                          9240 non-null   object \n",
      " 11  What is your current occupation         9240 non-null   object \n",
      " 12  Search                                  9240 non-null   object \n",
      " 13  Newspaper Article                       9240 non-null   object \n",
      " 14  X Education Forums                      9240 non-null   object \n",
      " 15  Newspaper                               9240 non-null   object \n",
      " 16  Digital Advertisement                   9240 non-null   object \n",
      " 17  Through Recommendations                 9240 non-null   object \n",
      " 18  A free copy of Mastering The Interview  9240 non-null   object \n",
      " 19  Last Notable Activity                   9240 non-null   object \n",
      "dtypes: float64(2), int64(2), object(16)\n",
      "memory usage: 1.4+ MB\n"
     ]
    }
   ],
   "source": [
    "#Checking the info for all columns\n",
    "Leads_data.info()"
   ]
  },
  {
   "cell_type": "markdown",
   "metadata": {},
   "source": [
    "#### Checking the number of unique categories in each categorical columns"
   ]
  },
  {
   "cell_type": "code",
   "execution_count": 23,
   "metadata": {},
   "outputs": [
    {
     "data": {
      "text/plain": [
       "landing page submission    4886\n",
       "api                        3580\n",
       "lead add form               718\n",
       "lead import                  55\n",
       "quick add form                1\n",
       "Name: Lead Origin, dtype: int64"
      ]
     },
     "execution_count": 23,
     "metadata": {},
     "output_type": "execute_result"
    }
   ],
   "source": [
    "Leads_data[\"Lead Origin\"].value_counts()"
   ]
  },
  {
   "cell_type": "code",
   "execution_count": 24,
   "metadata": {},
   "outputs": [
    {
     "data": {
      "text/plain": [
       "google               2909\n",
       "direct traffic       2543\n",
       "olark chat           1755\n",
       "organic search       1154\n",
       "reference             534\n",
       "welingak website      142\n",
       "referral sites        125\n",
       "facebook               55\n",
       "bing                    6\n",
       "click2call              4\n",
       "social media            2\n",
       "live chat               2\n",
       "press_release           2\n",
       "pay per click ads       1\n",
       "blog                    1\n",
       "welearn                 1\n",
       "welearnblog_home        1\n",
       "youtubechannel          1\n",
       "testone                 1\n",
       "nc_edm                  1\n",
       "Name: Lead Source, dtype: int64"
      ]
     },
     "execution_count": 24,
     "metadata": {},
     "output_type": "execute_result"
    }
   ],
   "source": [
    "Leads_data[\"Lead Source\"].value_counts()"
   ]
  },
  {
   "cell_type": "code",
   "execution_count": 25,
   "metadata": {},
   "outputs": [
    {
     "data": {
      "text/plain": [
       "google              2909\n",
       "direct traffic      2543\n",
       "olark chat          1755\n",
       "organic search      1154\n",
       "reference            534\n",
       "welingak website     142\n",
       "referral sites       125\n",
       "facebook              55\n",
       "Other Source          23\n",
       "Name: Lead Source, dtype: int64"
      ]
     },
     "execution_count": 25,
     "metadata": {},
     "output_type": "execute_result"
    }
   ],
   "source": [
    "# Merge the category which has very low counts\n",
    "def ctg(x):\n",
    "    category = \"\"\n",
    "    if x in [\"google\",\"direct traffic\",\"olark chat\",\"organic search\",\"reference\",\"welingak website\",\"referral sites\",\"facebook\"]:\n",
    "        category = x\n",
    "    else:\n",
    "        category = \"Other Source\"\n",
    "    return category\n",
    "\n",
    "Leads_data[\"Lead Source\"] = Leads_data.apply(lambda x:ctg(x[\"Lead Source\"]), axis = 1)\n",
    "Leads_data[\"Lead Source\"].value_counts()"
   ]
  },
  {
   "cell_type": "code",
   "execution_count": 26,
   "metadata": {},
   "outputs": [
    {
     "data": {
      "text/plain": [
       "email opened                    3540\n",
       "sms sent                        2745\n",
       "olark chat conversation          973\n",
       "page visited on website          640\n",
       "converted to lead                428\n",
       "email bounced                    326\n",
       "email link clicked               267\n",
       "form submitted on website        116\n",
       "unreachable                       93\n",
       "unsubscribed                      61\n",
       "had a phone conversation          30\n",
       "approached upfront                 9\n",
       "view in browser link clicked       6\n",
       "email received                     2\n",
       "email marked spam                  2\n",
       "visited booth in tradeshow         1\n",
       "resubscribed to emails             1\n",
       "Name: Last Activity, dtype: int64"
      ]
     },
     "execution_count": 26,
     "metadata": {},
     "output_type": "execute_result"
    }
   ],
   "source": [
    "Leads_data[\"Last Activity\"].value_counts()"
   ]
  },
  {
   "cell_type": "code",
   "execution_count": 27,
   "metadata": {},
   "outputs": [
    {
     "data": {
      "text/plain": [
       "email opened                 3540\n",
       "sms sent                     2745\n",
       "olark chat conversation       973\n",
       "page visited on website       640\n",
       "converted to lead             428\n",
       "email bounced                 326\n",
       "email link clicked            267\n",
       "form submitted on website     116\n",
       "unreachable                    93\n",
       "unsubscribed                   61\n",
       "had a phone conversation       30\n",
       "Others                         21\n",
       "Name: Last Activity, dtype: int64"
      ]
     },
     "execution_count": 27,
     "metadata": {},
     "output_type": "execute_result"
    }
   ],
   "source": [
    "# Merge the category which has very low counts\n",
    "def ctg(x):\n",
    "    category = \"\"\n",
    "    if x in [\"approached upfront\",\"view in browser link clicked\",\"email received\",\"email marked spam\",\"visited booth in tradeshow\",\"visited booth in tradeshow\",\"resubscribed to emails\"]:\n",
    "        category = \"Others\"\n",
    "    else:\n",
    "        category = x\n",
    "    return category\n",
    "\n",
    "Leads_data[\"Last Activity\"] = Leads_data.apply(lambda x:ctg(x[\"Last Activity\"]), axis = 1)\n",
    "Leads_data[\"Last Activity\"].value_counts()"
   ]
  },
  {
   "cell_type": "code",
   "execution_count": 28,
   "metadata": {},
   "outputs": [
    {
     "data": {
      "text/plain": [
       "india                   6492\n",
       "not provided            2461\n",
       "united states             69\n",
       "united arab emirates      53\n",
       "singapore                 24\n",
       "saudi arabia              21\n",
       "united kingdom            15\n",
       "australia                 13\n",
       "qatar                     10\n",
       "bahrain                    7\n",
       "hong kong                  7\n",
       "oman                       6\n",
       "france                     6\n",
       "unknown                    5\n",
       "kuwait                     4\n",
       "south africa               4\n",
       "canada                     4\n",
       "nigeria                    4\n",
       "germany                    4\n",
       "sweden                     3\n",
       "philippines                2\n",
       "uganda                     2\n",
       "italy                      2\n",
       "bangladesh                 2\n",
       "netherlands                2\n",
       "asia/pacific region        2\n",
       "china                      2\n",
       "belgium                    2\n",
       "ghana                      2\n",
       "kenya                      1\n",
       "sri lanka                  1\n",
       "tanzania                   1\n",
       "malaysia                   1\n",
       "liberia                    1\n",
       "switzerland                1\n",
       "denmark                    1\n",
       "russia                     1\n",
       "vietnam                    1\n",
       "indonesia                  1\n",
       "Name: Country, dtype: int64"
      ]
     },
     "execution_count": 28,
     "metadata": {},
     "output_type": "execute_result"
    }
   ],
   "source": [
    "Leads_data[\"Country\"].value_counts()"
   ]
  },
  {
   "cell_type": "code",
   "execution_count": 29,
   "metadata": {},
   "outputs": [
    {
     "data": {
      "text/plain": [
       "india            6492\n",
       "not provided     2461\n",
       "Outside India     287\n",
       "Name: Country, dtype: int64"
      ]
     },
     "execution_count": 29,
     "metadata": {},
     "output_type": "execute_result"
    }
   ],
   "source": [
    "# Merge the category which has very low counts\n",
    "def ctg(x):\n",
    "    category = \"\"\n",
    "    if x in [\"india\",\"not provided\"]:\n",
    "        category = x\n",
    "    else:\n",
    "        category = \"Outside India\"\n",
    "    return category\n",
    "\n",
    "Leads_data[\"Country\"] = Leads_data.apply(lambda x:ctg(x[\"Country\"]), axis = 1)\n",
    "Leads_data[\"Country\"].value_counts()"
   ]
  },
  {
   "cell_type": "code",
   "execution_count": 30,
   "metadata": {},
   "outputs": [
    {
     "data": {
      "text/plain": [
       "not provided                         3380\n",
       "finance management                    976\n",
       "human resource management             848\n",
       "marketing management                  838\n",
       "operations management                 503\n",
       "business administration               403\n",
       "it projects management                366\n",
       "supply chain management               349\n",
       "banking, investment and insurance     338\n",
       "travel and tourism                    203\n",
       "media and advertising                 203\n",
       "international business                178\n",
       "healthcare management                 159\n",
       "hospitality management                114\n",
       "e-commerce                            112\n",
       "retail management                     100\n",
       "rural and agribusiness                 73\n",
       "e-business                             57\n",
       "services excellence                    40\n",
       "Name: Specialization, dtype: int64"
      ]
     },
     "execution_count": 30,
     "metadata": {},
     "output_type": "execute_result"
    }
   ],
   "source": [
    "Leads_data[\"Specialization\"].value_counts()"
   ]
  },
  {
   "cell_type": "code",
   "execution_count": 31,
   "metadata": {},
   "outputs": [
    {
     "data": {
      "text/plain": [
       "unemployed              5600\n",
       "not provided            2690\n",
       "working professional     706\n",
       "student                  210\n",
       "other                     16\n",
       "housewife                 10\n",
       "businessman                8\n",
       "Name: What is your current occupation, dtype: int64"
      ]
     },
     "execution_count": 31,
     "metadata": {},
     "output_type": "execute_result"
    }
   ],
   "source": [
    "Leads_data[\"What is your current occupation\"].value_counts()"
   ]
  },
  {
   "cell_type": "code",
   "execution_count": 32,
   "metadata": {},
   "outputs": [
    {
     "data": {
      "text/plain": [
       "modified                        3407\n",
       "email opened                    2827\n",
       "sms sent                        2172\n",
       "page visited on website          318\n",
       "olark chat conversation          183\n",
       "email link clicked               173\n",
       "email bounced                     60\n",
       "unsubscribed                      47\n",
       "unreachable                       32\n",
       "had a phone conversation          14\n",
       "email marked spam                  2\n",
       "approached upfront                 1\n",
       "resubscribed to emails             1\n",
       "view in browser link clicked       1\n",
       "form submitted on website          1\n",
       "email received                     1\n",
       "Name: Last Notable Activity, dtype: int64"
      ]
     },
     "execution_count": 32,
     "metadata": {},
     "output_type": "execute_result"
    }
   ],
   "source": [
    "Leads_data[\"Last Notable Activity\"].value_counts()"
   ]
  },
  {
   "cell_type": "code",
   "execution_count": 33,
   "metadata": {},
   "outputs": [
    {
     "data": {
      "text/plain": [
       "modified                    3407\n",
       "email opened                2827\n",
       "sms sent                    2172\n",
       "page visited on website      318\n",
       "olark chat conversation      183\n",
       "email link clicked           173\n",
       "email bounced                 60\n",
       "unsubscribed                  47\n",
       "unreachable                   32\n",
       "had a phone conversation      14\n",
       "Others                         7\n",
       "Name: Last Notable Activity, dtype: int64"
      ]
     },
     "execution_count": 33,
     "metadata": {},
     "output_type": "execute_result"
    }
   ],
   "source": [
    "# Merge the category which has very low counts\n",
    "def ctg(x):\n",
    "    category = \"\"\n",
    "    if x in [\"email received\",\"form submitted on website\",\"view in browser link clicked\",\"resubscribed to emails\",\"approached upfront\",\"email marked spam\"]:\n",
    "        category = \"Others\"\n",
    "    else:\n",
    "        category = x\n",
    "    return category\n",
    "\n",
    "Leads_data[\"Last Notable Activity\"] = Leads_data.apply(lambda x:ctg(x[\"Last Notable Activity\"]), axis = 1)\n",
    "Leads_data[\"Last Notable Activity\"].value_counts()"
   ]
  },
  {
   "cell_type": "code",
   "execution_count": 34,
   "metadata": {},
   "outputs": [
    {
     "data": {
      "text/plain": [
       "(9240, 20)"
      ]
     },
     "execution_count": 34,
     "metadata": {},
     "output_type": "execute_result"
    }
   ],
   "source": [
    "# Cheking total number of row and columns\n",
    "Leads_data.shape"
   ]
  },
  {
   "cell_type": "code",
   "execution_count": 35,
   "metadata": {},
   "outputs": [
    {
     "data": {
      "image/png": "[encoded data removed]",
      "text/plain": [
       "<Figure size 720x576 with 2 Axes>"
      ]
     },
     "metadata": {
      "needs_background": "light"
     },
     "output_type": "display_data"
    }
   ],
   "source": [
    "# Checking the corelation between the columns\n",
    "plt.figure(figsize=(10,8))\n",
    "sns.heatmap(Leads_data.corr(),cmap=\"YlGnBu\",annot=True)\n",
    "plt.show()"
   ]
  },
  {
   "cell_type": "code",
   "execution_count": 36,
   "metadata": {},
   "outputs": [
    {
     "data": {
      "text/html": [
       "<div>\n",
       "<style scoped>\n",
       "    .dataframe tbody tr th:only-of-type {\n",
       "        vertical-align: middle;\n",
       "    }\n",
       "\n",
       "    .dataframe tbody tr th {\n",
       "        vertical-align: top;\n",
       "    }\n",
       "\n",
       "    .dataframe thead th {\n",
       "        text-align: right;\n",
       "    }\n",
       "</style>\n",
       "<table border=\"1\" class=\"dataframe\">\n",
       "  <thead>\n",
       "    <tr style=\"text-align: right;\">\n",
       "      <th></th>\n",
       "      <th>Lead Origin</th>\n",
       "      <th>Lead Source</th>\n",
       "      <th>Do Not Email</th>\n",
       "      <th>Do Not Call</th>\n",
       "      <th>Converted</th>\n",
       "      <th>TotalVisits</th>\n",
       "      <th>Total Time Spent on Website</th>\n",
       "      <th>Page Views Per Visit</th>\n",
       "      <th>Last Activity</th>\n",
       "      <th>Country</th>\n",
       "      <th>Specialization</th>\n",
       "      <th>What is your current occupation</th>\n",
       "      <th>Search</th>\n",
       "      <th>Newspaper Article</th>\n",
       "      <th>X Education Forums</th>\n",
       "      <th>Newspaper</th>\n",
       "      <th>Digital Advertisement</th>\n",
       "      <th>Through Recommendations</th>\n",
       "      <th>A free copy of Mastering The Interview</th>\n",
       "      <th>Last Notable Activity</th>\n",
       "    </tr>\n",
       "  </thead>\n",
       "  <tbody>\n",
       "    <tr>\n",
       "      <th>0</th>\n",
       "      <td>api</td>\n",
       "      <td>olark chat</td>\n",
       "      <td>no</td>\n",
       "      <td>no</td>\n",
       "      <td>0</td>\n",
       "      <td>0.0</td>\n",
       "      <td>0</td>\n",
       "      <td>0.0</td>\n",
       "      <td>page visited on website</td>\n",
       "      <td>not provided</td>\n",
       "      <td>not provided</td>\n",
       "      <td>unemployed</td>\n",
       "      <td>no</td>\n",
       "      <td>no</td>\n",
       "      <td>no</td>\n",
       "      <td>no</td>\n",
       "      <td>no</td>\n",
       "      <td>no</td>\n",
       "      <td>no</td>\n",
       "      <td>modified</td>\n",
       "    </tr>\n",
       "    <tr>\n",
       "      <th>1</th>\n",
       "      <td>api</td>\n",
       "      <td>organic search</td>\n",
       "      <td>no</td>\n",
       "      <td>no</td>\n",
       "      <td>0</td>\n",
       "      <td>5.0</td>\n",
       "      <td>674</td>\n",
       "      <td>2.5</td>\n",
       "      <td>email opened</td>\n",
       "      <td>india</td>\n",
       "      <td>not provided</td>\n",
       "      <td>unemployed</td>\n",
       "      <td>no</td>\n",
       "      <td>no</td>\n",
       "      <td>no</td>\n",
       "      <td>no</td>\n",
       "      <td>no</td>\n",
       "      <td>no</td>\n",
       "      <td>no</td>\n",
       "      <td>email opened</td>\n",
       "    </tr>\n",
       "    <tr>\n",
       "      <th>2</th>\n",
       "      <td>landing page submission</td>\n",
       "      <td>direct traffic</td>\n",
       "      <td>no</td>\n",
       "      <td>no</td>\n",
       "      <td>1</td>\n",
       "      <td>2.0</td>\n",
       "      <td>1532</td>\n",
       "      <td>2.0</td>\n",
       "      <td>email opened</td>\n",
       "      <td>india</td>\n",
       "      <td>business administration</td>\n",
       "      <td>student</td>\n",
       "      <td>no</td>\n",
       "      <td>no</td>\n",
       "      <td>no</td>\n",
       "      <td>no</td>\n",
       "      <td>no</td>\n",
       "      <td>no</td>\n",
       "      <td>yes</td>\n",
       "      <td>email opened</td>\n",
       "    </tr>\n",
       "    <tr>\n",
       "      <th>3</th>\n",
       "      <td>landing page submission</td>\n",
       "      <td>direct traffic</td>\n",
       "      <td>no</td>\n",
       "      <td>no</td>\n",
       "      <td>0</td>\n",
       "      <td>1.0</td>\n",
       "      <td>305</td>\n",
       "      <td>1.0</td>\n",
       "      <td>unreachable</td>\n",
       "      <td>india</td>\n",
       "      <td>media and advertising</td>\n",
       "      <td>unemployed</td>\n",
       "      <td>no</td>\n",
       "      <td>no</td>\n",
       "      <td>no</td>\n",
       "      <td>no</td>\n",
       "      <td>no</td>\n",
       "      <td>no</td>\n",
       "      <td>no</td>\n",
       "      <td>modified</td>\n",
       "    </tr>\n",
       "    <tr>\n",
       "      <th>4</th>\n",
       "      <td>landing page submission</td>\n",
       "      <td>google</td>\n",
       "      <td>no</td>\n",
       "      <td>no</td>\n",
       "      <td>1</td>\n",
       "      <td>2.0</td>\n",
       "      <td>1428</td>\n",
       "      <td>1.0</td>\n",
       "      <td>converted to lead</td>\n",
       "      <td>india</td>\n",
       "      <td>not provided</td>\n",
       "      <td>unemployed</td>\n",
       "      <td>no</td>\n",
       "      <td>no</td>\n",
       "      <td>no</td>\n",
       "      <td>no</td>\n",
       "      <td>no</td>\n",
       "      <td>no</td>\n",
       "      <td>no</td>\n",
       "      <td>modified</td>\n",
       "    </tr>\n",
       "  </tbody>\n",
       "</table>\n",
       "</div>"
      ],
      "text/plain": [
       "               Lead Origin     Lead Source Do Not Email Do Not Call  \\\n",
       "0                      api      olark chat           no          no   \n",
       "1                      api  organic search           no          no   \n",
       "2  landing page submission  direct traffic           no          no   \n",
       "3  landing page submission  direct traffic           no          no   \n",
       "4  landing page submission          google           no          no   \n",
       "\n",
       "   Converted  TotalVisits  Total Time Spent on Website  Page Views Per Visit  \\\n",
       "0          0          0.0                            0                   0.0   \n",
       "1          0          5.0                          674                   2.5   \n",
       "2          1          2.0                         1532                   2.0   \n",
       "3          0          1.0                          305                   1.0   \n",
       "4          1          2.0                         1428                   1.0   \n",
       "\n",
       "             Last Activity       Country           Specialization  \\\n",
       "0  page visited on website  not provided             not provided   \n",
       "1             email opened         india             not provided   \n",
       "2             email opened         india  business administration   \n",
       "3              unreachable         india    media and advertising   \n",
       "4        converted to lead         india             not provided   \n",
       "\n",
       "  What is your current occupation Search Newspaper Article X Education Forums  \\\n",
       "0                      unemployed     no                no                 no   \n",
       "1                      unemployed     no                no                 no   \n",
       "2                         student     no                no                 no   \n",
       "3                      unemployed     no                no                 no   \n",
       "4                      unemployed     no                no                 no   \n",
       "\n",
       "  Newspaper Digital Advertisement Through Recommendations  \\\n",
       "0        no                    no                      no   \n",
       "1        no                    no                      no   \n",
       "2        no                    no                      no   \n",
       "3        no                    no                      no   \n",
       "4        no                    no                      no   \n",
       "\n",
       "  A free copy of Mastering The Interview Last Notable Activity  \n",
       "0                                     no              modified  \n",
       "1                                     no          email opened  \n",
       "2                                    yes          email opened  \n",
       "3                                     no              modified  \n",
       "4                                     no              modified  "
      ]
     },
     "execution_count": 36,
     "metadata": {},
     "output_type": "execute_result"
    }
   ],
   "source": [
    "Leads_data.head()"
   ]
  },
  {
   "cell_type": "code",
   "execution_count": 37,
   "metadata": {},
   "outputs": [],
   "source": [
    "# List of variables to map\n",
    "\n",
    "varlist =  ['Do Not Email','Do Not Call','Search','Newspaper Article','X Education Forums',\n",
    "            'Newspaper','Digital Advertisement','Through Recommendations','A free copy of Mastering The Interview'\n",
    "]\n",
    "\n",
    "# Defining the map function\n",
    "def binary_map(x):\n",
    "    return x.map({'yes': 1, \"no\": 0})\n",
    "\n",
    "# Applying the function to the housing list\n",
    "Leads_data[varlist] = Leads_data[varlist].apply(binary_map)"
   ]
  },
  {
   "cell_type": "code",
   "execution_count": 38,
   "metadata": {},
   "outputs": [
    {
     "data": {
      "text/html": [
       "<div>\n",
       "<style scoped>\n",
       "    .dataframe tbody tr th:only-of-type {\n",
       "        vertical-align: middle;\n",
       "    }\n",
       "\n",
       "    .dataframe tbody tr th {\n",
       "        vertical-align: top;\n",
       "    }\n",
       "\n",
       "    .dataframe thead th {\n",
       "        text-align: right;\n",
       "    }\n",
       "</style>\n",
       "<table border=\"1\" class=\"dataframe\">\n",
       "  <thead>\n",
       "    <tr style=\"text-align: right;\">\n",
       "      <th></th>\n",
       "      <th>Lead Origin</th>\n",
       "      <th>Lead Source</th>\n",
       "      <th>Do Not Email</th>\n",
       "      <th>Do Not Call</th>\n",
       "      <th>Converted</th>\n",
       "      <th>TotalVisits</th>\n",
       "      <th>Total Time Spent on Website</th>\n",
       "      <th>Page Views Per Visit</th>\n",
       "      <th>Last Activity</th>\n",
       "      <th>Country</th>\n",
       "      <th>Specialization</th>\n",
       "      <th>What is your current occupation</th>\n",
       "      <th>Search</th>\n",
       "      <th>Newspaper Article</th>\n",
       "      <th>X Education Forums</th>\n",
       "      <th>Newspaper</th>\n",
       "      <th>Digital Advertisement</th>\n",
       "      <th>Through Recommendations</th>\n",
       "      <th>A free copy of Mastering The Interview</th>\n",
       "      <th>Last Notable Activity</th>\n",
       "    </tr>\n",
       "  </thead>\n",
       "  <tbody>\n",
       "    <tr>\n",
       "      <th>0</th>\n",
       "      <td>api</td>\n",
       "      <td>olark chat</td>\n",
       "      <td>0</td>\n",
       "      <td>0</td>\n",
       "      <td>0</td>\n",
       "      <td>0.0</td>\n",
       "      <td>0</td>\n",
       "      <td>0.0</td>\n",
       "      <td>page visited on website</td>\n",
       "      <td>not provided</td>\n",
       "      <td>not provided</td>\n",
       "      <td>unemployed</td>\n",
       "      <td>0</td>\n",
       "      <td>0</td>\n",
       "      <td>0</td>\n",
       "      <td>0</td>\n",
       "      <td>0</td>\n",
       "      <td>0</td>\n",
       "      <td>0</td>\n",
       "      <td>modified</td>\n",
       "    </tr>\n",
       "    <tr>\n",
       "      <th>1</th>\n",
       "      <td>api</td>\n",
       "      <td>organic search</td>\n",
       "      <td>0</td>\n",
       "      <td>0</td>\n",
       "      <td>0</td>\n",
       "      <td>5.0</td>\n",
       "      <td>674</td>\n",
       "      <td>2.5</td>\n",
       "      <td>email opened</td>\n",
       "      <td>india</td>\n",
       "      <td>not provided</td>\n",
       "      <td>unemployed</td>\n",
       "      <td>0</td>\n",
       "      <td>0</td>\n",
       "      <td>0</td>\n",
       "      <td>0</td>\n",
       "      <td>0</td>\n",
       "      <td>0</td>\n",
       "      <td>0</td>\n",
       "      <td>email opened</td>\n",
       "    </tr>\n",
       "    <tr>\n",
       "      <th>2</th>\n",
       "      <td>landing page submission</td>\n",
       "      <td>direct traffic</td>\n",
       "      <td>0</td>\n",
       "      <td>0</td>\n",
       "      <td>1</td>\n",
       "      <td>2.0</td>\n",
       "      <td>1532</td>\n",
       "      <td>2.0</td>\n",
       "      <td>email opened</td>\n",
       "      <td>india</td>\n",
       "      <td>business administration</td>\n",
       "      <td>student</td>\n",
       "      <td>0</td>\n",
       "      <td>0</td>\n",
       "      <td>0</td>\n",
       "      <td>0</td>\n",
       "      <td>0</td>\n",
       "      <td>0</td>\n",
       "      <td>1</td>\n",
       "      <td>email opened</td>\n",
       "    </tr>\n",
       "    <tr>\n",
       "      <th>3</th>\n",
       "      <td>landing page submission</td>\n",
       "      <td>direct traffic</td>\n",
       "      <td>0</td>\n",
       "      <td>0</td>\n",
       "      <td>0</td>\n",
       "      <td>1.0</td>\n",
       "      <td>305</td>\n",
       "      <td>1.0</td>\n",
       "      <td>unreachable</td>\n",
       "      <td>india</td>\n",
       "      <td>media and advertising</td>\n",
       "      <td>unemployed</td>\n",
       "      <td>0</td>\n",
       "      <td>0</td>\n",
       "      <td>0</td>\n",
       "      <td>0</td>\n",
       "      <td>0</td>\n",
       "      <td>0</td>\n",
       "      <td>0</td>\n",
       "      <td>modified</td>\n",
       "    </tr>\n",
       "    <tr>\n",
       "      <th>4</th>\n",
       "      <td>landing page submission</td>\n",
       "      <td>google</td>\n",
       "      <td>0</td>\n",
       "      <td>0</td>\n",
       "      <td>1</td>\n",
       "      <td>2.0</td>\n",
       "      <td>1428</td>\n",
       "      <td>1.0</td>\n",
       "      <td>converted to lead</td>\n",
       "      <td>india</td>\n",
       "      <td>not provided</td>\n",
       "      <td>unemployed</td>\n",
       "      <td>0</td>\n",
       "      <td>0</td>\n",
       "      <td>0</td>\n",
       "      <td>0</td>\n",
       "      <td>0</td>\n",
       "      <td>0</td>\n",
       "      <td>0</td>\n",
       "      <td>modified</td>\n",
       "    </tr>\n",
       "  </tbody>\n",
       "</table>\n",
       "</div>"
      ],
      "text/plain": [
       "               Lead Origin     Lead Source  Do Not Email  Do Not Call  \\\n",
       "0                      api      olark chat             0            0   \n",
       "1                      api  organic search             0            0   \n",
       "2  landing page submission  direct traffic             0            0   \n",
       "3  landing page submission  direct traffic             0            0   \n",
       "4  landing page submission          google             0            0   \n",
       "\n",
       "   Converted  TotalVisits  Total Time Spent on Website  Page Views Per Visit  \\\n",
       "0          0          0.0                            0                   0.0   \n",
       "1          0          5.0                          674                   2.5   \n",
       "2          1          2.0                         1532                   2.0   \n",
       "3          0          1.0                          305                   1.0   \n",
       "4          1          2.0                         1428                   1.0   \n",
       "\n",
       "             Last Activity       Country           Specialization  \\\n",
       "0  page visited on website  not provided             not provided   \n",
       "1             email opened         india             not provided   \n",
       "2             email opened         india  business administration   \n",
       "3              unreachable         india    media and advertising   \n",
       "4        converted to lead         india             not provided   \n",
       "\n",
       "  What is your current occupation  Search  Newspaper Article  \\\n",
       "0                      unemployed       0                  0   \n",
       "1                      unemployed       0                  0   \n",
       "2                         student       0                  0   \n",
       "3                      unemployed       0                  0   \n",
       "4                      unemployed       0                  0   \n",
       "\n",
       "   X Education Forums  Newspaper  Digital Advertisement  \\\n",
       "0                   0          0                      0   \n",
       "1                   0          0                      0   \n",
       "2                   0          0                      0   \n",
       "3                   0          0                      0   \n",
       "4                   0          0                      0   \n",
       "\n",
       "   Through Recommendations  A free copy of Mastering The Interview  \\\n",
       "0                        0                                       0   \n",
       "1                        0                                       0   \n",
       "2                        0                                       1   \n",
       "3                        0                                       0   \n",
       "4                        0                                       0   \n",
       "\n",
       "  Last Notable Activity  \n",
       "0              modified  \n",
       "1          email opened  \n",
       "2          email opened  \n",
       "3              modified  \n",
       "4              modified  "
      ]
     },
     "execution_count": 38,
     "metadata": {},
     "output_type": "execute_result"
    }
   ],
   "source": [
    "Leads_data.head()"
   ]
  },
  {
   "cell_type": "code",
   "execution_count": 39,
   "metadata": {},
   "outputs": [
    {
     "data": {
      "text/plain": [
       "0    8506\n",
       "1     734\n",
       "Name: Do Not Email, dtype: int64"
      ]
     },
     "execution_count": 39,
     "metadata": {},
     "output_type": "execute_result"
    }
   ],
   "source": [
    "#Checking the category in \"Do Not Email\" columns\n",
    "Leads_data[\"Do Not Email\"].value_counts()"
   ]
  },
  {
   "cell_type": "markdown",
   "metadata": {},
   "source": [
    "## EDA"
   ]
  },
  {
   "cell_type": "markdown",
   "metadata": {},
   "source": [
    "#### Univariate analysis"
   ]
  },
  {
   "cell_type": "code",
   "execution_count": 40,
   "metadata": {},
   "outputs": [
    {
     "data": {
      "image/png": "[encoded data removed]",
      "text/plain": [
       "<Figure size 432x216 with 1 Axes>"
      ]
     },
     "metadata": {
      "needs_background": "light"
     },
     "output_type": "display_data"
    }
   ],
   "source": [
    "plt.figure(figsize=[6,3])\n",
    "sns.countplot(Leads_data.Converted)\n",
    "plt.xticks(rotation=90)\n",
    "plt.title(\"Total Count of converted and non coverted\")\n",
    "plt.show()"
   ]
  },
  {
   "cell_type": "code",
   "execution_count": 41,
   "metadata": {},
   "outputs": [
    {
     "data": {
      "image/png": "[encoded data removed]",
      "text/plain": [
       "<Figure size 1800x1440 with 4 Axes>"
      ]
     },
     "metadata": {
      "needs_background": "light"
     },
     "output_type": "display_data"
    }
   ],
   "source": [
    "plt.figure(figsize = (25,20))\n",
    "plt.subplot(2,2,1)\n",
    "sns.countplot(Leads_data['Lead Origin']).tick_params(axis='x', rotation = 90)\n",
    "plt.title('Lead Origin')\n",
    "plt.subplot(2,2,2)\n",
    "sns.countplot(Leads_data['Lead Source']).tick_params(axis='x', rotation = 90)\n",
    "plt.title('Lead Source')\n",
    "plt.subplot(2,2,3)\n",
    "sns.countplot(Leads_data['Last Activity']).tick_params(axis='x', rotation = 90)\n",
    "plt.title('Last Activity')\n",
    "plt.subplot(2,2,4)\n",
    "sns.countplot(Leads_data['Country']).tick_params(axis='x', rotation = 90)\n",
    "plt.title('Country')\n",
    "plt.show()"
   ]
  },
  {
   "cell_type": "code",
   "execution_count": 42,
   "metadata": {},
   "outputs": [
    {
     "data": {
      "image/png": "[encoded data removed]",
      "text/plain": [
       "<Figure size 720x216 with 2 Axes>"
      ]
     },
     "metadata": {
      "needs_background": "light"
     },
     "output_type": "display_data"
    }
   ],
   "source": [
    "plt.figure(figsize = (10,3))\n",
    "plt.subplot(1,2,1)\n",
    "sns.countplot(Leads_data['Specialization']).tick_params(axis='x', rotation = 90)\n",
    "plt.title('Specialization')\n",
    "plt.subplot(1,2,2)\n",
    "sns.countplot(Leads_data['What is your current occupation']).tick_params(axis='x', rotation = 90)\n",
    "plt.title('What is your current occupation')\n",
    "\n",
    "plt.show()"
   ]
  },
  {
   "cell_type": "code",
   "execution_count": 43,
   "metadata": {},
   "outputs": [
    {
     "data": {
      "text/plain": [
       "Text(0.5, 1.0, 'Last Notable Activity')"
      ]
     },
     "execution_count": 43,
     "metadata": {},
     "output_type": "execute_result"
    },
    {
     "data": {
      "image/png": "[encoded data removed]",
      "text/plain": [
       "<Figure size 432x288 with 1 Axes>"
      ]
     },
     "metadata": {
      "needs_background": "light"
     },
     "output_type": "display_data"
    }
   ],
   "source": [
    "sns.countplot(Leads_data['Last Notable Activity']).tick_params(axis='x', rotation = 90)\n",
    "plt.title('Last Notable Activity')"
   ]
  },
  {
   "cell_type": "code",
   "execution_count": 44,
   "metadata": {},
   "outputs": [
    {
     "data": {
      "image/png": "[encoded data removed]",
      "text/plain": [
       "<Figure size 720x720 with 3 Axes>"
      ]
     },
     "metadata": {
      "needs_background": "light"
     },
     "output_type": "display_data"
    }
   ],
   "source": [
    "plt.figure(figsize = (10,10))\n",
    "plt.subplot(2,2,1)\n",
    "plt.hist(Leads_data['TotalVisits'], bins = 200)\n",
    "plt.title('Total Visits')\n",
    "plt.xlim(0,25)\n",
    "\n",
    "plt.subplot(2,2,2)\n",
    "plt.hist(Leads_data['Total Time Spent on Website'], bins = 10)\n",
    "plt.title('Total Time Spent on Website')\n",
    "\n",
    "plt.subplot(2,2,3)\n",
    "plt.hist(Leads_data['Page Views Per Visit'], bins = 20)\n",
    "plt.title('Page Views Per Visit')\n",
    "plt.xlim(0,20)\n",
    "plt.show()"
   ]
  },
  {
   "cell_type": "markdown",
   "metadata": {},
   "source": [
    "### Bivariate analysis"
   ]
  },
  {
   "cell_type": "code",
   "execution_count": 45,
   "metadata": {},
   "outputs": [
    {
     "data": {
      "image/png": "[encoded data removed]",
      "text/plain": [
       "<Figure size 720x360 with 2 Axes>"
      ]
     },
     "metadata": {
      "needs_background": "light"
     },
     "output_type": "display_data"
    }
   ],
   "source": [
    "plt.figure(figsize = (10,5))\n",
    "\n",
    "plt.subplot(1,2,1)\n",
    "sns.countplot(x='Lead Origin', hue='Converted', data= Leads_data).tick_params(axis='x', rotation = 90)\n",
    "plt.title('Lead Origin')\n",
    "\n",
    "plt.subplot(1,2,2)\n",
    "sns.countplot(x='Lead Source', hue='Converted', data= Leads_data).tick_params(axis='x', rotation = 90)\n",
    "plt.title('Lead Source')\n",
    "\n",
    "plt.show()\n"
   ]
  },
  {
   "cell_type": "code",
   "execution_count": 46,
   "metadata": {},
   "outputs": [
    {
     "data": {
      "image/png": "[encoded data removed]",
      "text/plain": [
       "<Figure size 720x360 with 2 Axes>"
      ]
     },
     "metadata": {
      "needs_background": "light"
     },
     "output_type": "display_data"
    }
   ],
   "source": [
    "plt.figure(figsize = (10,5))\n",
    "\n",
    "plt.subplot(1,2,1)\n",
    "sns.countplot(x='Do Not Email', hue='Converted', data= Leads_data).tick_params(axis='x', rotation = 90)\n",
    "plt.title('Do Not Email')\n",
    "\n",
    "plt.subplot(1,2,2)\n",
    "sns.countplot(x='Do Not Call', hue='Converted', data= Leads_data).tick_params(axis='x', rotation = 90)\n",
    "plt.title('Do Not Call')\n",
    "plt.show()"
   ]
  },
  {
   "cell_type": "code",
   "execution_count": 47,
   "metadata": {},
   "outputs": [
    {
     "data": {
      "image/png": "[encoded data removed]",
      "text/plain": [
       "<Figure size 720x360 with 2 Axes>"
      ]
     },
     "metadata": {
      "needs_background": "light"
     },
     "output_type": "display_data"
    }
   ],
   "source": [
    "plt.figure(figsize = (10,5))\n",
    "\n",
    "plt.subplot(1,2,1)\n",
    "sns.countplot(x='Last Activity', hue='Converted', data= Leads_data).tick_params(axis='x', rotation = 90)\n",
    "plt.title('Last Activity')\n",
    "\n",
    "plt.subplot(1,2,2)\n",
    "sns.countplot(x='Country', hue='Converted', data= Leads_data).tick_params(axis='x', rotation = 90)\n",
    "plt.title('Country')\n",
    "plt.show()"
   ]
  },
  {
   "cell_type": "code",
   "execution_count": 48,
   "metadata": {},
   "outputs": [
    {
     "data": {
      "image/png": "[encoded data removed]",
      "text/plain": [
       "<Figure size 720x360 with 2 Axes>"
      ]
     },
     "metadata": {
      "needs_background": "light"
     },
     "output_type": "display_data"
    }
   ],
   "source": [
    "plt.figure(figsize = (10,5))\n",
    "\n",
    "plt.subplot(1,2,1)\n",
    "sns.countplot(x='Specialization', hue='Converted', data= Leads_data).tick_params(axis='x', rotation = 90)\n",
    "plt.title('Specialization')\n",
    "\n",
    "plt.subplot(1,2,2)\n",
    "sns.countplot(x='What is your current occupation', hue='Converted', data= Leads_data).tick_params(axis='x', rotation = 90)\n",
    "plt.title('What is your current occupation')\n",
    "plt.show()"
   ]
  },
  {
   "cell_type": "code",
   "execution_count": 49,
   "metadata": {},
   "outputs": [
    {
     "data": {
      "image/png": "[encoded data removed]",
      "text/plain": [
       "<Figure size 720x360 with 2 Axes>"
      ]
     },
     "metadata": {
      "needs_background": "light"
     },
     "output_type": "display_data"
    }
   ],
   "source": [
    "plt.figure(figsize = (10,5))\n",
    "\n",
    "plt.subplot(1,2,1)\n",
    "sns.countplot(x='Last Notable Activity', hue='Converted', data= Leads_data).tick_params(axis='x', rotation = 90)\n",
    "plt.title('Last Notable Activity')\n",
    "\n",
    "plt.subplot(1,2,2)\n",
    "sns.countplot(x='Search', hue='Converted', data= Leads_data).tick_params(axis='x', rotation = 90)\n",
    "plt.title('Search')\n",
    "plt.show()"
   ]
  },
  {
   "cell_type": "code",
   "execution_count": 50,
   "metadata": {},
   "outputs": [
    {
     "data": {
      "image/png": "[encoded data removed]",
      "text/plain": [
       "<Figure size 720x360 with 2 Axes>"
      ]
     },
     "metadata": {
      "needs_background": "light"
     },
     "output_type": "display_data"
    }
   ],
   "source": [
    "plt.figure(figsize = (10,5))\n",
    "\n",
    "plt.subplot(1,2,1)\n",
    "sns.countplot(x='Newspaper Article', hue='Converted', data= Leads_data).tick_params(axis='x', rotation = 90)\n",
    "plt.title('Newspaper Article')\n",
    "\n",
    "plt.subplot(1,2,2)\n",
    "sns.countplot(x='X Education Forums', hue='Converted', data= Leads_data).tick_params(axis='x', rotation = 90)\n",
    "plt.title('X Education Forums')\n",
    "plt.show()"
   ]
  },
  {
   "cell_type": "code",
   "execution_count": 51,
   "metadata": {},
   "outputs": [
    {
     "data": {
      "image/png": "[encoded data removed]",
      "text/plain": [
       "<Figure size 720x360 with 2 Axes>"
      ]
     },
     "metadata": {
      "needs_background": "light"
     },
     "output_type": "display_data"
    }
   ],
   "source": [
    "plt.figure(figsize = (10,5))\n",
    "\n",
    "plt.subplot(1,2,1)\n",
    "sns.countplot(x='Newspaper', hue='Converted', data= Leads_data).tick_params(axis='x', rotation = 90)\n",
    "plt.title('Newspaper')\n",
    "\n",
    "plt.subplot(1,2,2)\n",
    "sns.countplot(x='Digital Advertisement', hue='Converted', data= Leads_data).tick_params(axis='x', rotation = 90)\n",
    "plt.title('Digital Advertisement')\n",
    "plt.show()"
   ]
  },
  {
   "cell_type": "code",
   "execution_count": 52,
   "metadata": {},
   "outputs": [
    {
     "data": {
      "image/png": "[encoded data removed]",
      "text/plain": [
       "<Figure size 720x360 with 2 Axes>"
      ]
     },
     "metadata": {
      "needs_background": "light"
     },
     "output_type": "display_data"
    }
   ],
   "source": [
    "plt.figure(figsize = (10,5))\n",
    "\n",
    "plt.subplot(1,2,1)\n",
    "sns.countplot(x='Through Recommendations', hue='Converted', data= Leads_data).tick_params(axis='x', rotation = 90)\n",
    "plt.title('Through Recommendations')\n",
    "\n",
    "plt.subplot(1,2,2)\n",
    "sns.countplot(x='A free copy of Mastering The Interview', hue='Converted', data= Leads_data).tick_params(axis='x', rotation = 90)\n",
    "plt.title('A free copy of Mastering The Interview')\n",
    "plt.show()"
   ]
  },
  {
   "cell_type": "markdown",
   "metadata": {},
   "source": [
    "## Create Dummy variable"
   ]
  },
  {
   "cell_type": "code",
   "execution_count": 53,
   "metadata": {},
   "outputs": [],
   "source": [
    "# Creating a dummy variable for some of the categorical variables and dropping the first one.\n",
    "dummy1 = pd.get_dummies(Leads_data[[\"Lead Origin\",\"Lead Source\",\"Last Activity\",\"Country\",\"Specialization\",\"What is your current occupation\",\n",
    "        \"Last Notable Activity\"]], drop_first=True)\n",
    "\n",
    " #Adding the results to the master dataframe\n",
    "Leads_data = pd.concat([Leads_data, dummy1], axis=1)"
   ]
  },
  {
   "cell_type": "code",
   "execution_count": 54,
   "metadata": {},
   "outputs": [
    {
     "data": {
      "text/plain": [
       "(9240, 79)"
      ]
     },
     "execution_count": 54,
     "metadata": {},
     "output_type": "execute_result"
    }
   ],
   "source": [
    "Leads_data.shape"
   ]
  },
  {
   "cell_type": "code",
   "execution_count": 55,
   "metadata": {},
   "outputs": [],
   "source": [
    "# We have created dummies for the below variables, so we can drop them\n",
    "Leads_data = Leads_data.drop([\"Lead Origin\",\"Lead Source\",\"Last Activity\",\"Country\",\"Specialization\",\"Specialization_not provided\",\"What is your current occupation\",\n",
    "        \"Last Notable Activity\",\"What is your current occupation_not provided\",\"Country_not provided\"], 1)"
   ]
  },
  {
   "cell_type": "code",
   "execution_count": 58,
   "metadata": {},
   "outputs": [],
   "source": [
    "# Checking for outliers in the continuous variables\n",
    "num_Leads_data = Leads_data[['TotalVisits','Total Time Spent on Website','Page Views Per Visit']]"
   ]
  },
  {
   "cell_type": "code",
   "execution_count": 59,
   "metadata": {},
   "outputs": [
    {
     "data": {
      "text/html": [
       "<div>\n",
       "<style scoped>\n",
       "    .dataframe tbody tr th:only-of-type {\n",
       "        vertical-align: middle;\n",
       "    }\n",
       "\n",
       "    .dataframe tbody tr th {\n",
       "        vertical-align: top;\n",
       "    }\n",
       "\n",
       "    .dataframe thead th {\n",
       "        text-align: right;\n",
       "    }\n",
       "</style>\n",
       "<table border=\"1\" class=\"dataframe\">\n",
       "  <thead>\n",
       "    <tr style=\"text-align: right;\">\n",
       "      <th></th>\n",
       "      <th>TotalVisits</th>\n",
       "      <th>Total Time Spent on Website</th>\n",
       "      <th>Page Views Per Visit</th>\n",
       "    </tr>\n",
       "  </thead>\n",
       "  <tbody>\n",
       "    <tr>\n",
       "      <th>count</th>\n",
       "      <td>9240.000000</td>\n",
       "      <td>9240.000000</td>\n",
       "      <td>9240.000000</td>\n",
       "    </tr>\n",
       "    <tr>\n",
       "      <th>mean</th>\n",
       "      <td>3.394156</td>\n",
       "      <td>487.698268</td>\n",
       "      <td>2.327787</td>\n",
       "    </tr>\n",
       "    <tr>\n",
       "      <th>std</th>\n",
       "      <td>4.836682</td>\n",
       "      <td>548.021466</td>\n",
       "      <td>2.164258</td>\n",
       "    </tr>\n",
       "    <tr>\n",
       "      <th>min</th>\n",
       "      <td>0.000000</td>\n",
       "      <td>0.000000</td>\n",
       "      <td>0.000000</td>\n",
       "    </tr>\n",
       "    <tr>\n",
       "      <th>25%</th>\n",
       "      <td>0.000000</td>\n",
       "      <td>12.000000</td>\n",
       "      <td>0.000000</td>\n",
       "    </tr>\n",
       "    <tr>\n",
       "      <th>50%</th>\n",
       "      <td>3.000000</td>\n",
       "      <td>248.000000</td>\n",
       "      <td>2.000000</td>\n",
       "    </tr>\n",
       "    <tr>\n",
       "      <th>75%</th>\n",
       "      <td>5.000000</td>\n",
       "      <td>936.000000</td>\n",
       "      <td>3.000000</td>\n",
       "    </tr>\n",
       "    <tr>\n",
       "      <th>90%</th>\n",
       "      <td>7.000000</td>\n",
       "      <td>1380.000000</td>\n",
       "      <td>5.000000</td>\n",
       "    </tr>\n",
       "    <tr>\n",
       "      <th>95%</th>\n",
       "      <td>10.000000</td>\n",
       "      <td>1562.000000</td>\n",
       "      <td>6.000000</td>\n",
       "    </tr>\n",
       "    <tr>\n",
       "      <th>99%</th>\n",
       "      <td>17.000000</td>\n",
       "      <td>1840.610000</td>\n",
       "      <td>9.000000</td>\n",
       "    </tr>\n",
       "    <tr>\n",
       "      <th>max</th>\n",
       "      <td>251.000000</td>\n",
       "      <td>2272.000000</td>\n",
       "      <td>55.000000</td>\n",
       "    </tr>\n",
       "  </tbody>\n",
       "</table>\n",
       "</div>"
      ],
      "text/plain": [
       "       TotalVisits  Total Time Spent on Website  Page Views Per Visit\n",
       "count  9240.000000                  9240.000000           9240.000000\n",
       "mean      3.394156                   487.698268              2.327787\n",
       "std       4.836682                   548.021466              2.164258\n",
       "min       0.000000                     0.000000              0.000000\n",
       "25%       0.000000                    12.000000              0.000000\n",
       "50%       3.000000                   248.000000              2.000000\n",
       "75%       5.000000                   936.000000              3.000000\n",
       "90%       7.000000                  1380.000000              5.000000\n",
       "95%      10.000000                  1562.000000              6.000000\n",
       "99%      17.000000                  1840.610000              9.000000\n",
       "max     251.000000                  2272.000000             55.000000"
      ]
     },
     "execution_count": 59,
     "metadata": {},
     "output_type": "execute_result"
    }
   ],
   "source": [
    "# Checking outliers at 25%, 50%, 75%, 90%, 95% and 99%\n",
    "num_Leads_data.describe(percentiles=[.25, .5, .75, .90, .95, .99])"
   ]
  },
  {
   "cell_type": "markdown",
   "metadata": {},
   "source": [
    "From the distribution shown above, you can see that there no outliers in your data. The numbers are gradually increasing."
   ]
  },
  {
   "cell_type": "markdown",
   "metadata": {},
   "source": [
    "# Train-Test Split & Logistic Regression Model Building:"
   ]
  },
  {
   "cell_type": "code",
   "execution_count": 60,
   "metadata": {},
   "outputs": [],
   "source": [
    "from sklearn.model_selection import train_test_split\n",
    "\n",
    "# Putting response variable to y\n",
    "y = Leads_data['Converted']\n",
    "\n",
    "y.head()\n",
    "\n",
    "X=Leads_data.drop('Converted', axis=1)"
   ]
  },
  {
   "cell_type": "code",
   "execution_count": 61,
   "metadata": {},
   "outputs": [],
   "source": [
    "# Splitting the data into train and test\n",
    "X_train, X_test, y_train, y_test = train_test_split(X, y, train_size=0.7, test_size=0.3, random_state=100)"
   ]
  },
  {
   "cell_type": "code",
   "execution_count": 62,
   "metadata": {},
   "outputs": [
    {
     "name": "stdout",
     "output_type": "stream",
     "text": [
      "<class 'pandas.core.frame.DataFrame'>\n",
      "Int64Index: 6468 entries, 1871 to 5640\n",
      "Data columns (total 68 columns):\n",
      " #   Column                                                Non-Null Count  Dtype  \n",
      "---  ------                                                --------------  -----  \n",
      " 0   Do Not Email                                          6468 non-null   int64  \n",
      " 1   Do Not Call                                           6468 non-null   int64  \n",
      " 2   TotalVisits                                           6468 non-null   float64\n",
      " 3   Total Time Spent on Website                           6468 non-null   int64  \n",
      " 4   Page Views Per Visit                                  6468 non-null   float64\n",
      " 5   Search                                                6468 non-null   int64  \n",
      " 6   Newspaper Article                                     6468 non-null   int64  \n",
      " 7   X Education Forums                                    6468 non-null   int64  \n",
      " 8   Newspaper                                             6468 non-null   int64  \n",
      " 9   Digital Advertisement                                 6468 non-null   int64  \n",
      " 10  Through Recommendations                               6468 non-null   int64  \n",
      " 11  A free copy of Mastering The Interview                6468 non-null   int64  \n",
      " 12  Lead Origin_landing page submission                   6468 non-null   uint8  \n",
      " 13  Lead Origin_lead add form                             6468 non-null   uint8  \n",
      " 14  Lead Origin_lead import                               6468 non-null   uint8  \n",
      " 15  Lead Origin_quick add form                            6468 non-null   uint8  \n",
      " 16  Lead Source_direct traffic                            6468 non-null   uint8  \n",
      " 17  Lead Source_facebook                                  6468 non-null   uint8  \n",
      " 18  Lead Source_google                                    6468 non-null   uint8  \n",
      " 19  Lead Source_olark chat                                6468 non-null   uint8  \n",
      " 20  Lead Source_organic search                            6468 non-null   uint8  \n",
      " 21  Lead Source_reference                                 6468 non-null   uint8  \n",
      " 22  Lead Source_referral sites                            6468 non-null   uint8  \n",
      " 23  Lead Source_welingak website                          6468 non-null   uint8  \n",
      " 24  Last Activity_converted to lead                       6468 non-null   uint8  \n",
      " 25  Last Activity_email bounced                           6468 non-null   uint8  \n",
      " 26  Last Activity_email link clicked                      6468 non-null   uint8  \n",
      " 27  Last Activity_email opened                            6468 non-null   uint8  \n",
      " 28  Last Activity_form submitted on website               6468 non-null   uint8  \n",
      " 29  Last Activity_had a phone conversation                6468 non-null   uint8  \n",
      " 30  Last Activity_olark chat conversation                 6468 non-null   uint8  \n",
      " 31  Last Activity_page visited on website                 6468 non-null   uint8  \n",
      " 32  Last Activity_sms sent                                6468 non-null   uint8  \n",
      " 33  Last Activity_unreachable                             6468 non-null   uint8  \n",
      " 34  Last Activity_unsubscribed                            6468 non-null   uint8  \n",
      " 35  Country_india                                         6468 non-null   uint8  \n",
      " 36  Specialization_business administration                6468 non-null   uint8  \n",
      " 37  Specialization_e-business                             6468 non-null   uint8  \n",
      " 38  Specialization_e-commerce                             6468 non-null   uint8  \n",
      " 39  Specialization_finance management                     6468 non-null   uint8  \n",
      " 40  Specialization_healthcare management                  6468 non-null   uint8  \n",
      " 41  Specialization_hospitality management                 6468 non-null   uint8  \n",
      " 42  Specialization_human resource management              6468 non-null   uint8  \n",
      " 43  Specialization_international business                 6468 non-null   uint8  \n",
      " 44  Specialization_it projects management                 6468 non-null   uint8  \n",
      " 45  Specialization_marketing management                   6468 non-null   uint8  \n",
      " 46  Specialization_media and advertising                  6468 non-null   uint8  \n",
      " 47  Specialization_operations management                  6468 non-null   uint8  \n",
      " 48  Specialization_retail management                      6468 non-null   uint8  \n",
      " 49  Specialization_rural and agribusiness                 6468 non-null   uint8  \n",
      " 50  Specialization_services excellence                    6468 non-null   uint8  \n",
      " 51  Specialization_supply chain management                6468 non-null   uint8  \n",
      " 52  Specialization_travel and tourism                     6468 non-null   uint8  \n",
      " 53  What is your current occupation_housewife             6468 non-null   uint8  \n",
      " 54  What is your current occupation_other                 6468 non-null   uint8  \n",
      " 55  What is your current occupation_student               6468 non-null   uint8  \n",
      " 56  What is your current occupation_unemployed            6468 non-null   uint8  \n",
      " 57  What is your current occupation_working professional  6468 non-null   uint8  \n",
      " 58  Last Notable Activity_email bounced                   6468 non-null   uint8  \n",
      " 59  Last Notable Activity_email link clicked              6468 non-null   uint8  \n",
      " 60  Last Notable Activity_email opened                    6468 non-null   uint8  \n",
      " 61  Last Notable Activity_had a phone conversation        6468 non-null   uint8  \n",
      " 62  Last Notable Activity_modified                        6468 non-null   uint8  \n",
      " 63  Last Notable Activity_olark chat conversation         6468 non-null   uint8  \n",
      " 64  Last Notable Activity_page visited on website         6468 non-null   uint8  \n",
      " 65  Last Notable Activity_sms sent                        6468 non-null   uint8  \n",
      " 66  Last Notable Activity_unreachable                     6468 non-null   uint8  \n",
      " 67  Last Notable Activity_unsubscribed                    6468 non-null   uint8  \n",
      "dtypes: float64(2), int64(10), uint8(56)\n",
      "memory usage: 1010.6 KB\n"
     ]
    }
   ],
   "source": [
    "X_train.info()"
   ]
  },
  {
   "cell_type": "code",
   "execution_count": 63,
   "metadata": {},
   "outputs": [
    {
     "data": {
      "text/html": [
       "<div>\n",
       "<style scoped>\n",
       "    .dataframe tbody tr th:only-of-type {\n",
       "        vertical-align: middle;\n",
       "    }\n",
       "\n",
       "    .dataframe tbody tr th {\n",
       "        vertical-align: top;\n",
       "    }\n",
       "\n",
       "    .dataframe thead th {\n",
       "        text-align: right;\n",
       "    }\n",
       "</style>\n",
       "<table border=\"1\" class=\"dataframe\">\n",
       "  <thead>\n",
       "    <tr style=\"text-align: right;\">\n",
       "      <th></th>\n",
       "      <th>Do Not Email</th>\n",
       "      <th>Do Not Call</th>\n",
       "      <th>TotalVisits</th>\n",
       "      <th>Total Time Spent on Website</th>\n",
       "      <th>Page Views Per Visit</th>\n",
       "      <th>Search</th>\n",
       "      <th>Newspaper Article</th>\n",
       "      <th>X Education Forums</th>\n",
       "      <th>Newspaper</th>\n",
       "      <th>Digital Advertisement</th>\n",
       "      <th>...</th>\n",
       "      <th>Last Notable Activity_email bounced</th>\n",
       "      <th>Last Notable Activity_email link clicked</th>\n",
       "      <th>Last Notable Activity_email opened</th>\n",
       "      <th>Last Notable Activity_had a phone conversation</th>\n",
       "      <th>Last Notable Activity_modified</th>\n",
       "      <th>Last Notable Activity_olark chat conversation</th>\n",
       "      <th>Last Notable Activity_page visited on website</th>\n",
       "      <th>Last Notable Activity_sms sent</th>\n",
       "      <th>Last Notable Activity_unreachable</th>\n",
       "      <th>Last Notable Activity_unsubscribed</th>\n",
       "    </tr>\n",
       "  </thead>\n",
       "  <tbody>\n",
       "    <tr>\n",
       "      <th>1871</th>\n",
       "      <td>-0.291638</td>\n",
       "      <td>-0.017587</td>\n",
       "      <td>-0.645678</td>\n",
       "      <td>-0.885371</td>\n",
       "      <td>-1.062143</td>\n",
       "      <td>-0.041274</td>\n",
       "      <td>-0.017587</td>\n",
       "      <td>-0.012435</td>\n",
       "      <td>-0.012435</td>\n",
       "      <td>-0.021542</td>\n",
       "      <td>...</td>\n",
       "      <td>0</td>\n",
       "      <td>0</td>\n",
       "      <td>1</td>\n",
       "      <td>0</td>\n",
       "      <td>0</td>\n",
       "      <td>0</td>\n",
       "      <td>0</td>\n",
       "      <td>0</td>\n",
       "      <td>0</td>\n",
       "      <td>0</td>\n",
       "    </tr>\n",
       "    <tr>\n",
       "      <th>6795</th>\n",
       "      <td>-0.291638</td>\n",
       "      <td>-0.017587</td>\n",
       "      <td>0.109111</td>\n",
       "      <td>0.005716</td>\n",
       "      <td>-0.452487</td>\n",
       "      <td>-0.041274</td>\n",
       "      <td>-0.017587</td>\n",
       "      <td>-0.012435</td>\n",
       "      <td>-0.012435</td>\n",
       "      <td>-0.021542</td>\n",
       "      <td>...</td>\n",
       "      <td>0</td>\n",
       "      <td>0</td>\n",
       "      <td>1</td>\n",
       "      <td>0</td>\n",
       "      <td>0</td>\n",
       "      <td>0</td>\n",
       "      <td>0</td>\n",
       "      <td>0</td>\n",
       "      <td>0</td>\n",
       "      <td>0</td>\n",
       "    </tr>\n",
       "    <tr>\n",
       "      <th>3516</th>\n",
       "      <td>-0.291638</td>\n",
       "      <td>-0.017587</td>\n",
       "      <td>0.297808</td>\n",
       "      <td>-0.691418</td>\n",
       "      <td>0.083827</td>\n",
       "      <td>-0.041274</td>\n",
       "      <td>-0.017587</td>\n",
       "      <td>-0.012435</td>\n",
       "      <td>-0.012435</td>\n",
       "      <td>-0.021542</td>\n",
       "      <td>...</td>\n",
       "      <td>0</td>\n",
       "      <td>0</td>\n",
       "      <td>1</td>\n",
       "      <td>0</td>\n",
       "      <td>0</td>\n",
       "      <td>0</td>\n",
       "      <td>0</td>\n",
       "      <td>0</td>\n",
       "      <td>0</td>\n",
       "      <td>0</td>\n",
       "    </tr>\n",
       "    <tr>\n",
       "      <th>8105</th>\n",
       "      <td>-0.291638</td>\n",
       "      <td>-0.017587</td>\n",
       "      <td>0.297808</td>\n",
       "      <td>1.365219</td>\n",
       "      <td>1.229797</td>\n",
       "      <td>-0.041274</td>\n",
       "      <td>-0.017587</td>\n",
       "      <td>-0.012435</td>\n",
       "      <td>-0.012435</td>\n",
       "      <td>-0.021542</td>\n",
       "      <td>...</td>\n",
       "      <td>0</td>\n",
       "      <td>0</td>\n",
       "      <td>0</td>\n",
       "      <td>0</td>\n",
       "      <td>0</td>\n",
       "      <td>0</td>\n",
       "      <td>0</td>\n",
       "      <td>1</td>\n",
       "      <td>0</td>\n",
       "      <td>0</td>\n",
       "    </tr>\n",
       "    <tr>\n",
       "      <th>3934</th>\n",
       "      <td>-0.291638</td>\n",
       "      <td>-0.017587</td>\n",
       "      <td>-0.645678</td>\n",
       "      <td>-0.885371</td>\n",
       "      <td>-1.062143</td>\n",
       "      <td>-0.041274</td>\n",
       "      <td>-0.017587</td>\n",
       "      <td>-0.012435</td>\n",
       "      <td>-0.012435</td>\n",
       "      <td>-0.021542</td>\n",
       "      <td>...</td>\n",
       "      <td>0</td>\n",
       "      <td>0</td>\n",
       "      <td>0</td>\n",
       "      <td>0</td>\n",
       "      <td>1</td>\n",
       "      <td>0</td>\n",
       "      <td>0</td>\n",
       "      <td>0</td>\n",
       "      <td>0</td>\n",
       "      <td>0</td>\n",
       "    </tr>\n",
       "  </tbody>\n",
       "</table>\n",
       "<p>5 rows × 68 columns</p>\n",
       "</div>"
      ],
      "text/plain": [
       "      Do Not Email  Do Not Call  TotalVisits  Total Time Spent on Website  \\\n",
       "1871     -0.291638    -0.017587    -0.645678                    -0.885371   \n",
       "6795     -0.291638    -0.017587     0.109111                     0.005716   \n",
       "3516     -0.291638    -0.017587     0.297808                    -0.691418   \n",
       "8105     -0.291638    -0.017587     0.297808                     1.365219   \n",
       "3934     -0.291638    -0.017587    -0.645678                    -0.885371   \n",
       "\n",
       "      Page Views Per Visit    Search  Newspaper Article  X Education Forums  \\\n",
       "1871             -1.062143 -0.041274          -0.017587           -0.012435   \n",
       "6795             -0.452487 -0.041274          -0.017587           -0.012435   \n",
       "3516              0.083827 -0.041274          -0.017587           -0.012435   \n",
       "8105              1.229797 -0.041274          -0.017587           -0.012435   \n",
       "3934             -1.062143 -0.041274          -0.017587           -0.012435   \n",
       "\n",
       "      Newspaper  Digital Advertisement  ...  \\\n",
       "1871  -0.012435              -0.021542  ...   \n",
       "6795  -0.012435              -0.021542  ...   \n",
       "3516  -0.012435              -0.021542  ...   \n",
       "8105  -0.012435              -0.021542  ...   \n",
       "3934  -0.012435              -0.021542  ...   \n",
       "\n",
       "      Last Notable Activity_email bounced  \\\n",
       "1871                                    0   \n",
       "6795                                    0   \n",
       "3516                                    0   \n",
       "8105                                    0   \n",
       "3934                                    0   \n",
       "\n",
       "      Last Notable Activity_email link clicked  \\\n",
       "1871                                         0   \n",
       "6795                                         0   \n",
       "3516                                         0   \n",
       "8105                                         0   \n",
       "3934                                         0   \n",
       "\n",
       "      Last Notable Activity_email opened  \\\n",
       "1871                                   1   \n",
       "6795                                   1   \n",
       "3516                                   1   \n",
       "8105                                   0   \n",
       "3934                                   0   \n",
       "\n",
       "      Last Notable Activity_had a phone conversation  \\\n",
       "1871                                               0   \n",
       "6795                                               0   \n",
       "3516                                               0   \n",
       "8105                                               0   \n",
       "3934                                               0   \n",
       "\n",
       "      Last Notable Activity_modified  \\\n",
       "1871                               0   \n",
       "6795                               0   \n",
       "3516                               0   \n",
       "8105                               0   \n",
       "3934                               1   \n",
       "\n",
       "      Last Notable Activity_olark chat conversation  \\\n",
       "1871                                              0   \n",
       "6795                                              0   \n",
       "3516                                              0   \n",
       "8105                                              0   \n",
       "3934                                              0   \n",
       "\n",
       "      Last Notable Activity_page visited on website  \\\n",
       "1871                                              0   \n",
       "6795                                              0   \n",
       "3516                                              0   \n",
       "8105                                              0   \n",
       "3934                                              0   \n",
       "\n",
       "      Last Notable Activity_sms sent  Last Notable Activity_unreachable  \\\n",
       "1871                               0                                  0   \n",
       "6795                               0                                  0   \n",
       "3516                               0                                  0   \n",
       "8105                               1                                  0   \n",
       "3934                               0                                  0   \n",
       "\n",
       "      Last Notable Activity_unsubscribed  \n",
       "1871                                   0  \n",
       "6795                                   0  \n",
       "3516                                   0  \n",
       "8105                                   0  \n",
       "3934                                   0  \n",
       "\n",
       "[5 rows x 68 columns]"
      ]
     },
     "execution_count": 63,
     "metadata": {},
     "output_type": "execute_result"
    }
   ],
   "source": [
    "#scaling numeric columns\n",
    "\n",
    "from sklearn.preprocessing import StandardScaler\n",
    "\n",
    "scaler = StandardScaler()\n",
    "\n",
    "num_cols=X_train.select_dtypes(include=['float64', 'int64']).columns\n",
    "\n",
    "X_train[num_cols] = scaler.fit_transform(X_train[num_cols])\n",
    "\n",
    "\n",
    "X_train.head()"
   ]
  },
  {
   "cell_type": "markdown",
   "metadata": {},
   "source": [
    "# Model Building using Stats Model & RFE:"
   ]
  },
  {
   "cell_type": "code",
   "execution_count": 64,
   "metadata": {},
   "outputs": [],
   "source": [
    "import statsmodels.api as sm"
   ]
  },
  {
   "cell_type": "code",
   "execution_count": 65,
   "metadata": {},
   "outputs": [],
   "source": [
    "from sklearn.linear_model import LogisticRegression\n",
    "logreg = LogisticRegression()\n",
    "# Import RFE\n"
   ]
  },
  {
   "cell_type": "code",
   "execution_count": 66,
   "metadata": {},
   "outputs": [],
   "source": [
    "from sklearn.feature_selection import RFE\n",
    "# Running RFE with 15 variables as output\n",
    "rfe = RFE(logreg, n_features_to_select=15)\n",
    "rfe = rfe.fit(X_train, y_train)"
   ]
  },
  {
   "cell_type": "code",
   "execution_count": 67,
   "metadata": {},
   "outputs": [
    {
     "data": {
      "text/plain": [
       "array([False, False, False,  True, False, False, False, False, False,\n",
       "       False, False, False, False,  True, False, False,  True, False,\n",
       "       False, False,  True, False, False,  True, False,  True, False,\n",
       "       False, False,  True, False, False,  True, False, False, False,\n",
       "       False, False, False, False, False, False, False, False, False,\n",
       "       False, False, False, False, False, False, False, False,  True,\n",
       "       False,  True,  True,  True, False, False, False,  True,  True,\n",
       "       False, False, False,  True, False])"
      ]
     },
     "execution_count": 67,
     "metadata": {},
     "output_type": "execute_result"
    }
   ],
   "source": [
    "rfe.support_"
   ]
  },
  {
   "cell_type": "code",
   "execution_count": 68,
   "metadata": {},
   "outputs": [
    {
     "data": {
      "text/plain": [
       "[('Do Not Email', False, 34),\n",
       " ('Do Not Call', False, 45),\n",
       " ('TotalVisits', False, 39),\n",
       " ('Total Time Spent on Website', True, 1),\n",
       " ('Page Views Per Visit', False, 42),\n",
       " ('Search', False, 54),\n",
       " ('Newspaper Article', False, 44),\n",
       " ('X Education Forums', False, 49),\n",
       " ('Newspaper', False, 47),\n",
       " ('Digital Advertisement', False, 41),\n",
       " ('Through Recommendations', False, 51),\n",
       " ('A free copy of Mastering The Interview', False, 50),\n",
       " ('Lead Origin_landing page submission', False, 19),\n",
       " ('Lead Origin_lead add form', True, 1),\n",
       " ('Lead Origin_lead import', False, 35),\n",
       " ('Lead Origin_quick add form', False, 38),\n",
       " ('Lead Source_direct traffic', True, 1),\n",
       " ('Lead Source_facebook', False, 4),\n",
       " ('Lead Source_google', False, 3),\n",
       " ('Lead Source_olark chat', False, 9),\n",
       " ('Lead Source_organic search', True, 1),\n",
       " ('Lead Source_reference', False, 37),\n",
       " ('Lead Source_referral sites', False, 2),\n",
       " ('Lead Source_welingak website', True, 1),\n",
       " ('Last Activity_converted to lead', False, 7),\n",
       " ('Last Activity_email bounced', True, 1),\n",
       " ('Last Activity_email link clicked', False, 30),\n",
       " ('Last Activity_email opened', False, 48),\n",
       " ('Last Activity_form submitted on website', False, 31),\n",
       " ('Last Activity_had a phone conversation', True, 1),\n",
       " ('Last Activity_olark chat conversation', False, 5),\n",
       " ('Last Activity_page visited on website', False, 13),\n",
       " ('Last Activity_sms sent', True, 1),\n",
       " ('Last Activity_unreachable', False, 14),\n",
       " ('Last Activity_unsubscribed', False, 46),\n",
       " ('Country_india', False, 36),\n",
       " ('Specialization_business administration', False, 28),\n",
       " ('Specialization_e-business', False, 24),\n",
       " ('Specialization_e-commerce', False, 16),\n",
       " ('Specialization_finance management', False, 18),\n",
       " ('Specialization_healthcare management', False, 17),\n",
       " ('Specialization_hospitality management', False, 6),\n",
       " ('Specialization_human resource management', False, 26),\n",
       " ('Specialization_international business', False, 40),\n",
       " ('Specialization_it projects management', False, 20),\n",
       " ('Specialization_marketing management', False, 22),\n",
       " ('Specialization_media and advertising', False, 21),\n",
       " ('Specialization_operations management', False, 27),\n",
       " ('Specialization_retail management', False, 43),\n",
       " ('Specialization_rural and agribusiness', False, 10),\n",
       " ('Specialization_services excellence', False, 29),\n",
       " ('Specialization_supply chain management', False, 25),\n",
       " ('Specialization_travel and tourism', False, 23),\n",
       " ('What is your current occupation_housewife', True, 1),\n",
       " ('What is your current occupation_other', False, 8),\n",
       " ('What is your current occupation_student', True, 1),\n",
       " ('What is your current occupation_unemployed', True, 1),\n",
       " ('What is your current occupation_working professional', True, 1),\n",
       " ('Last Notable Activity_email bounced', False, 33),\n",
       " ('Last Notable Activity_email link clicked', False, 11),\n",
       " ('Last Notable Activity_email opened', False, 15),\n",
       " ('Last Notable Activity_had a phone conversation', True, 1),\n",
       " ('Last Notable Activity_modified', True, 1),\n",
       " ('Last Notable Activity_olark chat conversation', False, 12),\n",
       " ('Last Notable Activity_page visited on website', False, 32),\n",
       " ('Last Notable Activity_sms sent', False, 52),\n",
       " ('Last Notable Activity_unreachable', True, 1),\n",
       " ('Last Notable Activity_unsubscribed', False, 53)]"
      ]
     },
     "execution_count": 68,
     "metadata": {},
     "output_type": "execute_result"
    }
   ],
   "source": [
    "list(zip(X_train.columns, rfe.support_, rfe.ranking_))"
   ]
  },
  {
   "cell_type": "code",
   "execution_count": 69,
   "metadata": {},
   "outputs": [
    {
     "data": {
      "text/plain": [
       "Index(['Total Time Spent on Website', 'Lead Origin_lead add form',\n",
       "       'Lead Source_direct traffic', 'Lead Source_organic search',\n",
       "       'Lead Source_welingak website', 'Last Activity_email bounced',\n",
       "       'Last Activity_had a phone conversation', 'Last Activity_sms sent',\n",
       "       'What is your current occupation_housewife',\n",
       "       'What is your current occupation_student',\n",
       "       'What is your current occupation_unemployed',\n",
       "       'What is your current occupation_working professional',\n",
       "       'Last Notable Activity_had a phone conversation',\n",
       "       'Last Notable Activity_modified', 'Last Notable Activity_unreachable'],\n",
       "      dtype='object')"
      ]
     },
     "execution_count": 69,
     "metadata": {},
     "output_type": "execute_result"
    }
   ],
   "source": [
    "#list of RFE supported columns\n",
    "col = X_train.columns[rfe.support_]\n",
    "col"
   ]
  },
  {
   "cell_type": "code",
   "execution_count": 70,
   "metadata": {},
   "outputs": [
    {
     "data": {
      "text/plain": [
       "Index(['Do Not Email', 'Do Not Call', 'TotalVisits', 'Page Views Per Visit',\n",
       "       'Search', 'Newspaper Article', 'X Education Forums', 'Newspaper',\n",
       "       'Digital Advertisement', 'Through Recommendations',\n",
       "       'A free copy of Mastering The Interview',\n",
       "       'Lead Origin_landing page submission', 'Lead Origin_lead import',\n",
       "       'Lead Origin_quick add form', 'Lead Source_facebook',\n",
       "       'Lead Source_google', 'Lead Source_olark chat', 'Lead Source_reference',\n",
       "       'Lead Source_referral sites', 'Last Activity_converted to lead',\n",
       "       'Last Activity_email link clicked', 'Last Activity_email opened',\n",
       "       'Last Activity_form submitted on website',\n",
       "       'Last Activity_olark chat conversation',\n",
       "       'Last Activity_page visited on website', 'Last Activity_unreachable',\n",
       "       'Last Activity_unsubscribed', 'Country_india',\n",
       "       'Specialization_business administration', 'Specialization_e-business',\n",
       "       'Specialization_e-commerce', 'Specialization_finance management',\n",
       "       'Specialization_healthcare management',\n",
       "       'Specialization_hospitality management',\n",
       "       'Specialization_human resource management',\n",
       "       'Specialization_international business',\n",
       "       'Specialization_it projects management',\n",
       "       'Specialization_marketing management',\n",
       "       'Specialization_media and advertising',\n",
       "       'Specialization_operations management',\n",
       "       'Specialization_retail management',\n",
       "       'Specialization_rural and agribusiness',\n",
       "       'Specialization_services excellence',\n",
       "       'Specialization_supply chain management',\n",
       "       'Specialization_travel and tourism',\n",
       "       'What is your current occupation_other',\n",
       "       'Last Notable Activity_email bounced',\n",
       "       'Last Notable Activity_email link clicked',\n",
       "       'Last Notable Activity_email opened',\n",
       "       'Last Notable Activity_olark chat conversation',\n",
       "       'Last Notable Activity_page visited on website',\n",
       "       'Last Notable Activity_sms sent', 'Last Notable Activity_unsubscribed'],\n",
       "      dtype='object')"
      ]
     },
     "execution_count": 70,
     "metadata": {},
     "output_type": "execute_result"
    }
   ],
   "source": [
    "X_train.columns[~rfe.support_]"
   ]
  },
  {
   "cell_type": "code",
   "execution_count": 71,
   "metadata": {},
   "outputs": [
    {
     "data": {
      "text/html": [
       "<table class=\"simpletable\">\n",
       "<caption>Generalized Linear Model Regression Results</caption>\n",
       "<tr>\n",
       "  <th>Dep. Variable:</th>       <td>Converted</td>    <th>  No. Observations:  </th>  <td>  6468</td> \n",
       "</tr>\n",
       "<tr>\n",
       "  <th>Model:</th>                  <td>GLM</td>       <th>  Df Residuals:      </th>  <td>  6452</td> \n",
       "</tr>\n",
       "<tr>\n",
       "  <th>Model Family:</th>        <td>Binomial</td>     <th>  Df Model:          </th>  <td>    15</td> \n",
       "</tr>\n",
       "<tr>\n",
       "  <th>Link Function:</th>         <td>logit</td>      <th>  Scale:             </th> <td>  1.0000</td>\n",
       "</tr>\n",
       "<tr>\n",
       "  <th>Method:</th>                <td>IRLS</td>       <th>  Log-Likelihood:    </th> <td> -2672.4</td>\n",
       "</tr>\n",
       "<tr>\n",
       "  <th>Date:</th>            <td>Tue, 18 Oct 2022</td> <th>  Deviance:          </th> <td>  5344.8</td>\n",
       "</tr>\n",
       "<tr>\n",
       "  <th>Time:</th>                <td>09:19:29</td>     <th>  Pearson chi2:      </th> <td>6.63e+03</td>\n",
       "</tr>\n",
       "<tr>\n",
       "  <th>No. Iterations:</th>         <td>21</td>        <th>                     </th>     <td> </td>   \n",
       "</tr>\n",
       "<tr>\n",
       "  <th>Covariance Type:</th>     <td>nonrobust</td>    <th>                     </th>     <td> </td>   \n",
       "</tr>\n",
       "</table>\n",
       "<table class=\"simpletable\">\n",
       "<tr>\n",
       "                            <td></td>                              <th>coef</th>     <th>std err</th>      <th>z</th>      <th>P>|z|</th>  <th>[0.025</th>    <th>0.975]</th>  \n",
       "</tr>\n",
       "<tr>\n",
       "  <th>const</th>                                                <td>   -1.5572</td> <td>    0.087</td> <td>  -17.815</td> <td> 0.000</td> <td>   -1.728</td> <td>   -1.386</td>\n",
       "</tr>\n",
       "<tr>\n",
       "  <th>Total Time Spent on Website</th>                          <td>    0.9638</td> <td>    0.036</td> <td>   27.128</td> <td> 0.000</td> <td>    0.894</td> <td>    1.033</td>\n",
       "</tr>\n",
       "<tr>\n",
       "  <th>Lead Origin_lead add form</th>                            <td>    2.9264</td> <td>    0.188</td> <td>   15.579</td> <td> 0.000</td> <td>    2.558</td> <td>    3.295</td>\n",
       "</tr>\n",
       "<tr>\n",
       "  <th>Lead Source_direct traffic</th>                           <td>   -0.7043</td> <td>    0.082</td> <td>   -8.625</td> <td> 0.000</td> <td>   -0.864</td> <td>   -0.544</td>\n",
       "</tr>\n",
       "<tr>\n",
       "  <th>Lead Source_organic search</th>                           <td>   -0.4821</td> <td>    0.106</td> <td>   -4.556</td> <td> 0.000</td> <td>   -0.689</td> <td>   -0.275</td>\n",
       "</tr>\n",
       "<tr>\n",
       "  <th>Lead Source_welingak website</th>                         <td>    1.8464</td> <td>    0.742</td> <td>    2.488</td> <td> 0.013</td> <td>    0.392</td> <td>    3.301</td>\n",
       "</tr>\n",
       "<tr>\n",
       "  <th>Last Activity_email bounced</th>                          <td>   -1.3722</td> <td>    0.295</td> <td>   -4.658</td> <td> 0.000</td> <td>   -1.950</td> <td>   -0.795</td>\n",
       "</tr>\n",
       "<tr>\n",
       "  <th>Last Activity_had a phone conversation</th>               <td>    1.0939</td> <td>    0.906</td> <td>    1.208</td> <td> 0.227</td> <td>   -0.681</td> <td>    2.869</td>\n",
       "</tr>\n",
       "<tr>\n",
       "  <th>Last Activity_sms sent</th>                               <td>    1.1817</td> <td>    0.073</td> <td>   16.137</td> <td> 0.000</td> <td>    1.038</td> <td>    1.325</td>\n",
       "</tr>\n",
       "<tr>\n",
       "  <th>What is your current occupation_housewife</th>            <td>   23.7995</td> <td>  1.4e+04</td> <td>    0.002</td> <td> 0.999</td> <td>-2.74e+04</td> <td> 2.74e+04</td>\n",
       "</tr>\n",
       "<tr>\n",
       "  <th>What is your current occupation_student</th>              <td>    1.2083</td> <td>    0.240</td> <td>    5.041</td> <td> 0.000</td> <td>    0.738</td> <td>    1.678</td>\n",
       "</tr>\n",
       "<tr>\n",
       "  <th>What is your current occupation_unemployed</th>           <td>    1.0307</td> <td>    0.085</td> <td>   12.063</td> <td> 0.000</td> <td>    0.863</td> <td>    1.198</td>\n",
       "</tr>\n",
       "<tr>\n",
       "  <th>What is your current occupation_working professional</th> <td>    3.5798</td> <td>    0.198</td> <td>   18.123</td> <td> 0.000</td> <td>    3.193</td> <td>    3.967</td>\n",
       "</tr>\n",
       "<tr>\n",
       "  <th>Last Notable Activity_had a phone conversation</th>       <td>    2.0212</td> <td>    1.431</td> <td>    1.413</td> <td> 0.158</td> <td>   -0.783</td> <td>    4.826</td>\n",
       "</tr>\n",
       "<tr>\n",
       "  <th>Last Notable Activity_modified</th>                       <td>   -0.9006</td> <td>    0.079</td> <td>  -11.451</td> <td> 0.000</td> <td>   -1.055</td> <td>   -0.746</td>\n",
       "</tr>\n",
       "<tr>\n",
       "  <th>Last Notable Activity_unreachable</th>                    <td>    1.6957</td> <td>    0.528</td> <td>    3.211</td> <td> 0.001</td> <td>    0.661</td> <td>    2.731</td>\n",
       "</tr>\n",
       "</table>"
      ],
      "text/plain": [
       "<class 'statsmodels.iolib.summary.Summary'>\n",
       "\"\"\"\n",
       "                 Generalized Linear Model Regression Results                  \n",
       "==============================================================================\n",
       "Dep. Variable:              Converted   No. Observations:                 6468\n",
       "Model:                            GLM   Df Residuals:                     6452\n",
       "Model Family:                Binomial   Df Model:                           15\n",
       "Link Function:                  logit   Scale:                          1.0000\n",
       "Method:                          IRLS   Log-Likelihood:                -2672.4\n",
       "Date:                Tue, 18 Oct 2022   Deviance:                       5344.8\n",
       "Time:                        09:19:29   Pearson chi2:                 6.63e+03\n",
       "No. Iterations:                    21                                         \n",
       "Covariance Type:            nonrobust                                         \n",
       "========================================================================================================================\n",
       "                                                           coef    std err          z      P>|z|      [0.025      0.975]\n",
       "------------------------------------------------------------------------------------------------------------------------\n",
       "const                                                   -1.5572      0.087    -17.815      0.000      -1.728      -1.386\n",
       "Total Time Spent on Website                              0.9638      0.036     27.128      0.000       0.894       1.033\n",
       "Lead Origin_lead add form                                2.9264      0.188     15.579      0.000       2.558       3.295\n",
       "Lead Source_direct traffic                              -0.7043      0.082     -8.625      0.000      -0.864      -0.544\n",
       "Lead Source_organic search                              -0.4821      0.106     -4.556      0.000      -0.689      -0.275\n",
       "Lead Source_welingak website                             1.8464      0.742      2.488      0.013       0.392       3.301\n",
       "Last Activity_email bounced                             -1.3722      0.295     -4.658      0.000      -1.950      -0.795\n",
       "Last Activity_had a phone conversation                   1.0939      0.906      1.208      0.227      -0.681       2.869\n",
       "Last Activity_sms sent                                   1.1817      0.073     16.137      0.000       1.038       1.325\n",
       "What is your current occupation_housewife               23.7995    1.4e+04      0.002      0.999   -2.74e+04    2.74e+04\n",
       "What is your current occupation_student                  1.2083      0.240      5.041      0.000       0.738       1.678\n",
       "What is your current occupation_unemployed               1.0307      0.085     12.063      0.000       0.863       1.198\n",
       "What is your current occupation_working professional     3.5798      0.198     18.123      0.000       3.193       3.967\n",
       "Last Notable Activity_had a phone conversation           2.0212      1.431      1.413      0.158      -0.783       4.826\n",
       "Last Notable Activity_modified                          -0.9006      0.079    -11.451      0.000      -1.055      -0.746\n",
       "Last Notable Activity_unreachable                        1.6957      0.528      3.211      0.001       0.661       2.731\n",
       "========================================================================================================================\n",
       "\"\"\""
      ]
     },
     "execution_count": 71,
     "metadata": {},
     "output_type": "execute_result"
    }
   ],
   "source": [
    "#BUILDING MODEL #1\n",
    "\n",
    "X_train_sm = sm.add_constant(X_train[col])\n",
    "logm1 = sm.GLM(y_train,X_train_sm, family = sm.families.Binomial())\n",
    "res = logm1.fit()\n",
    "res.summary()"
   ]
  },
  {
   "cell_type": "code",
   "execution_count": 72,
   "metadata": {},
   "outputs": [],
   "source": [
    "#dropping column with high p-value\n",
    "\n",
    "col = col.drop('What is your current occupation_housewife',1)\n"
   ]
  },
  {
   "cell_type": "code",
   "execution_count": 73,
   "metadata": {},
   "outputs": [
    {
     "data": {
      "text/html": [
       "<table class=\"simpletable\">\n",
       "<caption>Generalized Linear Model Regression Results</caption>\n",
       "<tr>\n",
       "  <th>Dep. Variable:</th>       <td>Converted</td>    <th>  No. Observations:  </th>  <td>  6468</td> \n",
       "</tr>\n",
       "<tr>\n",
       "  <th>Model:</th>                  <td>GLM</td>       <th>  Df Residuals:      </th>  <td>  6453</td> \n",
       "</tr>\n",
       "<tr>\n",
       "  <th>Model Family:</th>        <td>Binomial</td>     <th>  Df Model:          </th>  <td>    14</td> \n",
       "</tr>\n",
       "<tr>\n",
       "  <th>Link Function:</th>         <td>logit</td>      <th>  Scale:             </th> <td>  1.0000</td>\n",
       "</tr>\n",
       "<tr>\n",
       "  <th>Method:</th>                <td>IRLS</td>       <th>  Log-Likelihood:    </th> <td> -2683.9</td>\n",
       "</tr>\n",
       "<tr>\n",
       "  <th>Date:</th>            <td>Tue, 18 Oct 2022</td> <th>  Deviance:          </th> <td>  5367.7</td>\n",
       "</tr>\n",
       "<tr>\n",
       "  <th>Time:</th>                <td>09:19:30</td>     <th>  Pearson chi2:      </th> <td>6.67e+03</td>\n",
       "</tr>\n",
       "<tr>\n",
       "  <th>No. Iterations:</th>          <td>7</td>        <th>                     </th>     <td> </td>   \n",
       "</tr>\n",
       "<tr>\n",
       "  <th>Covariance Type:</th>     <td>nonrobust</td>    <th>                     </th>     <td> </td>   \n",
       "</tr>\n",
       "</table>\n",
       "<table class=\"simpletable\">\n",
       "<tr>\n",
       "                            <td></td>                              <th>coef</th>     <th>std err</th>      <th>z</th>      <th>P>|z|</th>  <th>[0.025</th>    <th>0.975]</th>  \n",
       "</tr>\n",
       "<tr>\n",
       "  <th>const</th>                                                <td>   -1.5257</td> <td>    0.086</td> <td>  -17.641</td> <td> 0.000</td> <td>   -1.695</td> <td>   -1.356</td>\n",
       "</tr>\n",
       "<tr>\n",
       "  <th>Total Time Spent on Website</th>                          <td>    0.9638</td> <td>    0.035</td> <td>   27.184</td> <td> 0.000</td> <td>    0.894</td> <td>    1.033</td>\n",
       "</tr>\n",
       "<tr>\n",
       "  <th>Lead Origin_lead add form</th>                            <td>    2.9798</td> <td>    0.188</td> <td>   15.874</td> <td> 0.000</td> <td>    2.612</td> <td>    3.348</td>\n",
       "</tr>\n",
       "<tr>\n",
       "  <th>Lead Source_direct traffic</th>                           <td>   -0.7018</td> <td>    0.081</td> <td>   -8.614</td> <td> 0.000</td> <td>   -0.861</td> <td>   -0.542</td>\n",
       "</tr>\n",
       "<tr>\n",
       "  <th>Lead Source_organic search</th>                           <td>   -0.4756</td> <td>    0.106</td> <td>   -4.505</td> <td> 0.000</td> <td>   -0.682</td> <td>   -0.269</td>\n",
       "</tr>\n",
       "<tr>\n",
       "  <th>Lead Source_welingak website</th>                         <td>    1.7971</td> <td>    0.742</td> <td>    2.421</td> <td> 0.015</td> <td>    0.343</td> <td>    3.252</td>\n",
       "</tr>\n",
       "<tr>\n",
       "  <th>Last Activity_email bounced</th>                          <td>   -1.3868</td> <td>    0.295</td> <td>   -4.698</td> <td> 0.000</td> <td>   -1.965</td> <td>   -0.808</td>\n",
       "</tr>\n",
       "<tr>\n",
       "  <th>Last Activity_had a phone conversation</th>               <td>    1.0780</td> <td>    0.906</td> <td>    1.190</td> <td> 0.234</td> <td>   -0.698</td> <td>    2.854</td>\n",
       "</tr>\n",
       "<tr>\n",
       "  <th>Last Activity_sms sent</th>                               <td>    1.1721</td> <td>    0.073</td> <td>   16.031</td> <td> 0.000</td> <td>    1.029</td> <td>    1.315</td>\n",
       "</tr>\n",
       "<tr>\n",
       "  <th>What is your current occupation_student</th>              <td>    1.1733</td> <td>    0.240</td> <td>    4.898</td> <td> 0.000</td> <td>    0.704</td> <td>    1.643</td>\n",
       "</tr>\n",
       "<tr>\n",
       "  <th>What is your current occupation_unemployed</th>           <td>    0.9986</td> <td>    0.085</td> <td>   11.809</td> <td> 0.000</td> <td>    0.833</td> <td>    1.164</td>\n",
       "</tr>\n",
       "<tr>\n",
       "  <th>What is your current occupation_working professional</th> <td>    3.5465</td> <td>    0.197</td> <td>   17.989</td> <td> 0.000</td> <td>    3.160</td> <td>    3.933</td>\n",
       "</tr>\n",
       "<tr>\n",
       "  <th>Last Notable Activity_had a phone conversation</th>       <td>    2.0290</td> <td>    1.431</td> <td>    1.418</td> <td> 0.156</td> <td>   -0.775</td> <td>    4.833</td>\n",
       "</tr>\n",
       "<tr>\n",
       "  <th>Last Notable Activity_modified</th>                       <td>   -0.8990</td> <td>    0.078</td> <td>  -11.464</td> <td> 0.000</td> <td>   -1.053</td> <td>   -0.745</td>\n",
       "</tr>\n",
       "<tr>\n",
       "  <th>Last Notable Activity_unreachable</th>                    <td>    1.6797</td> <td>    0.527</td> <td>    3.187</td> <td> 0.001</td> <td>    0.647</td> <td>    2.713</td>\n",
       "</tr>\n",
       "</table>"
      ],
      "text/plain": [
       "<class 'statsmodels.iolib.summary.Summary'>\n",
       "\"\"\"\n",
       "                 Generalized Linear Model Regression Results                  \n",
       "==============================================================================\n",
       "Dep. Variable:              Converted   No. Observations:                 6468\n",
       "Model:                            GLM   Df Residuals:                     6453\n",
       "Model Family:                Binomial   Df Model:                           14\n",
       "Link Function:                  logit   Scale:                          1.0000\n",
       "Method:                          IRLS   Log-Likelihood:                -2683.9\n",
       "Date:                Tue, 18 Oct 2022   Deviance:                       5367.7\n",
       "Time:                        09:19:30   Pearson chi2:                 6.67e+03\n",
       "No. Iterations:                     7                                         \n",
       "Covariance Type:            nonrobust                                         \n",
       "========================================================================================================================\n",
       "                                                           coef    std err          z      P>|z|      [0.025      0.975]\n",
       "------------------------------------------------------------------------------------------------------------------------\n",
       "const                                                   -1.5257      0.086    -17.641      0.000      -1.695      -1.356\n",
       "Total Time Spent on Website                              0.9638      0.035     27.184      0.000       0.894       1.033\n",
       "Lead Origin_lead add form                                2.9798      0.188     15.874      0.000       2.612       3.348\n",
       "Lead Source_direct traffic                              -0.7018      0.081     -8.614      0.000      -0.861      -0.542\n",
       "Lead Source_organic search                              -0.4756      0.106     -4.505      0.000      -0.682      -0.269\n",
       "Lead Source_welingak website                             1.7971      0.742      2.421      0.015       0.343       3.252\n",
       "Last Activity_email bounced                             -1.3868      0.295     -4.698      0.000      -1.965      -0.808\n",
       "Last Activity_had a phone conversation                   1.0780      0.906      1.190      0.234      -0.698       2.854\n",
       "Last Activity_sms sent                                   1.1721      0.073     16.031      0.000       1.029       1.315\n",
       "What is your current occupation_student                  1.1733      0.240      4.898      0.000       0.704       1.643\n",
       "What is your current occupation_unemployed               0.9986      0.085     11.809      0.000       0.833       1.164\n",
       "What is your current occupation_working professional     3.5465      0.197     17.989      0.000       3.160       3.933\n",
       "Last Notable Activity_had a phone conversation           2.0290      1.431      1.418      0.156      -0.775       4.833\n",
       "Last Notable Activity_modified                          -0.8990      0.078    -11.464      0.000      -1.053      -0.745\n",
       "Last Notable Activity_unreachable                        1.6797      0.527      3.187      0.001       0.647       2.713\n",
       "========================================================================================================================\n",
       "\"\"\""
      ]
     },
     "execution_count": 73,
     "metadata": {},
     "output_type": "execute_result"
    }
   ],
   "source": [
    "#BUILDING MODEL #2\n",
    "\n",
    "X_train_sm = sm.add_constant(X_train[col])\n",
    "logm2 = sm.GLM(y_train,X_train_sm, family = sm.families.Binomial())\n",
    "res = logm2.fit()\n",
    "res.summary()"
   ]
  },
  {
   "cell_type": "code",
   "execution_count": 74,
   "metadata": {},
   "outputs": [],
   "source": [
    "#dropping column with high p-value\n",
    "\n",
    "col = col.drop('Last Activity_had a phone conversation',1)\n"
   ]
  },
  {
   "cell_type": "code",
   "execution_count": 75,
   "metadata": {},
   "outputs": [],
   "source": [
    "col = col.drop('Last Notable Activity_had a phone conversation',1)"
   ]
  },
  {
   "cell_type": "code",
   "execution_count": 76,
   "metadata": {},
   "outputs": [],
   "source": [
    "#col = col.drop('Lead Origin_lead import',1)"
   ]
  },
  {
   "cell_type": "code",
   "execution_count": 77,
   "metadata": {},
   "outputs": [
    {
     "data": {
      "text/html": [
       "<table class=\"simpletable\">\n",
       "<caption>Generalized Linear Model Regression Results</caption>\n",
       "<tr>\n",
       "  <th>Dep. Variable:</th>       <td>Converted</td>    <th>  No. Observations:  </th>  <td>  6468</td> \n",
       "</tr>\n",
       "<tr>\n",
       "  <th>Model:</th>                  <td>GLM</td>       <th>  Df Residuals:      </th>  <td>  6455</td> \n",
       "</tr>\n",
       "<tr>\n",
       "  <th>Model Family:</th>        <td>Binomial</td>     <th>  Df Model:          </th>  <td>    12</td> \n",
       "</tr>\n",
       "<tr>\n",
       "  <th>Link Function:</th>         <td>logit</td>      <th>  Scale:             </th> <td>  1.0000</td>\n",
       "</tr>\n",
       "<tr>\n",
       "  <th>Method:</th>                <td>IRLS</td>       <th>  Log-Likelihood:    </th> <td> -2690.8</td>\n",
       "</tr>\n",
       "<tr>\n",
       "  <th>Date:</th>            <td>Tue, 18 Oct 2022</td> <th>  Deviance:          </th> <td>  5381.6</td>\n",
       "</tr>\n",
       "<tr>\n",
       "  <th>Time:</th>                <td>09:19:30</td>     <th>  Pearson chi2:      </th> <td>6.51e+03</td>\n",
       "</tr>\n",
       "<tr>\n",
       "  <th>No. Iterations:</th>          <td>7</td>        <th>                     </th>     <td> </td>   \n",
       "</tr>\n",
       "<tr>\n",
       "  <th>Covariance Type:</th>     <td>nonrobust</td>    <th>                     </th>     <td> </td>   \n",
       "</tr>\n",
       "</table>\n",
       "<table class=\"simpletable\">\n",
       "<tr>\n",
       "                            <td></td>                              <th>coef</th>     <th>std err</th>      <th>z</th>      <th>P>|z|</th>  <th>[0.025</th>    <th>0.975]</th>  \n",
       "</tr>\n",
       "<tr>\n",
       "  <th>const</th>                                                <td>   -1.5160</td> <td>    0.086</td> <td>  -17.570</td> <td> 0.000</td> <td>   -1.685</td> <td>   -1.347</td>\n",
       "</tr>\n",
       "<tr>\n",
       "  <th>Total Time Spent on Website</th>                          <td>    0.9631</td> <td>    0.035</td> <td>   27.214</td> <td> 0.000</td> <td>    0.894</td> <td>    1.032</td>\n",
       "</tr>\n",
       "<tr>\n",
       "  <th>Lead Origin_lead add form</th>                            <td>    2.9789</td> <td>    0.188</td> <td>   15.873</td> <td> 0.000</td> <td>    2.611</td> <td>    3.347</td>\n",
       "</tr>\n",
       "<tr>\n",
       "  <th>Lead Source_direct traffic</th>                           <td>   -0.7047</td> <td>    0.081</td> <td>   -8.660</td> <td> 0.000</td> <td>   -0.864</td> <td>   -0.545</td>\n",
       "</tr>\n",
       "<tr>\n",
       "  <th>Lead Source_organic search</th>                           <td>   -0.4728</td> <td>    0.105</td> <td>   -4.487</td> <td> 0.000</td> <td>   -0.679</td> <td>   -0.266</td>\n",
       "</tr>\n",
       "<tr>\n",
       "  <th>Lead Source_welingak website</th>                         <td>    1.7901</td> <td>    0.742</td> <td>    2.412</td> <td> 0.016</td> <td>    0.336</td> <td>    3.245</td>\n",
       "</tr>\n",
       "<tr>\n",
       "  <th>Last Activity_email bounced</th>                          <td>   -1.3964</td> <td>    0.295</td> <td>   -4.731</td> <td> 0.000</td> <td>   -1.975</td> <td>   -0.818</td>\n",
       "</tr>\n",
       "<tr>\n",
       "  <th>Last Activity_sms sent</th>                               <td>    1.1609</td> <td>    0.073</td> <td>   15.901</td> <td> 0.000</td> <td>    1.018</td> <td>    1.304</td>\n",
       "</tr>\n",
       "<tr>\n",
       "  <th>What is your current occupation_student</th>              <td>    1.1672</td> <td>    0.239</td> <td>    4.875</td> <td> 0.000</td> <td>    0.698</td> <td>    1.636</td>\n",
       "</tr>\n",
       "<tr>\n",
       "  <th>What is your current occupation_unemployed</th>           <td>    1.0019</td> <td>    0.084</td> <td>   11.865</td> <td> 0.000</td> <td>    0.836</td> <td>    1.167</td>\n",
       "</tr>\n",
       "<tr>\n",
       "  <th>What is your current occupation_working professional</th> <td>    3.5536</td> <td>    0.197</td> <td>   18.048</td> <td> 0.000</td> <td>    3.168</td> <td>    3.940</td>\n",
       "</tr>\n",
       "<tr>\n",
       "  <th>Last Notable Activity_modified</th>                       <td>   -0.9015</td> <td>    0.078</td> <td>  -11.535</td> <td> 0.000</td> <td>   -1.055</td> <td>   -0.748</td>\n",
       "</tr>\n",
       "<tr>\n",
       "  <th>Last Notable Activity_unreachable</th>                    <td>    1.6681</td> <td>    0.527</td> <td>    3.164</td> <td> 0.002</td> <td>    0.635</td> <td>    2.701</td>\n",
       "</tr>\n",
       "</table>"
      ],
      "text/plain": [
       "<class 'statsmodels.iolib.summary.Summary'>\n",
       "\"\"\"\n",
       "                 Generalized Linear Model Regression Results                  \n",
       "==============================================================================\n",
       "Dep. Variable:              Converted   No. Observations:                 6468\n",
       "Model:                            GLM   Df Residuals:                     6455\n",
       "Model Family:                Binomial   Df Model:                           12\n",
       "Link Function:                  logit   Scale:                          1.0000\n",
       "Method:                          IRLS   Log-Likelihood:                -2690.8\n",
       "Date:                Tue, 18 Oct 2022   Deviance:                       5381.6\n",
       "Time:                        09:19:30   Pearson chi2:                 6.51e+03\n",
       "No. Iterations:                     7                                         \n",
       "Covariance Type:            nonrobust                                         \n",
       "========================================================================================================================\n",
       "                                                           coef    std err          z      P>|z|      [0.025      0.975]\n",
       "------------------------------------------------------------------------------------------------------------------------\n",
       "const                                                   -1.5160      0.086    -17.570      0.000      -1.685      -1.347\n",
       "Total Time Spent on Website                              0.9631      0.035     27.214      0.000       0.894       1.032\n",
       "Lead Origin_lead add form                                2.9789      0.188     15.873      0.000       2.611       3.347\n",
       "Lead Source_direct traffic                              -0.7047      0.081     -8.660      0.000      -0.864      -0.545\n",
       "Lead Source_organic search                              -0.4728      0.105     -4.487      0.000      -0.679      -0.266\n",
       "Lead Source_welingak website                             1.7901      0.742      2.412      0.016       0.336       3.245\n",
       "Last Activity_email bounced                             -1.3964      0.295     -4.731      0.000      -1.975      -0.818\n",
       "Last Activity_sms sent                                   1.1609      0.073     15.901      0.000       1.018       1.304\n",
       "What is your current occupation_student                  1.1672      0.239      4.875      0.000       0.698       1.636\n",
       "What is your current occupation_unemployed               1.0019      0.084     11.865      0.000       0.836       1.167\n",
       "What is your current occupation_working professional     3.5536      0.197     18.048      0.000       3.168       3.940\n",
       "Last Notable Activity_modified                          -0.9015      0.078    -11.535      0.000      -1.055      -0.748\n",
       "Last Notable Activity_unreachable                        1.6681      0.527      3.164      0.002       0.635       2.701\n",
       "========================================================================================================================\n",
       "\"\"\""
      ]
     },
     "execution_count": 77,
     "metadata": {},
     "output_type": "execute_result"
    }
   ],
   "source": [
    "#BUILDING MODEL #3\n",
    "\n",
    "X_train_sm = sm.add_constant(X_train[col])\n",
    "logm2 = sm.GLM(y_train,X_train_sm, family = sm.families.Binomial())\n",
    "res = logm2.fit()\n",
    "res.summary()"
   ]
  },
  {
   "cell_type": "markdown",
   "metadata": {},
   "source": [
    "Since 'All' the p-values are less we can check the Variance Inflation Factor to see if there is any correlation between the variables"
   ]
  },
  {
   "cell_type": "code",
   "execution_count": 78,
   "metadata": {},
   "outputs": [],
   "source": [
    "# Check for the VIF values of the feature variables. \n",
    "from statsmodels.stats.outliers_influence import variance_inflation_factor"
   ]
  },
  {
   "cell_type": "code",
   "execution_count": 79,
   "metadata": {},
   "outputs": [
    {
     "data": {
      "text/html": [
       "<div>\n",
       "<style scoped>\n",
       "    .dataframe tbody tr th:only-of-type {\n",
       "        vertical-align: middle;\n",
       "    }\n",
       "\n",
       "    .dataframe tbody tr th {\n",
       "        vertical-align: top;\n",
       "    }\n",
       "\n",
       "    .dataframe thead th {\n",
       "        text-align: right;\n",
       "    }\n",
       "</style>\n",
       "<table border=\"1\" class=\"dataframe\">\n",
       "  <thead>\n",
       "    <tr style=\"text-align: right;\">\n",
       "      <th></th>\n",
       "      <th>Features</th>\n",
       "      <th>VIF</th>\n",
       "    </tr>\n",
       "  </thead>\n",
       "  <tbody>\n",
       "    <tr>\n",
       "      <th>8</th>\n",
       "      <td>What is your current occupation_unemployed</td>\n",
       "      <td>1.95</td>\n",
       "    </tr>\n",
       "    <tr>\n",
       "      <th>1</th>\n",
       "      <td>Lead Origin_lead add form</td>\n",
       "      <td>1.51</td>\n",
       "    </tr>\n",
       "    <tr>\n",
       "      <th>6</th>\n",
       "      <td>Last Activity_sms sent</td>\n",
       "      <td>1.46</td>\n",
       "    </tr>\n",
       "    <tr>\n",
       "      <th>2</th>\n",
       "      <td>Lead Source_direct traffic</td>\n",
       "      <td>1.43</td>\n",
       "    </tr>\n",
       "    <tr>\n",
       "      <th>10</th>\n",
       "      <td>Last Notable Activity_modified</td>\n",
       "      <td>1.35</td>\n",
       "    </tr>\n",
       "    <tr>\n",
       "      <th>9</th>\n",
       "      <td>What is your current occupation_working profes...</td>\n",
       "      <td>1.25</td>\n",
       "    </tr>\n",
       "    <tr>\n",
       "      <th>4</th>\n",
       "      <td>Lead Source_welingak website</td>\n",
       "      <td>1.24</td>\n",
       "    </tr>\n",
       "    <tr>\n",
       "      <th>3</th>\n",
       "      <td>Lead Source_organic search</td>\n",
       "      <td>1.19</td>\n",
       "    </tr>\n",
       "    <tr>\n",
       "      <th>5</th>\n",
       "      <td>Last Activity_email bounced</td>\n",
       "      <td>1.10</td>\n",
       "    </tr>\n",
       "    <tr>\n",
       "      <th>0</th>\n",
       "      <td>Total Time Spent on Website</td>\n",
       "      <td>1.08</td>\n",
       "    </tr>\n",
       "    <tr>\n",
       "      <th>7</th>\n",
       "      <td>What is your current occupation_student</td>\n",
       "      <td>1.03</td>\n",
       "    </tr>\n",
       "    <tr>\n",
       "      <th>11</th>\n",
       "      <td>Last Notable Activity_unreachable</td>\n",
       "      <td>1.00</td>\n",
       "    </tr>\n",
       "  </tbody>\n",
       "</table>\n",
       "</div>"
      ],
      "text/plain": [
       "                                             Features   VIF\n",
       "8          What is your current occupation_unemployed  1.95\n",
       "1                           Lead Origin_lead add form  1.51\n",
       "6                              Last Activity_sms sent  1.46\n",
       "2                          Lead Source_direct traffic  1.43\n",
       "10                     Last Notable Activity_modified  1.35\n",
       "9   What is your current occupation_working profes...  1.25\n",
       "4                        Lead Source_welingak website  1.24\n",
       "3                          Lead Source_organic search  1.19\n",
       "5                         Last Activity_email bounced  1.10\n",
       "0                         Total Time Spent on Website  1.08\n",
       "7             What is your current occupation_student  1.03\n",
       "11                  Last Notable Activity_unreachable  1.00"
      ]
     },
     "execution_count": 79,
     "metadata": {},
     "output_type": "execute_result"
    }
   ],
   "source": [
    "# Create a dataframe that will contain the names of all the feature variables and their respective VIFs\n",
    "vif = pd.DataFrame()\n",
    "vif['Features'] = X_train[col].columns\n",
    "vif['VIF'] = [variance_inflation_factor(X_train[col].values, i) for i in range(X_train[col].shape[1])]\n",
    "vif['VIF'] = round(vif['VIF'], 2)\n",
    "vif = vif.sort_values(by = \"VIF\", ascending = False)\n",
    "vif"
   ]
  },
  {
   "cell_type": "code",
   "execution_count": 80,
   "metadata": {},
   "outputs": [],
   "source": [
    "#dropping variable with high VIF\n",
    "\n",
    "#col = col.drop('Country_not provided',1)"
   ]
  },
  {
   "cell_type": "code",
   "execution_count": 81,
   "metadata": {},
   "outputs": [
    {
     "data": {
      "text/html": [
       "<table class=\"simpletable\">\n",
       "<caption>Generalized Linear Model Regression Results</caption>\n",
       "<tr>\n",
       "  <th>Dep. Variable:</th>       <td>Converted</td>    <th>  No. Observations:  </th>  <td>  6468</td> \n",
       "</tr>\n",
       "<tr>\n",
       "  <th>Model:</th>                  <td>GLM</td>       <th>  Df Residuals:      </th>  <td>  6455</td> \n",
       "</tr>\n",
       "<tr>\n",
       "  <th>Model Family:</th>        <td>Binomial</td>     <th>  Df Model:          </th>  <td>    12</td> \n",
       "</tr>\n",
       "<tr>\n",
       "  <th>Link Function:</th>         <td>logit</td>      <th>  Scale:             </th> <td>  1.0000</td>\n",
       "</tr>\n",
       "<tr>\n",
       "  <th>Method:</th>                <td>IRLS</td>       <th>  Log-Likelihood:    </th> <td> -2690.8</td>\n",
       "</tr>\n",
       "<tr>\n",
       "  <th>Date:</th>            <td>Tue, 18 Oct 2022</td> <th>  Deviance:          </th> <td>  5381.6</td>\n",
       "</tr>\n",
       "<tr>\n",
       "  <th>Time:</th>                <td>09:19:30</td>     <th>  Pearson chi2:      </th> <td>6.51e+03</td>\n",
       "</tr>\n",
       "<tr>\n",
       "  <th>No. Iterations:</th>          <td>7</td>        <th>                     </th>     <td> </td>   \n",
       "</tr>\n",
       "<tr>\n",
       "  <th>Covariance Type:</th>     <td>nonrobust</td>    <th>                     </th>     <td> </td>   \n",
       "</tr>\n",
       "</table>\n",
       "<table class=\"simpletable\">\n",
       "<tr>\n",
       "                            <td></td>                              <th>coef</th>     <th>std err</th>      <th>z</th>      <th>P>|z|</th>  <th>[0.025</th>    <th>0.975]</th>  \n",
       "</tr>\n",
       "<tr>\n",
       "  <th>const</th>                                                <td>   -1.5160</td> <td>    0.086</td> <td>  -17.570</td> <td> 0.000</td> <td>   -1.685</td> <td>   -1.347</td>\n",
       "</tr>\n",
       "<tr>\n",
       "  <th>Total Time Spent on Website</th>                          <td>    0.9631</td> <td>    0.035</td> <td>   27.214</td> <td> 0.000</td> <td>    0.894</td> <td>    1.032</td>\n",
       "</tr>\n",
       "<tr>\n",
       "  <th>Lead Origin_lead add form</th>                            <td>    2.9789</td> <td>    0.188</td> <td>   15.873</td> <td> 0.000</td> <td>    2.611</td> <td>    3.347</td>\n",
       "</tr>\n",
       "<tr>\n",
       "  <th>Lead Source_direct traffic</th>                           <td>   -0.7047</td> <td>    0.081</td> <td>   -8.660</td> <td> 0.000</td> <td>   -0.864</td> <td>   -0.545</td>\n",
       "</tr>\n",
       "<tr>\n",
       "  <th>Lead Source_organic search</th>                           <td>   -0.4728</td> <td>    0.105</td> <td>   -4.487</td> <td> 0.000</td> <td>   -0.679</td> <td>   -0.266</td>\n",
       "</tr>\n",
       "<tr>\n",
       "  <th>Lead Source_welingak website</th>                         <td>    1.7901</td> <td>    0.742</td> <td>    2.412</td> <td> 0.016</td> <td>    0.336</td> <td>    3.245</td>\n",
       "</tr>\n",
       "<tr>\n",
       "  <th>Last Activity_email bounced</th>                          <td>   -1.3964</td> <td>    0.295</td> <td>   -4.731</td> <td> 0.000</td> <td>   -1.975</td> <td>   -0.818</td>\n",
       "</tr>\n",
       "<tr>\n",
       "  <th>Last Activity_sms sent</th>                               <td>    1.1609</td> <td>    0.073</td> <td>   15.901</td> <td> 0.000</td> <td>    1.018</td> <td>    1.304</td>\n",
       "</tr>\n",
       "<tr>\n",
       "  <th>What is your current occupation_student</th>              <td>    1.1672</td> <td>    0.239</td> <td>    4.875</td> <td> 0.000</td> <td>    0.698</td> <td>    1.636</td>\n",
       "</tr>\n",
       "<tr>\n",
       "  <th>What is your current occupation_unemployed</th>           <td>    1.0019</td> <td>    0.084</td> <td>   11.865</td> <td> 0.000</td> <td>    0.836</td> <td>    1.167</td>\n",
       "</tr>\n",
       "<tr>\n",
       "  <th>What is your current occupation_working professional</th> <td>    3.5536</td> <td>    0.197</td> <td>   18.048</td> <td> 0.000</td> <td>    3.168</td> <td>    3.940</td>\n",
       "</tr>\n",
       "<tr>\n",
       "  <th>Last Notable Activity_modified</th>                       <td>   -0.9015</td> <td>    0.078</td> <td>  -11.535</td> <td> 0.000</td> <td>   -1.055</td> <td>   -0.748</td>\n",
       "</tr>\n",
       "<tr>\n",
       "  <th>Last Notable Activity_unreachable</th>                    <td>    1.6681</td> <td>    0.527</td> <td>    3.164</td> <td> 0.002</td> <td>    0.635</td> <td>    2.701</td>\n",
       "</tr>\n",
       "</table>"
      ],
      "text/plain": [
       "<class 'statsmodels.iolib.summary.Summary'>\n",
       "\"\"\"\n",
       "                 Generalized Linear Model Regression Results                  \n",
       "==============================================================================\n",
       "Dep. Variable:              Converted   No. Observations:                 6468\n",
       "Model:                            GLM   Df Residuals:                     6455\n",
       "Model Family:                Binomial   Df Model:                           12\n",
       "Link Function:                  logit   Scale:                          1.0000\n",
       "Method:                          IRLS   Log-Likelihood:                -2690.8\n",
       "Date:                Tue, 18 Oct 2022   Deviance:                       5381.6\n",
       "Time:                        09:19:30   Pearson chi2:                 6.51e+03\n",
       "No. Iterations:                     7                                         \n",
       "Covariance Type:            nonrobust                                         \n",
       "========================================================================================================================\n",
       "                                                           coef    std err          z      P>|z|      [0.025      0.975]\n",
       "------------------------------------------------------------------------------------------------------------------------\n",
       "const                                                   -1.5160      0.086    -17.570      0.000      -1.685      -1.347\n",
       "Total Time Spent on Website                              0.9631      0.035     27.214      0.000       0.894       1.032\n",
       "Lead Origin_lead add form                                2.9789      0.188     15.873      0.000       2.611       3.347\n",
       "Lead Source_direct traffic                              -0.7047      0.081     -8.660      0.000      -0.864      -0.545\n",
       "Lead Source_organic search                              -0.4728      0.105     -4.487      0.000      -0.679      -0.266\n",
       "Lead Source_welingak website                             1.7901      0.742      2.412      0.016       0.336       3.245\n",
       "Last Activity_email bounced                             -1.3964      0.295     -4.731      0.000      -1.975      -0.818\n",
       "Last Activity_sms sent                                   1.1609      0.073     15.901      0.000       1.018       1.304\n",
       "What is your current occupation_student                  1.1672      0.239      4.875      0.000       0.698       1.636\n",
       "What is your current occupation_unemployed               1.0019      0.084     11.865      0.000       0.836       1.167\n",
       "What is your current occupation_working professional     3.5536      0.197     18.048      0.000       3.168       3.940\n",
       "Last Notable Activity_modified                          -0.9015      0.078    -11.535      0.000      -1.055      -0.748\n",
       "Last Notable Activity_unreachable                        1.6681      0.527      3.164      0.002       0.635       2.701\n",
       "========================================================================================================================\n",
       "\"\"\""
      ]
     },
     "execution_count": 81,
     "metadata": {},
     "output_type": "execute_result"
    }
   ],
   "source": [
    "#BUILDING MODEL #3\n",
    "X_train_sm = sm.add_constant(X_train[col])\n",
    "logm4 = sm.GLM(y_train,X_train_sm, family = sm.families.Binomial())\n",
    "res = logm4.fit()\n",
    "res.summary()"
   ]
  },
  {
   "cell_type": "code",
   "execution_count": 82,
   "metadata": {},
   "outputs": [
    {
     "data": {
      "text/html": [
       "<div>\n",
       "<style scoped>\n",
       "    .dataframe tbody tr th:only-of-type {\n",
       "        vertical-align: middle;\n",
       "    }\n",
       "\n",
       "    .dataframe tbody tr th {\n",
       "        vertical-align: top;\n",
       "    }\n",
       "\n",
       "    .dataframe thead th {\n",
       "        text-align: right;\n",
       "    }\n",
       "</style>\n",
       "<table border=\"1\" class=\"dataframe\">\n",
       "  <thead>\n",
       "    <tr style=\"text-align: right;\">\n",
       "      <th></th>\n",
       "      <th>Features</th>\n",
       "      <th>VIF</th>\n",
       "    </tr>\n",
       "  </thead>\n",
       "  <tbody>\n",
       "    <tr>\n",
       "      <th>8</th>\n",
       "      <td>What is your current occupation_unemployed</td>\n",
       "      <td>1.95</td>\n",
       "    </tr>\n",
       "    <tr>\n",
       "      <th>1</th>\n",
       "      <td>Lead Origin_lead add form</td>\n",
       "      <td>1.51</td>\n",
       "    </tr>\n",
       "    <tr>\n",
       "      <th>6</th>\n",
       "      <td>Last Activity_sms sent</td>\n",
       "      <td>1.46</td>\n",
       "    </tr>\n",
       "    <tr>\n",
       "      <th>2</th>\n",
       "      <td>Lead Source_direct traffic</td>\n",
       "      <td>1.43</td>\n",
       "    </tr>\n",
       "    <tr>\n",
       "      <th>10</th>\n",
       "      <td>Last Notable Activity_modified</td>\n",
       "      <td>1.35</td>\n",
       "    </tr>\n",
       "    <tr>\n",
       "      <th>9</th>\n",
       "      <td>What is your current occupation_working profes...</td>\n",
       "      <td>1.25</td>\n",
       "    </tr>\n",
       "    <tr>\n",
       "      <th>4</th>\n",
       "      <td>Lead Source_welingak website</td>\n",
       "      <td>1.24</td>\n",
       "    </tr>\n",
       "    <tr>\n",
       "      <th>3</th>\n",
       "      <td>Lead Source_organic search</td>\n",
       "      <td>1.19</td>\n",
       "    </tr>\n",
       "    <tr>\n",
       "      <th>5</th>\n",
       "      <td>Last Activity_email bounced</td>\n",
       "      <td>1.10</td>\n",
       "    </tr>\n",
       "    <tr>\n",
       "      <th>0</th>\n",
       "      <td>Total Time Spent on Website</td>\n",
       "      <td>1.08</td>\n",
       "    </tr>\n",
       "    <tr>\n",
       "      <th>7</th>\n",
       "      <td>What is your current occupation_student</td>\n",
       "      <td>1.03</td>\n",
       "    </tr>\n",
       "    <tr>\n",
       "      <th>11</th>\n",
       "      <td>Last Notable Activity_unreachable</td>\n",
       "      <td>1.00</td>\n",
       "    </tr>\n",
       "  </tbody>\n",
       "</table>\n",
       "</div>"
      ],
      "text/plain": [
       "                                             Features   VIF\n",
       "8          What is your current occupation_unemployed  1.95\n",
       "1                           Lead Origin_lead add form  1.51\n",
       "6                              Last Activity_sms sent  1.46\n",
       "2                          Lead Source_direct traffic  1.43\n",
       "10                     Last Notable Activity_modified  1.35\n",
       "9   What is your current occupation_working profes...  1.25\n",
       "4                        Lead Source_welingak website  1.24\n",
       "3                          Lead Source_organic search  1.19\n",
       "5                         Last Activity_email bounced  1.10\n",
       "0                         Total Time Spent on Website  1.08\n",
       "7             What is your current occupation_student  1.03\n",
       "11                  Last Notable Activity_unreachable  1.00"
      ]
     },
     "execution_count": 82,
     "metadata": {},
     "output_type": "execute_result"
    }
   ],
   "source": [
    "# Create a dataframe that will contain the names of all the feature variables and their respective VIFs\n",
    "vif = pd.DataFrame()\n",
    "vif['Features'] = X_train[col].columns\n",
    "vif['VIF'] = [variance_inflation_factor(X_train[col].values, i) for i in range(X_train[col].shape[1])]\n",
    "vif['VIF'] = round(vif['VIF'], 2)\n",
    "vif = vif.sort_values(by = \"VIF\", ascending = False)\n",
    "vif"
   ]
  },
  {
   "cell_type": "markdown",
   "metadata": {},
   "source": [
    "So the Values all seem to be in order so now, Moving on to derive the Probabilities, Lead Score, Predictions on Train Data:"
   ]
  },
  {
   "cell_type": "code",
   "execution_count": 83,
   "metadata": {},
   "outputs": [
    {
     "data": {
      "text/plain": [
       "1871    0.203132\n",
       "6795    0.229116\n",
       "3516    0.235047\n",
       "8105    0.876714\n",
       "3934    0.093779\n",
       "4844    0.986454\n",
       "3297    0.155799\n",
       "8071    0.979431\n",
       "987     0.137762\n",
       "7423    0.927474\n",
       "dtype: float64"
      ]
     },
     "execution_count": 83,
     "metadata": {},
     "output_type": "execute_result"
    }
   ],
   "source": [
    "# Getting the Predicted values on the train set\n",
    "y_train_pred = res.predict(X_train_sm)\n",
    "y_train_pred[:10]"
   ]
  },
  {
   "cell_type": "code",
   "execution_count": 84,
   "metadata": {},
   "outputs": [
    {
     "data": {
      "text/plain": [
       "array([0.20313185, 0.22911552, 0.23504651, 0.8767138 , 0.0937788 ,\n",
       "       0.986454  , 0.15579909, 0.97943131, 0.13776203, 0.92747359])"
      ]
     },
     "execution_count": 84,
     "metadata": {},
     "output_type": "execute_result"
    }
   ],
   "source": [
    "y_train_pred = y_train_pred.values.reshape(-1)\n",
    "y_train_pred[:10]"
   ]
  },
  {
   "cell_type": "code",
   "execution_count": 85,
   "metadata": {},
   "outputs": [
    {
     "data": {
      "text/html": [
       "<div>\n",
       "<style scoped>\n",
       "    .dataframe tbody tr th:only-of-type {\n",
       "        vertical-align: middle;\n",
       "    }\n",
       "\n",
       "    .dataframe tbody tr th {\n",
       "        vertical-align: top;\n",
       "    }\n",
       "\n",
       "    .dataframe thead th {\n",
       "        text-align: right;\n",
       "    }\n",
       "</style>\n",
       "<table border=\"1\" class=\"dataframe\">\n",
       "  <thead>\n",
       "    <tr style=\"text-align: right;\">\n",
       "      <th></th>\n",
       "      <th>Converted</th>\n",
       "      <th>Converted_prob</th>\n",
       "      <th>Prospect ID</th>\n",
       "    </tr>\n",
       "  </thead>\n",
       "  <tbody>\n",
       "    <tr>\n",
       "      <th>0</th>\n",
       "      <td>0</td>\n",
       "      <td>0.203132</td>\n",
       "      <td>1871</td>\n",
       "    </tr>\n",
       "    <tr>\n",
       "      <th>1</th>\n",
       "      <td>0</td>\n",
       "      <td>0.229116</td>\n",
       "      <td>6795</td>\n",
       "    </tr>\n",
       "    <tr>\n",
       "      <th>2</th>\n",
       "      <td>0</td>\n",
       "      <td>0.235047</td>\n",
       "      <td>3516</td>\n",
       "    </tr>\n",
       "    <tr>\n",
       "      <th>3</th>\n",
       "      <td>0</td>\n",
       "      <td>0.876714</td>\n",
       "      <td>8105</td>\n",
       "    </tr>\n",
       "    <tr>\n",
       "      <th>4</th>\n",
       "      <td>0</td>\n",
       "      <td>0.093779</td>\n",
       "      <td>3934</td>\n",
       "    </tr>\n",
       "  </tbody>\n",
       "</table>\n",
       "</div>"
      ],
      "text/plain": [
       "   Converted  Converted_prob  Prospect ID\n",
       "0          0        0.203132         1871\n",
       "1          0        0.229116         6795\n",
       "2          0        0.235047         3516\n",
       "3          0        0.876714         8105\n",
       "4          0        0.093779         3934"
      ]
     },
     "execution_count": 85,
     "metadata": {},
     "output_type": "execute_result"
    }
   ],
   "source": [
    "y_train_pred_final = pd.DataFrame({'Converted':y_train.values, 'Converted_prob':y_train_pred})\n",
    "y_train_pred_final['Prospect ID'] = y_train.index\n",
    "y_train_pred_final.head()"
   ]
  },
  {
   "cell_type": "code",
   "execution_count": 86,
   "metadata": {},
   "outputs": [
    {
     "data": {
      "text/html": [
       "<div>\n",
       "<style scoped>\n",
       "    .dataframe tbody tr th:only-of-type {\n",
       "        vertical-align: middle;\n",
       "    }\n",
       "\n",
       "    .dataframe tbody tr th {\n",
       "        vertical-align: top;\n",
       "    }\n",
       "\n",
       "    .dataframe thead th {\n",
       "        text-align: right;\n",
       "    }\n",
       "</style>\n",
       "<table border=\"1\" class=\"dataframe\">\n",
       "  <thead>\n",
       "    <tr style=\"text-align: right;\">\n",
       "      <th></th>\n",
       "      <th>Converted</th>\n",
       "      <th>Converted_prob</th>\n",
       "      <th>Prospect ID</th>\n",
       "      <th>Predicted</th>\n",
       "    </tr>\n",
       "  </thead>\n",
       "  <tbody>\n",
       "    <tr>\n",
       "      <th>0</th>\n",
       "      <td>0</td>\n",
       "      <td>0.203132</td>\n",
       "      <td>1871</td>\n",
       "      <td>0</td>\n",
       "    </tr>\n",
       "    <tr>\n",
       "      <th>1</th>\n",
       "      <td>0</td>\n",
       "      <td>0.229116</td>\n",
       "      <td>6795</td>\n",
       "      <td>0</td>\n",
       "    </tr>\n",
       "    <tr>\n",
       "      <th>2</th>\n",
       "      <td>0</td>\n",
       "      <td>0.235047</td>\n",
       "      <td>3516</td>\n",
       "      <td>0</td>\n",
       "    </tr>\n",
       "    <tr>\n",
       "      <th>3</th>\n",
       "      <td>0</td>\n",
       "      <td>0.876714</td>\n",
       "      <td>8105</td>\n",
       "      <td>1</td>\n",
       "    </tr>\n",
       "    <tr>\n",
       "      <th>4</th>\n",
       "      <td>0</td>\n",
       "      <td>0.093779</td>\n",
       "      <td>3934</td>\n",
       "      <td>0</td>\n",
       "    </tr>\n",
       "  </tbody>\n",
       "</table>\n",
       "</div>"
      ],
      "text/plain": [
       "   Converted  Converted_prob  Prospect ID  Predicted\n",
       "0          0        0.203132         1871          0\n",
       "1          0        0.229116         6795          0\n",
       "2          0        0.235047         3516          0\n",
       "3          0        0.876714         8105          1\n",
       "4          0        0.093779         3934          0"
      ]
     },
     "execution_count": 86,
     "metadata": {},
     "output_type": "execute_result"
    }
   ],
   "source": [
    "y_train_pred_final['Predicted'] = y_train_pred_final.Converted_prob.map(lambda x: 1 if x > 0.5 else 0)\n",
    "\n",
    "# Let's see the head\n",
    "y_train_pred_final.head()"
   ]
  },
  {
   "cell_type": "code",
   "execution_count": 87,
   "metadata": {},
   "outputs": [
    {
     "name": "stdout",
     "output_type": "stream",
     "text": [
      "[[3558  444]\n",
      " [ 805 1661]]\n"
     ]
    }
   ],
   "source": [
    "from sklearn import metrics\n",
    "\n",
    "# Confusion matrix \n",
    "confusion = metrics.confusion_matrix(y_train_pred_final.Converted, y_train_pred_final.Predicted )\n",
    "print(confusion)"
   ]
  },
  {
   "cell_type": "code",
   "execution_count": 88,
   "metadata": {},
   "outputs": [
    {
     "name": "stdout",
     "output_type": "stream",
     "text": [
      "0.806895485466914\n"
     ]
    }
   ],
   "source": [
    "# Let's check the overall accuracy.\n",
    "print(metrics.accuracy_score(y_train_pred_final.Converted, y_train_pred_final.Predicted))"
   ]
  },
  {
   "cell_type": "code",
   "execution_count": 89,
   "metadata": {},
   "outputs": [],
   "source": [
    "TP = confusion[1,1] # true positive \n",
    "TN = confusion[0,0] # true negatives\n",
    "FP = confusion[0,1] # false positives\n",
    "FN = confusion[1,0] # false negatives"
   ]
  },
  {
   "cell_type": "code",
   "execution_count": 90,
   "metadata": {},
   "outputs": [
    {
     "data": {
      "text/plain": [
       "0.6735604217356043"
      ]
     },
     "execution_count": 90,
     "metadata": {},
     "output_type": "execute_result"
    }
   ],
   "source": [
    "# Let's see the sensitivity of our logistic regression model\n",
    "TP / float(TP+FN)"
   ]
  },
  {
   "cell_type": "code",
   "execution_count": 91,
   "metadata": {},
   "outputs": [
    {
     "data": {
      "text/plain": [
       "0.889055472263868"
      ]
     },
     "execution_count": 91,
     "metadata": {},
     "output_type": "execute_result"
    }
   ],
   "source": [
    "# Let us calculate specificity\n",
    "TN / float(TN+FP)"
   ]
  },
  {
   "cell_type": "code",
   "execution_count": 92,
   "metadata": {},
   "outputs": [
    {
     "name": "stdout",
     "output_type": "stream",
     "text": [
      "0.11094452773613193\n"
     ]
    }
   ],
   "source": [
    "# Calculate False Postive Rate - predicting conversion when customer does not have convert\n",
    "print(FP/ float(TN+FP))"
   ]
  },
  {
   "cell_type": "code",
   "execution_count": 93,
   "metadata": {},
   "outputs": [
    {
     "name": "stdout",
     "output_type": "stream",
     "text": [
      "0.7890736342042756\n"
     ]
    }
   ],
   "source": [
    "# positive predictive value \n",
    "print (TP / float(TP+FP))"
   ]
  },
  {
   "cell_type": "code",
   "execution_count": 94,
   "metadata": {},
   "outputs": [
    {
     "name": "stdout",
     "output_type": "stream",
     "text": [
      "0.8154939261975704\n"
     ]
    }
   ],
   "source": [
    "# Negative predictive value\n",
    "print (TN / float(TN+ FN))"
   ]
  },
  {
   "cell_type": "markdown",
   "metadata": {},
   "source": [
    "# PLOTTING ROC CURVE"
   ]
  },
  {
   "cell_type": "code",
   "execution_count": 95,
   "metadata": {},
   "outputs": [],
   "source": [
    "def draw_roc( actual, probs ):\n",
    "    fpr, tpr, thresholds = metrics.roc_curve( actual, probs,\n",
    "                                              drop_intermediate = False )\n",
    "    auc_score = metrics.roc_auc_score( actual, probs )\n",
    "    plt.figure(figsize=(5, 5))\n",
    "    plt.plot( fpr, tpr, label='ROC curve (area = %0.2f)' % auc_score )\n",
    "    plt.plot([0, 1], [0, 1], 'k--')\n",
    "    plt.xlim([0.0, 1.0])\n",
    "    plt.ylim([0.0, 1.05])\n",
    "    plt.xlabel('False Positive Rate or [1 - True Negative Rate]')\n",
    "    plt.ylabel('True Positive Rate')\n",
    "    plt.title('Receiver operating characteristic example')\n",
    "    plt.legend(loc=\"lower right\")\n",
    "    plt.show()\n",
    "\n",
    "    return None"
   ]
  },
  {
   "cell_type": "code",
   "execution_count": 96,
   "metadata": {},
   "outputs": [],
   "source": [
    "fpr, tpr, thresholds = metrics.roc_curve( y_train_pred_final.Converted, y_train_pred_final.Converted_prob, drop_intermediate = False )"
   ]
  },
  {
   "cell_type": "code",
   "execution_count": 97,
   "metadata": {},
   "outputs": [
    {
     "data": {
      "image/png": "[encoded data removed]",
      "text/plain": [
       "<Figure size 360x360 with 1 Axes>"
      ]
     },
     "metadata": {
      "needs_background": "light"
     },
     "output_type": "display_data"
    }
   ],
   "source": [
    "draw_roc(y_train_pred_final.Converted, y_train_pred_final.Converted_prob)"
   ]
  },
  {
   "cell_type": "markdown",
   "metadata": {},
   "source": [
    "The ROC Curve should be a value close to 1. We are getting a good value of 0.97 indicating a good predictive model."
   ]
  },
  {
   "cell_type": "markdown",
   "metadata": {},
   "source": [
    "# Finding Optimal Cutoff Point"
   ]
  },
  {
   "cell_type": "code",
   "execution_count": 98,
   "metadata": {},
   "outputs": [
    {
     "data": {
      "text/html": [
       "<div>\n",
       "<style scoped>\n",
       "    .dataframe tbody tr th:only-of-type {\n",
       "        vertical-align: middle;\n",
       "    }\n",
       "\n",
       "    .dataframe tbody tr th {\n",
       "        vertical-align: top;\n",
       "    }\n",
       "\n",
       "    .dataframe thead th {\n",
       "        text-align: right;\n",
       "    }\n",
       "</style>\n",
       "<table border=\"1\" class=\"dataframe\">\n",
       "  <thead>\n",
       "    <tr style=\"text-align: right;\">\n",
       "      <th></th>\n",
       "      <th>Converted</th>\n",
       "      <th>Converted_prob</th>\n",
       "      <th>Prospect ID</th>\n",
       "      <th>Predicted</th>\n",
       "      <th>0.0</th>\n",
       "      <th>0.1</th>\n",
       "      <th>0.2</th>\n",
       "      <th>0.3</th>\n",
       "      <th>0.4</th>\n",
       "      <th>0.5</th>\n",
       "      <th>0.6</th>\n",
       "      <th>0.7</th>\n",
       "      <th>0.8</th>\n",
       "      <th>0.9</th>\n",
       "    </tr>\n",
       "  </thead>\n",
       "  <tbody>\n",
       "    <tr>\n",
       "      <th>0</th>\n",
       "      <td>0</td>\n",
       "      <td>0.203132</td>\n",
       "      <td>1871</td>\n",
       "      <td>0</td>\n",
       "      <td>1</td>\n",
       "      <td>1</td>\n",
       "      <td>1</td>\n",
       "      <td>0</td>\n",
       "      <td>0</td>\n",
       "      <td>0</td>\n",
       "      <td>0</td>\n",
       "      <td>0</td>\n",
       "      <td>0</td>\n",
       "      <td>0</td>\n",
       "    </tr>\n",
       "    <tr>\n",
       "      <th>1</th>\n",
       "      <td>0</td>\n",
       "      <td>0.229116</td>\n",
       "      <td>6795</td>\n",
       "      <td>0</td>\n",
       "      <td>1</td>\n",
       "      <td>1</td>\n",
       "      <td>1</td>\n",
       "      <td>0</td>\n",
       "      <td>0</td>\n",
       "      <td>0</td>\n",
       "      <td>0</td>\n",
       "      <td>0</td>\n",
       "      <td>0</td>\n",
       "      <td>0</td>\n",
       "    </tr>\n",
       "    <tr>\n",
       "      <th>2</th>\n",
       "      <td>0</td>\n",
       "      <td>0.235047</td>\n",
       "      <td>3516</td>\n",
       "      <td>0</td>\n",
       "      <td>1</td>\n",
       "      <td>1</td>\n",
       "      <td>1</td>\n",
       "      <td>0</td>\n",
       "      <td>0</td>\n",
       "      <td>0</td>\n",
       "      <td>0</td>\n",
       "      <td>0</td>\n",
       "      <td>0</td>\n",
       "      <td>0</td>\n",
       "    </tr>\n",
       "    <tr>\n",
       "      <th>3</th>\n",
       "      <td>0</td>\n",
       "      <td>0.876714</td>\n",
       "      <td>8105</td>\n",
       "      <td>1</td>\n",
       "      <td>1</td>\n",
       "      <td>1</td>\n",
       "      <td>1</td>\n",
       "      <td>1</td>\n",
       "      <td>1</td>\n",
       "      <td>1</td>\n",
       "      <td>1</td>\n",
       "      <td>1</td>\n",
       "      <td>1</td>\n",
       "      <td>0</td>\n",
       "    </tr>\n",
       "    <tr>\n",
       "      <th>4</th>\n",
       "      <td>0</td>\n",
       "      <td>0.093779</td>\n",
       "      <td>3934</td>\n",
       "      <td>0</td>\n",
       "      <td>1</td>\n",
       "      <td>0</td>\n",
       "      <td>0</td>\n",
       "      <td>0</td>\n",
       "      <td>0</td>\n",
       "      <td>0</td>\n",
       "      <td>0</td>\n",
       "      <td>0</td>\n",
       "      <td>0</td>\n",
       "      <td>0</td>\n",
       "    </tr>\n",
       "  </tbody>\n",
       "</table>\n",
       "</div>"
      ],
      "text/plain": [
       "   Converted  Converted_prob  Prospect ID  Predicted  0.0  0.1  0.2  0.3  0.4  \\\n",
       "0          0        0.203132         1871          0    1    1    1    0    0   \n",
       "1          0        0.229116         6795          0    1    1    1    0    0   \n",
       "2          0        0.235047         3516          0    1    1    1    0    0   \n",
       "3          0        0.876714         8105          1    1    1    1    1    1   \n",
       "4          0        0.093779         3934          0    1    0    0    0    0   \n",
       "\n",
       "   0.5  0.6  0.7  0.8  0.9  \n",
       "0    0    0    0    0    0  \n",
       "1    0    0    0    0    0  \n",
       "2    0    0    0    0    0  \n",
       "3    1    1    1    1    0  \n",
       "4    0    0    0    0    0  "
      ]
     },
     "execution_count": 98,
     "metadata": {},
     "output_type": "execute_result"
    }
   ],
   "source": [
    "# Let's create columns with different probability cutoffs \n",
    "numbers = [float(x)/10 for x in range(10)]\n",
    "for i in numbers:\n",
    "    y_train_pred_final[i]= y_train_pred_final.Converted_prob.map(lambda x: 1 if x > i else 0)\n",
    "y_train_pred_final.head()"
   ]
  },
  {
   "cell_type": "code",
   "execution_count": 99,
   "metadata": {},
   "outputs": [
    {
     "name": "stdout",
     "output_type": "stream",
     "text": [
      "     prob  accuracy     sensi     speci\n",
      "0.0   0.0  0.381262  1.000000  0.000000\n",
      "0.1   0.1  0.612554  0.966748  0.394303\n",
      "0.2   0.2  0.739951  0.927818  0.624188\n",
      "0.3   0.3  0.792362  0.835361  0.765867\n",
      "0.4   0.4  0.810297  0.774128  0.832584\n",
      "0.5   0.5  0.806895  0.673560  0.889055\n",
      "0.6   0.6  0.802257  0.603812  0.924538\n",
      "0.7   0.7  0.786024  0.519059  0.950525\n",
      "0.8   0.8  0.760668  0.420114  0.970515\n",
      "0.9   0.9  0.718151  0.278183  0.989255\n"
     ]
    }
   ],
   "source": [
    "# Now let's calculate accuracy sensitivity and specificity for various probability cutoffs.\n",
    "cutoff_df = pd.DataFrame( columns = ['prob','accuracy','sensi','speci'])\n",
    "from sklearn.metrics import confusion_matrix\n",
    "\n",
    "# TP = confusion[1,1] # true positive \n",
    "# TN = confusion[0,0] # true negatives\n",
    "# FP = confusion[0,1] # false positives\n",
    "# FN = confusion[1,0] # false negatives\n",
    "\n",
    "num = [0.0,0.1,0.2,0.3,0.4,0.5,0.6,0.7,0.8,0.9]\n",
    "for i in num:\n",
    "    cm1 = metrics.confusion_matrix(y_train_pred_final.Converted, y_train_pred_final[i] )\n",
    "    total1=sum(sum(cm1))\n",
    "    accuracy = (cm1[0,0]+cm1[1,1])/total1\n",
    "    \n",
    "    speci = cm1[0,0]/(cm1[0,0]+cm1[0,1])\n",
    "    sensi = cm1[1,1]/(cm1[1,0]+cm1[1,1])\n",
    "    cutoff_df.loc[i] =[ i ,accuracy,sensi,speci]\n",
    "print(cutoff_df)"
   ]
  },
  {
   "cell_type": "code",
   "execution_count": 100,
   "metadata": {},
   "outputs": [
    {
     "data": {
      "image/png": "[encoded data removed]",
      "text/plain": [
       "<Figure size 432x288 with 1 Axes>"
      ]
     },
     "metadata": {
      "needs_background": "light"
     },
     "output_type": "display_data"
    }
   ],
   "source": [
    "# Let's plot accuracy sensitivity and specificity for various probabilities.\n",
    "cutoff_df.plot.line(x='prob', y=['accuracy','sensi','speci'])\n",
    "plt.show()"
   ]
  },
  {
   "cell_type": "code",
   "execution_count": 101,
   "metadata": {},
   "outputs": [
    {
     "data": {
      "text/html": [
       "<div>\n",
       "<style scoped>\n",
       "    .dataframe tbody tr th:only-of-type {\n",
       "        vertical-align: middle;\n",
       "    }\n",
       "\n",
       "    .dataframe tbody tr th {\n",
       "        vertical-align: top;\n",
       "    }\n",
       "\n",
       "    .dataframe thead th {\n",
       "        text-align: right;\n",
       "    }\n",
       "</style>\n",
       "<table border=\"1\" class=\"dataframe\">\n",
       "  <thead>\n",
       "    <tr style=\"text-align: right;\">\n",
       "      <th></th>\n",
       "      <th>Converted</th>\n",
       "      <th>Converted_prob</th>\n",
       "      <th>Prospect ID</th>\n",
       "      <th>Predicted</th>\n",
       "      <th>0.0</th>\n",
       "      <th>0.1</th>\n",
       "      <th>0.2</th>\n",
       "      <th>0.3</th>\n",
       "      <th>0.4</th>\n",
       "      <th>0.5</th>\n",
       "      <th>0.6</th>\n",
       "      <th>0.7</th>\n",
       "      <th>0.8</th>\n",
       "      <th>0.9</th>\n",
       "      <th>final_Predicted</th>\n",
       "    </tr>\n",
       "  </thead>\n",
       "  <tbody>\n",
       "    <tr>\n",
       "      <th>0</th>\n",
       "      <td>0</td>\n",
       "      <td>0.203132</td>\n",
       "      <td>1871</td>\n",
       "      <td>0</td>\n",
       "      <td>1</td>\n",
       "      <td>1</td>\n",
       "      <td>1</td>\n",
       "      <td>0</td>\n",
       "      <td>0</td>\n",
       "      <td>0</td>\n",
       "      <td>0</td>\n",
       "      <td>0</td>\n",
       "      <td>0</td>\n",
       "      <td>0</td>\n",
       "      <td>0</td>\n",
       "    </tr>\n",
       "    <tr>\n",
       "      <th>1</th>\n",
       "      <td>0</td>\n",
       "      <td>0.229116</td>\n",
       "      <td>6795</td>\n",
       "      <td>0</td>\n",
       "      <td>1</td>\n",
       "      <td>1</td>\n",
       "      <td>1</td>\n",
       "      <td>0</td>\n",
       "      <td>0</td>\n",
       "      <td>0</td>\n",
       "      <td>0</td>\n",
       "      <td>0</td>\n",
       "      <td>0</td>\n",
       "      <td>0</td>\n",
       "      <td>0</td>\n",
       "    </tr>\n",
       "    <tr>\n",
       "      <th>2</th>\n",
       "      <td>0</td>\n",
       "      <td>0.235047</td>\n",
       "      <td>3516</td>\n",
       "      <td>0</td>\n",
       "      <td>1</td>\n",
       "      <td>1</td>\n",
       "      <td>1</td>\n",
       "      <td>0</td>\n",
       "      <td>0</td>\n",
       "      <td>0</td>\n",
       "      <td>0</td>\n",
       "      <td>0</td>\n",
       "      <td>0</td>\n",
       "      <td>0</td>\n",
       "      <td>0</td>\n",
       "    </tr>\n",
       "    <tr>\n",
       "      <th>3</th>\n",
       "      <td>0</td>\n",
       "      <td>0.876714</td>\n",
       "      <td>8105</td>\n",
       "      <td>1</td>\n",
       "      <td>1</td>\n",
       "      <td>1</td>\n",
       "      <td>1</td>\n",
       "      <td>1</td>\n",
       "      <td>1</td>\n",
       "      <td>1</td>\n",
       "      <td>1</td>\n",
       "      <td>1</td>\n",
       "      <td>1</td>\n",
       "      <td>0</td>\n",
       "      <td>1</td>\n",
       "    </tr>\n",
       "    <tr>\n",
       "      <th>4</th>\n",
       "      <td>0</td>\n",
       "      <td>0.093779</td>\n",
       "      <td>3934</td>\n",
       "      <td>0</td>\n",
       "      <td>1</td>\n",
       "      <td>0</td>\n",
       "      <td>0</td>\n",
       "      <td>0</td>\n",
       "      <td>0</td>\n",
       "      <td>0</td>\n",
       "      <td>0</td>\n",
       "      <td>0</td>\n",
       "      <td>0</td>\n",
       "      <td>0</td>\n",
       "      <td>0</td>\n",
       "    </tr>\n",
       "  </tbody>\n",
       "</table>\n",
       "</div>"
      ],
      "text/plain": [
       "   Converted  Converted_prob  Prospect ID  Predicted  0.0  0.1  0.2  0.3  0.4  \\\n",
       "0          0        0.203132         1871          0    1    1    1    0    0   \n",
       "1          0        0.229116         6795          0    1    1    1    0    0   \n",
       "2          0        0.235047         3516          0    1    1    1    0    0   \n",
       "3          0        0.876714         8105          1    1    1    1    1    1   \n",
       "4          0        0.093779         3934          0    1    0    0    0    0   \n",
       "\n",
       "   0.5  0.6  0.7  0.8  0.9  final_Predicted  \n",
       "0    0    0    0    0    0                0  \n",
       "1    0    0    0    0    0                0  \n",
       "2    0    0    0    0    0                0  \n",
       "3    1    1    1    1    0                1  \n",
       "4    0    0    0    0    0                0  "
      ]
     },
     "execution_count": 101,
     "metadata": {},
     "output_type": "execute_result"
    }
   ],
   "source": [
    "#### From the curve above, 0.35 is the optimum point to take it as a cutoff probability.\n",
    "\n",
    "y_train_pred_final['final_Predicted'] = y_train_pred_final.Converted_prob.map( lambda x: 1 if x > 0.3 else 0)\n",
    "\n",
    "y_train_pred_final.head()"
   ]
  },
  {
   "cell_type": "code",
   "execution_count": 102,
   "metadata": {},
   "outputs": [
    {
     "data": {
      "text/html": [
       "<div>\n",
       "<style scoped>\n",
       "    .dataframe tbody tr th:only-of-type {\n",
       "        vertical-align: middle;\n",
       "    }\n",
       "\n",
       "    .dataframe tbody tr th {\n",
       "        vertical-align: top;\n",
       "    }\n",
       "\n",
       "    .dataframe thead th {\n",
       "        text-align: right;\n",
       "    }\n",
       "</style>\n",
       "<table border=\"1\" class=\"dataframe\">\n",
       "  <thead>\n",
       "    <tr style=\"text-align: right;\">\n",
       "      <th></th>\n",
       "      <th>Converted</th>\n",
       "      <th>Converted_prob</th>\n",
       "      <th>Prospect ID</th>\n",
       "      <th>final_Predicted</th>\n",
       "      <th>Lead_Score</th>\n",
       "    </tr>\n",
       "  </thead>\n",
       "  <tbody>\n",
       "    <tr>\n",
       "      <th>0</th>\n",
       "      <td>0</td>\n",
       "      <td>0.203132</td>\n",
       "      <td>1871</td>\n",
       "      <td>0</td>\n",
       "      <td>20</td>\n",
       "    </tr>\n",
       "    <tr>\n",
       "      <th>1</th>\n",
       "      <td>0</td>\n",
       "      <td>0.229116</td>\n",
       "      <td>6795</td>\n",
       "      <td>0</td>\n",
       "      <td>23</td>\n",
       "    </tr>\n",
       "    <tr>\n",
       "      <th>2</th>\n",
       "      <td>0</td>\n",
       "      <td>0.235047</td>\n",
       "      <td>3516</td>\n",
       "      <td>0</td>\n",
       "      <td>24</td>\n",
       "    </tr>\n",
       "    <tr>\n",
       "      <th>3</th>\n",
       "      <td>0</td>\n",
       "      <td>0.876714</td>\n",
       "      <td>8105</td>\n",
       "      <td>1</td>\n",
       "      <td>88</td>\n",
       "    </tr>\n",
       "    <tr>\n",
       "      <th>4</th>\n",
       "      <td>0</td>\n",
       "      <td>0.093779</td>\n",
       "      <td>3934</td>\n",
       "      <td>0</td>\n",
       "      <td>9</td>\n",
       "    </tr>\n",
       "  </tbody>\n",
       "</table>\n",
       "</div>"
      ],
      "text/plain": [
       "   Converted  Converted_prob  Prospect ID  final_Predicted  Lead_Score\n",
       "0          0        0.203132         1871                0          20\n",
       "1          0        0.229116         6795                0          23\n",
       "2          0        0.235047         3516                0          24\n",
       "3          0        0.876714         8105                1          88\n",
       "4          0        0.093779         3934                0           9"
      ]
     },
     "execution_count": 102,
     "metadata": {},
     "output_type": "execute_result"
    }
   ],
   "source": [
    "y_train_pred_final['Lead_Score'] = y_train_pred_final.Converted_prob.map( lambda x: round(x*100))\n",
    "\n",
    "y_train_pred_final[['Converted','Converted_prob','Prospect ID','final_Predicted','Lead_Score']].head()"
   ]
  },
  {
   "cell_type": "code",
   "execution_count": 103,
   "metadata": {},
   "outputs": [
    {
     "data": {
      "text/plain": [
       "0.7923623995052567"
      ]
     },
     "execution_count": 103,
     "metadata": {},
     "output_type": "execute_result"
    }
   ],
   "source": [
    "# Let's check the overall accuracy.\n",
    "metrics.accuracy_score(y_train_pred_final.Converted, y_train_pred_final.final_Predicted)"
   ]
  },
  {
   "cell_type": "code",
   "execution_count": 104,
   "metadata": {},
   "outputs": [
    {
     "data": {
      "text/plain": [
       "array([[3065,  937],\n",
       "       [ 406, 2060]], dtype=int64)"
      ]
     },
     "execution_count": 104,
     "metadata": {},
     "output_type": "execute_result"
    }
   ],
   "source": [
    "confusion2 = metrics.confusion_matrix(y_train_pred_final.Converted, y_train_pred_final.final_Predicted )\n",
    "confusion2"
   ]
  },
  {
   "cell_type": "code",
   "execution_count": 105,
   "metadata": {},
   "outputs": [],
   "source": [
    "TP = confusion2[1,1] # true positive \n",
    "TN = confusion2[0,0] # true negatives\n",
    "FP = confusion2[0,1] # false positives\n",
    "FN = confusion2[1,0] # false negatives"
   ]
  },
  {
   "cell_type": "code",
   "execution_count": 106,
   "metadata": {},
   "outputs": [
    {
     "data": {
      "text/plain": [
       "0.8353609083536091"
      ]
     },
     "execution_count": 106,
     "metadata": {},
     "output_type": "execute_result"
    }
   ],
   "source": [
    "# Let's see the sensitivity of our logistic regression model\n",
    "TP / float(TP+FN)"
   ]
  },
  {
   "cell_type": "code",
   "execution_count": 107,
   "metadata": {},
   "outputs": [
    {
     "data": {
      "text/plain": [
       "0.7658670664667666"
      ]
     },
     "execution_count": 107,
     "metadata": {},
     "output_type": "execute_result"
    }
   ],
   "source": [
    "# Let us calculate specificity\n",
    "TN / float(TN+FP)"
   ]
  },
  {
   "cell_type": "markdown",
   "metadata": {},
   "source": [
    "Observation:\n",
    "So as we can see above the model seems to be performing well. The ROC curve has a value of 0.88, which is  good. We have the following values for the Train Data:\n",
    "\n",
    "Accuracy : 79%\n",
    "Sensitivity : 84%\n",
    "Specificity : 77%\n",
    "Some of the other Stats are derived below, indicating the False Positive Rate, Positive Predictive Value,Negative Predictive Values, Precision & Recall."
   ]
  },
  {
   "cell_type": "code",
   "execution_count": 108,
   "metadata": {},
   "outputs": [
    {
     "name": "stdout",
     "output_type": "stream",
     "text": [
      "0.2341329335332334\n"
     ]
    }
   ],
   "source": [
    "# Calculate False Postive Rate - predicting conversion when customer does not have convert\n",
    "print(FP/ float(TN+FP))"
   ]
  },
  {
   "cell_type": "code",
   "execution_count": 109,
   "metadata": {},
   "outputs": [
    {
     "name": "stdout",
     "output_type": "stream",
     "text": [
      "0.6873540206873541\n"
     ]
    }
   ],
   "source": [
    "# Positive predictive value \n",
    "print (TP / float(TP+FP))"
   ]
  },
  {
   "cell_type": "code",
   "execution_count": 110,
   "metadata": {},
   "outputs": [
    {
     "name": "stdout",
     "output_type": "stream",
     "text": [
      "0.8830308268510516\n"
     ]
    }
   ],
   "source": [
    "# Negative predictive value\n",
    "print (TN / float(TN+ FN))"
   ]
  },
  {
   "cell_type": "code",
   "execution_count": 111,
   "metadata": {},
   "outputs": [
    {
     "data": {
      "text/plain": [
       "array([[3065,  937],\n",
       "       [ 406, 2060]], dtype=int64)"
      ]
     },
     "execution_count": 111,
     "metadata": {},
     "output_type": "execute_result"
    }
   ],
   "source": [
    "#Looking at the confusion matrix again\n",
    "\n",
    "confusion = metrics.confusion_matrix(y_train_pred_final.Converted, y_train_pred_final.final_Predicted )\n",
    "confusion"
   ]
  },
  {
   "cell_type": "code",
   "execution_count": 112,
   "metadata": {},
   "outputs": [
    {
     "data": {
      "text/plain": [
       "0.6873540206873541"
      ]
     },
     "execution_count": 112,
     "metadata": {},
     "output_type": "execute_result"
    }
   ],
   "source": [
    "##### Precision\n",
    "TP / TP + FP\n",
    "\n",
    "confusion[1,1]/(confusion[0,1]+confusion[1,1])"
   ]
  },
  {
   "cell_type": "code",
   "execution_count": 113,
   "metadata": {},
   "outputs": [
    {
     "data": {
      "text/plain": [
       "0.8353609083536091"
      ]
     },
     "execution_count": 113,
     "metadata": {},
     "output_type": "execute_result"
    }
   ],
   "source": [
    "##### Recall\n",
    "TP / TP + FN\n",
    "\n",
    "confusion[1,1]/(confusion[1,0]+confusion[1,1])"
   ]
  },
  {
   "cell_type": "code",
   "execution_count": 114,
   "metadata": {},
   "outputs": [],
   "source": [
    "from sklearn.metrics import precision_score, recall_score"
   ]
  },
  {
   "cell_type": "code",
   "execution_count": 115,
   "metadata": {},
   "outputs": [
    {
     "data": {
      "text/plain": [
       "0.6873540206873541"
      ]
     },
     "execution_count": 115,
     "metadata": {},
     "output_type": "execute_result"
    }
   ],
   "source": [
    "precision_score(y_train_pred_final.Converted , y_train_pred_final.final_Predicted)"
   ]
  },
  {
   "cell_type": "code",
   "execution_count": 116,
   "metadata": {},
   "outputs": [
    {
     "data": {
      "text/plain": [
       "0.8353609083536091"
      ]
     },
     "execution_count": 116,
     "metadata": {},
     "output_type": "execute_result"
    }
   ],
   "source": [
    "recall_score(y_train_pred_final.Converted, y_train_pred_final.final_Predicted)"
   ]
  },
  {
   "cell_type": "code",
   "execution_count": 117,
   "metadata": {},
   "outputs": [],
   "source": [
    "from sklearn.metrics import precision_recall_curve"
   ]
  },
  {
   "cell_type": "code",
   "execution_count": 118,
   "metadata": {},
   "outputs": [],
   "source": [
    "y_train_pred_final.Converted, y_train_pred_final.final_Predicted\n",
    "p, r, thresholds = precision_recall_curve(y_train_pred_final.Converted, y_train_pred_final.Converted_prob)"
   ]
  },
  {
   "cell_type": "code",
   "execution_count": 119,
   "metadata": {},
   "outputs": [
    {
     "data": {
      "image/png": "[encoded data removed]",
      "text/plain": [
       "<Figure size 432x288 with 1 Axes>"
      ]
     },
     "metadata": {
      "needs_background": "light"
     },
     "output_type": "display_data"
    }
   ],
   "source": [
    "plt.plot(thresholds, p[:-1], \"g-\")\n",
    "plt.plot(thresholds, r[:-1], \"r-\")\n",
    "plt.show()"
   ]
  },
  {
   "cell_type": "code",
   "execution_count": 120,
   "metadata": {},
   "outputs": [
    {
     "data": {
      "text/html": [
       "<div>\n",
       "<style scoped>\n",
       "    .dataframe tbody tr th:only-of-type {\n",
       "        vertical-align: middle;\n",
       "    }\n",
       "\n",
       "    .dataframe tbody tr th {\n",
       "        vertical-align: top;\n",
       "    }\n",
       "\n",
       "    .dataframe thead th {\n",
       "        text-align: right;\n",
       "    }\n",
       "</style>\n",
       "<table border=\"1\" class=\"dataframe\">\n",
       "  <thead>\n",
       "    <tr style=\"text-align: right;\">\n",
       "      <th></th>\n",
       "      <th>Do Not Email</th>\n",
       "      <th>Do Not Call</th>\n",
       "      <th>TotalVisits</th>\n",
       "      <th>Total Time Spent on Website</th>\n",
       "      <th>Page Views Per Visit</th>\n",
       "      <th>Search</th>\n",
       "      <th>Newspaper Article</th>\n",
       "      <th>X Education Forums</th>\n",
       "      <th>Newspaper</th>\n",
       "      <th>Digital Advertisement</th>\n",
       "      <th>...</th>\n",
       "      <th>Last Notable Activity_email bounced</th>\n",
       "      <th>Last Notable Activity_email link clicked</th>\n",
       "      <th>Last Notable Activity_email opened</th>\n",
       "      <th>Last Notable Activity_had a phone conversation</th>\n",
       "      <th>Last Notable Activity_modified</th>\n",
       "      <th>Last Notable Activity_olark chat conversation</th>\n",
       "      <th>Last Notable Activity_page visited on website</th>\n",
       "      <th>Last Notable Activity_sms sent</th>\n",
       "      <th>Last Notable Activity_unreachable</th>\n",
       "      <th>Last Notable Activity_unsubscribed</th>\n",
       "    </tr>\n",
       "  </thead>\n",
       "  <tbody>\n",
       "    <tr>\n",
       "      <th>4269</th>\n",
       "      <td>-0.298654</td>\n",
       "      <td>0.0</td>\n",
       "      <td>1.324501</td>\n",
       "      <td>0.933036</td>\n",
       "      <td>2.660405</td>\n",
       "      <td>-0.032915</td>\n",
       "      <td>0.0</td>\n",
       "      <td>0.0</td>\n",
       "      <td>0.0</td>\n",
       "      <td>-0.018997</td>\n",
       "      <td>...</td>\n",
       "      <td>0</td>\n",
       "      <td>0</td>\n",
       "      <td>0</td>\n",
       "      <td>0</td>\n",
       "      <td>0</td>\n",
       "      <td>0</td>\n",
       "      <td>0</td>\n",
       "      <td>1</td>\n",
       "      <td>0</td>\n",
       "      <td>0</td>\n",
       "    </tr>\n",
       "    <tr>\n",
       "      <th>2376</th>\n",
       "      <td>-0.298654</td>\n",
       "      <td>0.0</td>\n",
       "      <td>-0.944318</td>\n",
       "      <td>-0.900812</td>\n",
       "      <td>-1.108316</td>\n",
       "      <td>-0.032915</td>\n",
       "      <td>0.0</td>\n",
       "      <td>0.0</td>\n",
       "      <td>0.0</td>\n",
       "      <td>-0.018997</td>\n",
       "      <td>...</td>\n",
       "      <td>0</td>\n",
       "      <td>0</td>\n",
       "      <td>0</td>\n",
       "      <td>0</td>\n",
       "      <td>0</td>\n",
       "      <td>0</td>\n",
       "      <td>0</td>\n",
       "      <td>1</td>\n",
       "      <td>0</td>\n",
       "      <td>0</td>\n",
       "    </tr>\n",
       "    <tr>\n",
       "      <th>7766</th>\n",
       "      <td>-0.298654</td>\n",
       "      <td>0.0</td>\n",
       "      <td>0.473694</td>\n",
       "      <td>-0.793792</td>\n",
       "      <td>1.247135</td>\n",
       "      <td>-0.032915</td>\n",
       "      <td>0.0</td>\n",
       "      <td>0.0</td>\n",
       "      <td>0.0</td>\n",
       "      <td>-0.018997</td>\n",
       "      <td>...</td>\n",
       "      <td>0</td>\n",
       "      <td>0</td>\n",
       "      <td>0</td>\n",
       "      <td>0</td>\n",
       "      <td>0</td>\n",
       "      <td>0</td>\n",
       "      <td>0</td>\n",
       "      <td>0</td>\n",
       "      <td>1</td>\n",
       "      <td>0</td>\n",
       "    </tr>\n",
       "    <tr>\n",
       "      <th>9199</th>\n",
       "      <td>-0.298654</td>\n",
       "      <td>0.0</td>\n",
       "      <td>-0.944318</td>\n",
       "      <td>-0.900812</td>\n",
       "      <td>-1.108316</td>\n",
       "      <td>-0.032915</td>\n",
       "      <td>0.0</td>\n",
       "      <td>0.0</td>\n",
       "      <td>0.0</td>\n",
       "      <td>-0.018997</td>\n",
       "      <td>...</td>\n",
       "      <td>0</td>\n",
       "      <td>0</td>\n",
       "      <td>0</td>\n",
       "      <td>0</td>\n",
       "      <td>1</td>\n",
       "      <td>0</td>\n",
       "      <td>0</td>\n",
       "      <td>0</td>\n",
       "      <td>0</td>\n",
       "      <td>0</td>\n",
       "    </tr>\n",
       "    <tr>\n",
       "      <th>4359</th>\n",
       "      <td>-0.298654</td>\n",
       "      <td>0.0</td>\n",
       "      <td>-0.944318</td>\n",
       "      <td>-0.900812</td>\n",
       "      <td>-1.108316</td>\n",
       "      <td>-0.032915</td>\n",
       "      <td>0.0</td>\n",
       "      <td>0.0</td>\n",
       "      <td>0.0</td>\n",
       "      <td>-0.018997</td>\n",
       "      <td>...</td>\n",
       "      <td>0</td>\n",
       "      <td>0</td>\n",
       "      <td>1</td>\n",
       "      <td>0</td>\n",
       "      <td>0</td>\n",
       "      <td>0</td>\n",
       "      <td>0</td>\n",
       "      <td>0</td>\n",
       "      <td>0</td>\n",
       "      <td>0</td>\n",
       "    </tr>\n",
       "  </tbody>\n",
       "</table>\n",
       "<p>5 rows × 68 columns</p>\n",
       "</div>"
      ],
      "text/plain": [
       "      Do Not Email  Do Not Call  TotalVisits  Total Time Spent on Website  \\\n",
       "4269     -0.298654          0.0     1.324501                     0.933036   \n",
       "2376     -0.298654          0.0    -0.944318                    -0.900812   \n",
       "7766     -0.298654          0.0     0.473694                    -0.793792   \n",
       "9199     -0.298654          0.0    -0.944318                    -0.900812   \n",
       "4359     -0.298654          0.0    -0.944318                    -0.900812   \n",
       "\n",
       "      Page Views Per Visit    Search  Newspaper Article  X Education Forums  \\\n",
       "4269              2.660405 -0.032915                0.0                 0.0   \n",
       "2376             -1.108316 -0.032915                0.0                 0.0   \n",
       "7766              1.247135 -0.032915                0.0                 0.0   \n",
       "9199             -1.108316 -0.032915                0.0                 0.0   \n",
       "4359             -1.108316 -0.032915                0.0                 0.0   \n",
       "\n",
       "      Newspaper  Digital Advertisement  ...  \\\n",
       "4269        0.0              -0.018997  ...   \n",
       "2376        0.0              -0.018997  ...   \n",
       "7766        0.0              -0.018997  ...   \n",
       "9199        0.0              -0.018997  ...   \n",
       "4359        0.0              -0.018997  ...   \n",
       "\n",
       "      Last Notable Activity_email bounced  \\\n",
       "4269                                    0   \n",
       "2376                                    0   \n",
       "7766                                    0   \n",
       "9199                                    0   \n",
       "4359                                    0   \n",
       "\n",
       "      Last Notable Activity_email link clicked  \\\n",
       "4269                                         0   \n",
       "2376                                         0   \n",
       "7766                                         0   \n",
       "9199                                         0   \n",
       "4359                                         0   \n",
       "\n",
       "      Last Notable Activity_email opened  \\\n",
       "4269                                   0   \n",
       "2376                                   0   \n",
       "7766                                   0   \n",
       "9199                                   0   \n",
       "4359                                   1   \n",
       "\n",
       "      Last Notable Activity_had a phone conversation  \\\n",
       "4269                                               0   \n",
       "2376                                               0   \n",
       "7766                                               0   \n",
       "9199                                               0   \n",
       "4359                                               0   \n",
       "\n",
       "      Last Notable Activity_modified  \\\n",
       "4269                               0   \n",
       "2376                               0   \n",
       "7766                               0   \n",
       "9199                               1   \n",
       "4359                               0   \n",
       "\n",
       "      Last Notable Activity_olark chat conversation  \\\n",
       "4269                                              0   \n",
       "2376                                              0   \n",
       "7766                                              0   \n",
       "9199                                              0   \n",
       "4359                                              0   \n",
       "\n",
       "      Last Notable Activity_page visited on website  \\\n",
       "4269                                              0   \n",
       "2376                                              0   \n",
       "7766                                              0   \n",
       "9199                                              0   \n",
       "4359                                              0   \n",
       "\n",
       "      Last Notable Activity_sms sent  Last Notable Activity_unreachable  \\\n",
       "4269                               1                                  0   \n",
       "2376                               1                                  0   \n",
       "7766                               0                                  1   \n",
       "9199                               0                                  0   \n",
       "4359                               0                                  0   \n",
       "\n",
       "      Last Notable Activity_unsubscribed  \n",
       "4269                                   0  \n",
       "2376                                   0  \n",
       "7766                                   0  \n",
       "9199                                   0  \n",
       "4359                                   0  \n",
       "\n",
       "[5 rows x 68 columns]"
      ]
     },
     "execution_count": 120,
     "metadata": {},
     "output_type": "execute_result"
    }
   ],
   "source": [
    "#scaling test set\n",
    "\n",
    "num_cols=X_test.select_dtypes(include=['float64', 'int64']).columns\n",
    "\n",
    "X_test[num_cols] = scaler.fit_transform(X_test[num_cols])\n",
    "\n",
    "X_test.head()"
   ]
  },
  {
   "cell_type": "code",
   "execution_count": 121,
   "metadata": {},
   "outputs": [
    {
     "data": {
      "text/html": [
       "<div>\n",
       "<style scoped>\n",
       "    .dataframe tbody tr th:only-of-type {\n",
       "        vertical-align: middle;\n",
       "    }\n",
       "\n",
       "    .dataframe tbody tr th {\n",
       "        vertical-align: top;\n",
       "    }\n",
       "\n",
       "    .dataframe thead th {\n",
       "        text-align: right;\n",
       "    }\n",
       "</style>\n",
       "<table border=\"1\" class=\"dataframe\">\n",
       "  <thead>\n",
       "    <tr style=\"text-align: right;\">\n",
       "      <th></th>\n",
       "      <th>Total Time Spent on Website</th>\n",
       "      <th>Lead Origin_lead add form</th>\n",
       "      <th>Lead Source_direct traffic</th>\n",
       "      <th>Lead Source_organic search</th>\n",
       "      <th>Lead Source_welingak website</th>\n",
       "      <th>Last Activity_email bounced</th>\n",
       "      <th>Last Activity_sms sent</th>\n",
       "      <th>What is your current occupation_student</th>\n",
       "      <th>What is your current occupation_unemployed</th>\n",
       "      <th>What is your current occupation_working professional</th>\n",
       "      <th>Last Notable Activity_modified</th>\n",
       "      <th>Last Notable Activity_unreachable</th>\n",
       "    </tr>\n",
       "  </thead>\n",
       "  <tbody>\n",
       "    <tr>\n",
       "      <th>4269</th>\n",
       "      <td>0.933036</td>\n",
       "      <td>0</td>\n",
       "      <td>1</td>\n",
       "      <td>0</td>\n",
       "      <td>0</td>\n",
       "      <td>0</td>\n",
       "      <td>1</td>\n",
       "      <td>0</td>\n",
       "      <td>0</td>\n",
       "      <td>0</td>\n",
       "      <td>0</td>\n",
       "      <td>0</td>\n",
       "    </tr>\n",
       "    <tr>\n",
       "      <th>2376</th>\n",
       "      <td>-0.900812</td>\n",
       "      <td>1</td>\n",
       "      <td>0</td>\n",
       "      <td>0</td>\n",
       "      <td>0</td>\n",
       "      <td>0</td>\n",
       "      <td>1</td>\n",
       "      <td>0</td>\n",
       "      <td>1</td>\n",
       "      <td>0</td>\n",
       "      <td>0</td>\n",
       "      <td>0</td>\n",
       "    </tr>\n",
       "    <tr>\n",
       "      <th>7766</th>\n",
       "      <td>-0.793792</td>\n",
       "      <td>0</td>\n",
       "      <td>0</td>\n",
       "      <td>0</td>\n",
       "      <td>0</td>\n",
       "      <td>0</td>\n",
       "      <td>0</td>\n",
       "      <td>0</td>\n",
       "      <td>0</td>\n",
       "      <td>1</td>\n",
       "      <td>0</td>\n",
       "      <td>1</td>\n",
       "    </tr>\n",
       "    <tr>\n",
       "      <th>9199</th>\n",
       "      <td>-0.900812</td>\n",
       "      <td>0</td>\n",
       "      <td>0</td>\n",
       "      <td>0</td>\n",
       "      <td>0</td>\n",
       "      <td>0</td>\n",
       "      <td>0</td>\n",
       "      <td>0</td>\n",
       "      <td>1</td>\n",
       "      <td>0</td>\n",
       "      <td>1</td>\n",
       "      <td>0</td>\n",
       "    </tr>\n",
       "    <tr>\n",
       "      <th>4359</th>\n",
       "      <td>-0.900812</td>\n",
       "      <td>1</td>\n",
       "      <td>0</td>\n",
       "      <td>0</td>\n",
       "      <td>0</td>\n",
       "      <td>0</td>\n",
       "      <td>0</td>\n",
       "      <td>0</td>\n",
       "      <td>1</td>\n",
       "      <td>0</td>\n",
       "      <td>0</td>\n",
       "      <td>0</td>\n",
       "    </tr>\n",
       "  </tbody>\n",
       "</table>\n",
       "</div>"
      ],
      "text/plain": [
       "      Total Time Spent on Website  Lead Origin_lead add form  \\\n",
       "4269                     0.933036                          0   \n",
       "2376                    -0.900812                          1   \n",
       "7766                    -0.793792                          0   \n",
       "9199                    -0.900812                          0   \n",
       "4359                    -0.900812                          1   \n",
       "\n",
       "      Lead Source_direct traffic  Lead Source_organic search  \\\n",
       "4269                           1                           0   \n",
       "2376                           0                           0   \n",
       "7766                           0                           0   \n",
       "9199                           0                           0   \n",
       "4359                           0                           0   \n",
       "\n",
       "      Lead Source_welingak website  Last Activity_email bounced  \\\n",
       "4269                             0                            0   \n",
       "2376                             0                            0   \n",
       "7766                             0                            0   \n",
       "9199                             0                            0   \n",
       "4359                             0                            0   \n",
       "\n",
       "      Last Activity_sms sent  What is your current occupation_student  \\\n",
       "4269                       1                                        0   \n",
       "2376                       1                                        0   \n",
       "7766                       0                                        0   \n",
       "9199                       0                                        0   \n",
       "4359                       0                                        0   \n",
       "\n",
       "      What is your current occupation_unemployed  \\\n",
       "4269                                           0   \n",
       "2376                                           1   \n",
       "7766                                           0   \n",
       "9199                                           1   \n",
       "4359                                           1   \n",
       "\n",
       "      What is your current occupation_working professional  \\\n",
       "4269                                                  0      \n",
       "2376                                                  0      \n",
       "7766                                                  1      \n",
       "9199                                                  0      \n",
       "4359                                                  0      \n",
       "\n",
       "      Last Notable Activity_modified  Last Notable Activity_unreachable  \n",
       "4269                               0                                  0  \n",
       "2376                               0                                  0  \n",
       "7766                               0                                  1  \n",
       "9199                               1                                  0  \n",
       "4359                               0                                  0  "
      ]
     },
     "execution_count": 121,
     "metadata": {},
     "output_type": "execute_result"
    }
   ],
   "source": [
    "X_test = X_test[col]\n",
    "X_test.head()"
   ]
  },
  {
   "cell_type": "code",
   "execution_count": 122,
   "metadata": {},
   "outputs": [],
   "source": [
    "X_test_sm = sm.add_constant(X_test)"
   ]
  },
  {
   "cell_type": "markdown",
   "metadata": {},
   "source": [
    "# PREDICTIONS ON TEST SET"
   ]
  },
  {
   "cell_type": "code",
   "execution_count": 123,
   "metadata": {},
   "outputs": [],
   "source": [
    "y_test_pred = res.predict(X_test_sm)"
   ]
  },
  {
   "cell_type": "code",
   "execution_count": 124,
   "metadata": {},
   "outputs": [
    {
     "data": {
      "text/plain": [
       "4269    0.459784\n",
       "2376    0.940368\n",
       "7766    0.949844\n",
       "9199    0.092523\n",
       "4359    0.831624\n",
       "9186    0.700224\n",
       "1631    0.595807\n",
       "8963    0.286283\n",
       "8007    0.063914\n",
       "5324    0.514674\n",
       "dtype: float64"
      ]
     },
     "execution_count": 124,
     "metadata": {},
     "output_type": "execute_result"
    }
   ],
   "source": [
    "y_test_pred[:10]"
   ]
  },
  {
   "cell_type": "code",
   "execution_count": 125,
   "metadata": {},
   "outputs": [],
   "source": [
    "# Converting y_pred to a dataframe which is an array\n",
    "y_pred_1 = pd.DataFrame(y_test_pred)"
   ]
  },
  {
   "cell_type": "code",
   "execution_count": 126,
   "metadata": {},
   "outputs": [
    {
     "data": {
      "text/html": [
       "<div>\n",
       "<style scoped>\n",
       "    .dataframe tbody tr th:only-of-type {\n",
       "        vertical-align: middle;\n",
       "    }\n",
       "\n",
       "    .dataframe tbody tr th {\n",
       "        vertical-align: top;\n",
       "    }\n",
       "\n",
       "    .dataframe thead th {\n",
       "        text-align: right;\n",
       "    }\n",
       "</style>\n",
       "<table border=\"1\" class=\"dataframe\">\n",
       "  <thead>\n",
       "    <tr style=\"text-align: right;\">\n",
       "      <th></th>\n",
       "      <th>0</th>\n",
       "    </tr>\n",
       "  </thead>\n",
       "  <tbody>\n",
       "    <tr>\n",
       "      <th>4269</th>\n",
       "      <td>0.459784</td>\n",
       "    </tr>\n",
       "    <tr>\n",
       "      <th>2376</th>\n",
       "      <td>0.940368</td>\n",
       "    </tr>\n",
       "    <tr>\n",
       "      <th>7766</th>\n",
       "      <td>0.949844</td>\n",
       "    </tr>\n",
       "    <tr>\n",
       "      <th>9199</th>\n",
       "      <td>0.092523</td>\n",
       "    </tr>\n",
       "    <tr>\n",
       "      <th>4359</th>\n",
       "      <td>0.831624</td>\n",
       "    </tr>\n",
       "  </tbody>\n",
       "</table>\n",
       "</div>"
      ],
      "text/plain": [
       "             0\n",
       "4269  0.459784\n",
       "2376  0.940368\n",
       "7766  0.949844\n",
       "9199  0.092523\n",
       "4359  0.831624"
      ]
     },
     "execution_count": 126,
     "metadata": {},
     "output_type": "execute_result"
    }
   ],
   "source": [
    "# Let's see the head\n",
    "y_pred_1.head()"
   ]
  },
  {
   "cell_type": "code",
   "execution_count": 127,
   "metadata": {},
   "outputs": [],
   "source": [
    "# Converting y_test to dataframe\n",
    "y_test_df = pd.DataFrame(y_test)"
   ]
  },
  {
   "cell_type": "code",
   "execution_count": 128,
   "metadata": {},
   "outputs": [],
   "source": [
    "# Putting CustID to index\n",
    "y_test_df['Prospect ID'] = y_test_df.index"
   ]
  },
  {
   "cell_type": "code",
   "execution_count": 129,
   "metadata": {},
   "outputs": [],
   "source": [
    "# Removing index for both dataframes to append them side by side \n",
    "y_pred_1.reset_index(drop=True, inplace=True)\n",
    "y_test_df.reset_index(drop=True, inplace=True)"
   ]
  },
  {
   "cell_type": "code",
   "execution_count": 130,
   "metadata": {},
   "outputs": [],
   "source": [
    "# Appending y_test_df and y_pred_1\n",
    "y_pred_final = pd.concat([y_test_df, y_pred_1],axis=1)"
   ]
  },
  {
   "cell_type": "code",
   "execution_count": 131,
   "metadata": {},
   "outputs": [
    {
     "data": {
      "text/html": [
       "<div>\n",
       "<style scoped>\n",
       "    .dataframe tbody tr th:only-of-type {\n",
       "        vertical-align: middle;\n",
       "    }\n",
       "\n",
       "    .dataframe tbody tr th {\n",
       "        vertical-align: top;\n",
       "    }\n",
       "\n",
       "    .dataframe thead th {\n",
       "        text-align: right;\n",
       "    }\n",
       "</style>\n",
       "<table border=\"1\" class=\"dataframe\">\n",
       "  <thead>\n",
       "    <tr style=\"text-align: right;\">\n",
       "      <th></th>\n",
       "      <th>Converted</th>\n",
       "      <th>Prospect ID</th>\n",
       "      <th>0</th>\n",
       "    </tr>\n",
       "  </thead>\n",
       "  <tbody>\n",
       "    <tr>\n",
       "      <th>0</th>\n",
       "      <td>1</td>\n",
       "      <td>4269</td>\n",
       "      <td>0.459784</td>\n",
       "    </tr>\n",
       "    <tr>\n",
       "      <th>1</th>\n",
       "      <td>1</td>\n",
       "      <td>2376</td>\n",
       "      <td>0.940368</td>\n",
       "    </tr>\n",
       "    <tr>\n",
       "      <th>2</th>\n",
       "      <td>1</td>\n",
       "      <td>7766</td>\n",
       "      <td>0.949844</td>\n",
       "    </tr>\n",
       "    <tr>\n",
       "      <th>3</th>\n",
       "      <td>0</td>\n",
       "      <td>9199</td>\n",
       "      <td>0.092523</td>\n",
       "    </tr>\n",
       "    <tr>\n",
       "      <th>4</th>\n",
       "      <td>1</td>\n",
       "      <td>4359</td>\n",
       "      <td>0.831624</td>\n",
       "    </tr>\n",
       "  </tbody>\n",
       "</table>\n",
       "</div>"
      ],
      "text/plain": [
       "   Converted  Prospect ID         0\n",
       "0          1         4269  0.459784\n",
       "1          1         2376  0.940368\n",
       "2          1         7766  0.949844\n",
       "3          0         9199  0.092523\n",
       "4          1         4359  0.831624"
      ]
     },
     "execution_count": 131,
     "metadata": {},
     "output_type": "execute_result"
    }
   ],
   "source": [
    "y_pred_final.head()"
   ]
  },
  {
   "cell_type": "code",
   "execution_count": 132,
   "metadata": {},
   "outputs": [],
   "source": [
    "# Renaming the column \n",
    "y_pred_final= y_pred_final.rename(columns={ 0 : 'Converted_prob'})"
   ]
  },
  {
   "cell_type": "code",
   "execution_count": 133,
   "metadata": {},
   "outputs": [
    {
     "data": {
      "text/html": [
       "<div>\n",
       "<style scoped>\n",
       "    .dataframe tbody tr th:only-of-type {\n",
       "        vertical-align: middle;\n",
       "    }\n",
       "\n",
       "    .dataframe tbody tr th {\n",
       "        vertical-align: top;\n",
       "    }\n",
       "\n",
       "    .dataframe thead th {\n",
       "        text-align: right;\n",
       "    }\n",
       "</style>\n",
       "<table border=\"1\" class=\"dataframe\">\n",
       "  <thead>\n",
       "    <tr style=\"text-align: right;\">\n",
       "      <th></th>\n",
       "      <th>Converted</th>\n",
       "      <th>Prospect ID</th>\n",
       "      <th>Converted_prob</th>\n",
       "    </tr>\n",
       "  </thead>\n",
       "  <tbody>\n",
       "    <tr>\n",
       "      <th>0</th>\n",
       "      <td>1</td>\n",
       "      <td>4269</td>\n",
       "      <td>0.459784</td>\n",
       "    </tr>\n",
       "    <tr>\n",
       "      <th>1</th>\n",
       "      <td>1</td>\n",
       "      <td>2376</td>\n",
       "      <td>0.940368</td>\n",
       "    </tr>\n",
       "    <tr>\n",
       "      <th>2</th>\n",
       "      <td>1</td>\n",
       "      <td>7766</td>\n",
       "      <td>0.949844</td>\n",
       "    </tr>\n",
       "    <tr>\n",
       "      <th>3</th>\n",
       "      <td>0</td>\n",
       "      <td>9199</td>\n",
       "      <td>0.092523</td>\n",
       "    </tr>\n",
       "    <tr>\n",
       "      <th>4</th>\n",
       "      <td>1</td>\n",
       "      <td>4359</td>\n",
       "      <td>0.831624</td>\n",
       "    </tr>\n",
       "  </tbody>\n",
       "</table>\n",
       "</div>"
      ],
      "text/plain": [
       "   Converted  Prospect ID  Converted_prob\n",
       "0          1         4269        0.459784\n",
       "1          1         2376        0.940368\n",
       "2          1         7766        0.949844\n",
       "3          0         9199        0.092523\n",
       "4          1         4359        0.831624"
      ]
     },
     "execution_count": 133,
     "metadata": {},
     "output_type": "execute_result"
    }
   ],
   "source": [
    "y_pred_final.head()"
   ]
  },
  {
   "cell_type": "code",
   "execution_count": 134,
   "metadata": {},
   "outputs": [],
   "source": [
    "# Rearranging the columns\n",
    "y_pred_final = y_pred_final[['Prospect ID','Converted','Converted_prob']]\n",
    "y_pred_final['Lead_Score'] = y_pred_final.Converted_prob.map( lambda x: round(x*100))"
   ]
  },
  {
   "cell_type": "code",
   "execution_count": 135,
   "metadata": {},
   "outputs": [
    {
     "data": {
      "text/html": [
       "<div>\n",
       "<style scoped>\n",
       "    .dataframe tbody tr th:only-of-type {\n",
       "        vertical-align: middle;\n",
       "    }\n",
       "\n",
       "    .dataframe tbody tr th {\n",
       "        vertical-align: top;\n",
       "    }\n",
       "\n",
       "    .dataframe thead th {\n",
       "        text-align: right;\n",
       "    }\n",
       "</style>\n",
       "<table border=\"1\" class=\"dataframe\">\n",
       "  <thead>\n",
       "    <tr style=\"text-align: right;\">\n",
       "      <th></th>\n",
       "      <th>Prospect ID</th>\n",
       "      <th>Converted</th>\n",
       "      <th>Converted_prob</th>\n",
       "      <th>Lead_Score</th>\n",
       "    </tr>\n",
       "  </thead>\n",
       "  <tbody>\n",
       "    <tr>\n",
       "      <th>0</th>\n",
       "      <td>4269</td>\n",
       "      <td>1</td>\n",
       "      <td>0.459784</td>\n",
       "      <td>46</td>\n",
       "    </tr>\n",
       "    <tr>\n",
       "      <th>1</th>\n",
       "      <td>2376</td>\n",
       "      <td>1</td>\n",
       "      <td>0.940368</td>\n",
       "      <td>94</td>\n",
       "    </tr>\n",
       "    <tr>\n",
       "      <th>2</th>\n",
       "      <td>7766</td>\n",
       "      <td>1</td>\n",
       "      <td>0.949844</td>\n",
       "      <td>95</td>\n",
       "    </tr>\n",
       "    <tr>\n",
       "      <th>3</th>\n",
       "      <td>9199</td>\n",
       "      <td>0</td>\n",
       "      <td>0.092523</td>\n",
       "      <td>9</td>\n",
       "    </tr>\n",
       "    <tr>\n",
       "      <th>4</th>\n",
       "      <td>4359</td>\n",
       "      <td>1</td>\n",
       "      <td>0.831624</td>\n",
       "      <td>83</td>\n",
       "    </tr>\n",
       "  </tbody>\n",
       "</table>\n",
       "</div>"
      ],
      "text/plain": [
       "   Prospect ID  Converted  Converted_prob  Lead_Score\n",
       "0         4269          1        0.459784          46\n",
       "1         2376          1        0.940368          94\n",
       "2         7766          1        0.949844          95\n",
       "3         9199          0        0.092523           9\n",
       "4         4359          1        0.831624          83"
      ]
     },
     "execution_count": 135,
     "metadata": {},
     "output_type": "execute_result"
    }
   ],
   "source": [
    "# Let's see the head of y_pred_final\n",
    "y_pred_final.head()"
   ]
  },
  {
   "cell_type": "code",
   "execution_count": 136,
   "metadata": {},
   "outputs": [],
   "source": [
    "y_pred_final['final_Predicted'] = y_pred_final.Converted_prob.map(lambda x: 1 if x > 0.3 else 0)"
   ]
  },
  {
   "cell_type": "code",
   "execution_count": 137,
   "metadata": {},
   "outputs": [
    {
     "data": {
      "text/html": [
       "<div>\n",
       "<style scoped>\n",
       "    .dataframe tbody tr th:only-of-type {\n",
       "        vertical-align: middle;\n",
       "    }\n",
       "\n",
       "    .dataframe tbody tr th {\n",
       "        vertical-align: top;\n",
       "    }\n",
       "\n",
       "    .dataframe thead th {\n",
       "        text-align: right;\n",
       "    }\n",
       "</style>\n",
       "<table border=\"1\" class=\"dataframe\">\n",
       "  <thead>\n",
       "    <tr style=\"text-align: right;\">\n",
       "      <th></th>\n",
       "      <th>Prospect ID</th>\n",
       "      <th>Converted</th>\n",
       "      <th>Converted_prob</th>\n",
       "      <th>Lead_Score</th>\n",
       "      <th>final_Predicted</th>\n",
       "    </tr>\n",
       "  </thead>\n",
       "  <tbody>\n",
       "    <tr>\n",
       "      <th>0</th>\n",
       "      <td>4269</td>\n",
       "      <td>1</td>\n",
       "      <td>0.459784</td>\n",
       "      <td>46</td>\n",
       "      <td>1</td>\n",
       "    </tr>\n",
       "    <tr>\n",
       "      <th>1</th>\n",
       "      <td>2376</td>\n",
       "      <td>1</td>\n",
       "      <td>0.940368</td>\n",
       "      <td>94</td>\n",
       "      <td>1</td>\n",
       "    </tr>\n",
       "    <tr>\n",
       "      <th>2</th>\n",
       "      <td>7766</td>\n",
       "      <td>1</td>\n",
       "      <td>0.949844</td>\n",
       "      <td>95</td>\n",
       "      <td>1</td>\n",
       "    </tr>\n",
       "    <tr>\n",
       "      <th>3</th>\n",
       "      <td>9199</td>\n",
       "      <td>0</td>\n",
       "      <td>0.092523</td>\n",
       "      <td>9</td>\n",
       "      <td>0</td>\n",
       "    </tr>\n",
       "    <tr>\n",
       "      <th>4</th>\n",
       "      <td>4359</td>\n",
       "      <td>1</td>\n",
       "      <td>0.831624</td>\n",
       "      <td>83</td>\n",
       "      <td>1</td>\n",
       "    </tr>\n",
       "  </tbody>\n",
       "</table>\n",
       "</div>"
      ],
      "text/plain": [
       "   Prospect ID  Converted  Converted_prob  Lead_Score  final_Predicted\n",
       "0         4269          1        0.459784          46                1\n",
       "1         2376          1        0.940368          94                1\n",
       "2         7766          1        0.949844          95                1\n",
       "3         9199          0        0.092523           9                0\n",
       "4         4359          1        0.831624          83                1"
      ]
     },
     "execution_count": 137,
     "metadata": {},
     "output_type": "execute_result"
    }
   ],
   "source": [
    "y_pred_final.head()"
   ]
  },
  {
   "cell_type": "code",
   "execution_count": 138,
   "metadata": {},
   "outputs": [
    {
     "data": {
      "text/plain": [
       "0.7954545454545454"
      ]
     },
     "execution_count": 138,
     "metadata": {},
     "output_type": "execute_result"
    }
   ],
   "source": [
    "# Let's check the overall accuracy.\n",
    "metrics.accuracy_score(y_pred_final.Converted, y_pred_final.final_Predicted)"
   ]
  },
  {
   "cell_type": "code",
   "execution_count": 139,
   "metadata": {},
   "outputs": [
    {
     "data": {
      "text/plain": [
       "array([[1289,  388],\n",
       "       [ 179,  916]], dtype=int64)"
      ]
     },
     "execution_count": 139,
     "metadata": {},
     "output_type": "execute_result"
    }
   ],
   "source": [
    "confusion2 = metrics.confusion_matrix(y_pred_final.Converted, y_pred_final.final_Predicted )\n",
    "confusion2"
   ]
  },
  {
   "cell_type": "code",
   "execution_count": 140,
   "metadata": {},
   "outputs": [],
   "source": [
    "TP = confusion2[1,1] # true positive \n",
    "TN = confusion2[0,0] # true negatives\n",
    "FP = confusion2[0,1] # false positives\n",
    "FN = confusion2[1,0] # false negatives"
   ]
  },
  {
   "cell_type": "code",
   "execution_count": 141,
   "metadata": {},
   "outputs": [
    {
     "data": {
      "text/plain": [
       "0.8365296803652968"
      ]
     },
     "execution_count": 141,
     "metadata": {},
     "output_type": "execute_result"
    }
   ],
   "source": [
    "# Let's see the sensitivity of our logistic regression model\n",
    "TP / float(TP+FN)"
   ]
  },
  {
   "cell_type": "code",
   "execution_count": 142,
   "metadata": {},
   "outputs": [
    {
     "data": {
      "text/plain": [
       "0.7686344663088849"
      ]
     },
     "execution_count": 142,
     "metadata": {},
     "output_type": "execute_result"
    }
   ],
   "source": [
    "# Let us calculate specificity\n",
    "TN / float(TN+FP)"
   ]
  },
  {
   "cell_type": "code",
   "execution_count": 143,
   "metadata": {},
   "outputs": [
    {
     "data": {
      "text/plain": [
       "0.7024539877300614"
      ]
     },
     "execution_count": 143,
     "metadata": {},
     "output_type": "execute_result"
    }
   ],
   "source": [
    "precision_score(y_pred_final.Converted , y_pred_final.final_Predicted)"
   ]
  },
  {
   "cell_type": "code",
   "execution_count": 144,
   "metadata": {},
   "outputs": [
    {
     "data": {
      "text/plain": [
       "0.8365296803652968"
      ]
     },
     "execution_count": 144,
     "metadata": {},
     "output_type": "execute_result"
    }
   ],
   "source": [
    "recall_score(y_pred_final.Converted, y_pred_final.final_Predicted)"
   ]
  },
  {
   "cell_type": "code",
   "execution_count": 145,
   "metadata": {},
   "outputs": [
    {
     "data": {
      "image/png": "[encoded data removed]",
      "text/plain": [
       "<Figure size 432x288 with 1 Axes>"
      ]
     },
     "metadata": {
      "needs_background": "light"
     },
     "output_type": "display_data"
    }
   ],
   "source": [
    "y_pred_final.Converted, y_pred_final.final_Predicted\n",
    "p, r, thresholds1 = precision_recall_curve(y_pred_final.Converted, y_pred_final.Converted_prob)\n",
    "plt.plot(thresholds1, p[:-1], \"g-\")\n",
    "plt.plot(thresholds1, r[:-1], \"r-\")\n",
    "plt.show()"
   ]
  },
  {
   "cell_type": "markdown",
   "metadata": {},
   "source": [
    "Observation:\n",
    "After running the model on the Test Data these are the figures we obtain:\n",
    "\n",
    "Accuracy : 79%\n",
    "Sensitivity : 83%\n",
    "Specificity : 77%"
   ]
  },
  {
   "cell_type": "markdown",
   "metadata": {},
   "source": [
    "Final Observation:\n",
    "Let us compare the values obtained for Train & Test:\n",
    "\n",
    "Train Data: \n",
    "Accuracy : 79%\n",
    "Sensitivity : 84%\n",
    "Specificity : 77%\n",
    "    \n",
    "Test Data: \n",
    "Accuracy : 80%\n",
    "Sensitivity : 83%\n",
    "Specificity : 77%"
   ]
  },
  {
   "cell_type": "code",
   "execution_count": null,
   "metadata": {},
   "outputs": [],
   "source": []
  }
 ],
 "metadata": {
  "kernelspec": {
   "display_name": "Python 3 (ipykernel)",
   "language": "python",
   "name": "python3"
  },
  "language_info": {
   "codemirror_mode": {
    "name": "ipython",
    "version": 3
   },
   "file_extension": ".py",
   "mimetype": "text/x-python",
   "name": "python",
   "nbconvert_exporter": "python",
   "pygments_lexer": "ipython3",
   "version": "3.9.12"
  }
 },
 "nbformat": 4,
 "nbformat_minor": 2
}
